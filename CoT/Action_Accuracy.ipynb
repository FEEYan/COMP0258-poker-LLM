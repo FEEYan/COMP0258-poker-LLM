{
 "cells": [
  {
   "cell_type": "code",
   "execution_count": null,
   "metadata": {},
   "outputs": [
    {
     "name": "stdout",
     "output_type": "stream",
     "text": [
      "\n",
      "📂 Evaluating file: Poker_Llama-31-8B-Instruct-FT_Base.csv\n",
      "\n",
      "📊 Postflop Accuracy: 13.00% (13/100)\n",
      "   • raise Accuracy: 20.00% (3/15)\n",
      "   • call  Accuracy: 4.00% (1/25)\n",
      "   • check Accuracy: 20.00% (5/25)\n",
      "   • fold  Accuracy: 16.00% (4/25)\n",
      "   • bet   Accuracy: 0.00% (0/10)\n",
      "\n",
      "📊 Preflop Accuracy: 14.00% (14/100)\n",
      "   • raise Accuracy: 12.00% (3/25)\n",
      "   • call  Accuracy: 32.00% (8/25)\n",
      "   • check Accuracy: 4.00% (1/25)\n",
      "   • fold  Accuracy: 8.00% (2/25)\n",
      "   • bet   Accuracy: 0.00% (0/0)\n",
      "\n",
      "📂 Evaluating file: Poker_Llama-32-3B-Instruct-FT_Base.csv\n",
      "\n",
      "📊 Postflop Accuracy: 12.00% (12/100)\n",
      "   • raise Accuracy: 80.00% (12/15)\n",
      "   • call  Accuracy: 0.00% (0/25)\n",
      "   • check Accuracy: 0.00% (0/25)\n",
      "   • fold  Accuracy: 0.00% (0/25)\n",
      "   • bet   Accuracy: 0.00% (0/10)\n",
      "\n",
      "📊 Preflop Accuracy: 14.00% (14/100)\n",
      "   • raise Accuracy: 56.00% (14/25)\n",
      "   • call  Accuracy: 0.00% (0/25)\n",
      "   • check Accuracy: 0.00% (0/25)\n",
      "   • fold  Accuracy: 0.00% (0/25)\n",
      "   • bet   Accuracy: 0.00% (0/0)\n"
     ]
    }
   ],
   "source": [
    "import pandas as pd\n",
    "import os\n",
    "import re\n",
    "from glob import glob\n",
    "\n",
    "# Define valid poker actions\n",
    "valid_actions = [\"raise\", \"call\", \"check\", \"fold\", \"bet\"]\n",
    "\n",
    "# Accuracy computation function\n",
    "def evaluate_file_accuracy(file_path):\n",
    "    df = pd.read_csv(file_path)\n",
    "\n",
    "    midpoint = len(df) // 2\n",
    "    postflop_df = df.iloc[midpoint:]\n",
    "    preflop_df = df.iloc[:midpoint]\n",
    "\n",
    "    def compute_accuracy(subset_df, label):\n",
    "        total = len(subset_df)\n",
    "        correct = (subset_df[\"ground_truth\"] == subset_df[\"action\"]).sum()\n",
    "        accuracy = correct / total if total > 0 else 0\n",
    "        print(f\"\\n {label} Accuracy: {accuracy:.2%} ({correct}/{total})\")\n",
    "\n",
    "        for action in valid_actions:\n",
    "            action_df = subset_df[subset_df[\"ground_truth\"] == action]\n",
    "            total_action = len(action_df)\n",
    "            correct_action = (action_df[\"action\"] == action).sum()\n",
    "            acc = correct_action / total_action if total_action > 0 else 0\n",
    "            print(f\"   • {action:<5} Accuracy: {acc:.2%} ({correct_action}/{total_action})\")\n",
    "\n",
    "    print(f\"\\n Evaluating file: {os.path.basename(file_path)}\")\n",
    "    compute_accuracy(postflop_df, \"Postflop\")\n",
    "    compute_accuracy(preflop_df, \"Preflop\")\n",
    "\n",
    "# Filter through all the files\n",
    "csv_files = sorted(glob(\"Experiments/Processed/Poker_*_*.csv\"))\n",
    "\n",
    "# Run evaluation on each file\n",
    "for csv_file in csv_files:\n",
    "    evaluate_file_accuracy(csv_file)"
   ]
  }
 ],
 "metadata": {
  "kernelspec": {
   "display_name": "base",
   "language": "python",
   "name": "python3"
  },
  "language_info": {
   "codemirror_mode": {
    "name": "ipython",
    "version": 3
   },
   "file_extension": ".py",
   "mimetype": "text/x-python",
   "name": "python",
   "nbconvert_exporter": "python",
   "pygments_lexer": "ipython3",
   "version": "3.12.7"
  }
 },
 "nbformat": 4,
 "nbformat_minor": 2
}
