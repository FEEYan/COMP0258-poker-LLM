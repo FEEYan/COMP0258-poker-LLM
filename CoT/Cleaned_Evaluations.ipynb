{
 "cells": [
  {
   "cell_type": "code",
   "execution_count": null,
   "metadata": {},
   "outputs": [
    {
     "name": "stdout",
     "output_type": "stream",
     "text": [
      "Processed and saved: Experiments/Processed/Poker_Llama-31-8B-Instruct-FT_Base.csv\n",
      "Processed and saved: Experiments/Processed/Poker_Llama-32-3B-Instruct-FT_Base.csv\n"
     ]
    }
   ],
   "source": [
    "import pandas as pd\n",
    "import os\n",
    "import re\n",
    "from glob import glob\n",
    "\n",
    "# Valid Poker actions\n",
    "valid_actions = [\"raise\", \"bet\", \"check\", \"call\", \"fold\"]\n",
    "\n",
    "# Extract first valid action from text\n",
    "def extract_first_action(text):\n",
    "    if not isinstance(text, str):\n",
    "        return \"\"\n",
    "    for word in text.lower().split():\n",
    "        word_clean = re.sub(r\"[^\\w]\", \"\", word)\n",
    "        if word_clean in valid_actions:\n",
    "            return word_clean\n",
    "    return \"\"\n",
    "\n",
    "# Clean ground truth (e.g., \"raise 20\" → \"raise\")\n",
    "def clean_ground_truth(gt):\n",
    "    if not isinstance(gt, str):\n",
    "        return \"\"\n",
    "    for action in valid_actions:\n",
    "        if gt.lower().startswith(action):\n",
    "            return action\n",
    "    return gt.strip().lower()\n",
    "\n",
    "# Directory to store processed results (optional)\n",
    "os.makedirs(\"processed\", exist_ok=True)\n",
    "\n",
    "# Automatically find all relevant CSV files\n",
    "file_paths = sorted(glob(\"Experiments/Unprocessed/CoT/Fine-tuned/Poker_*Base*.csv\"))\n",
    "\n",
    "# Process each file\n",
    "for file_path in file_paths:\n",
    "    df = pd.read_csv(file_path)\n",
    "\n",
    "    # If final_answer is empty, try extracting from reasoning\n",
    "    def get_final_answer(row):\n",
    "        final = row.get(\"final_answer\", \"\")\n",
    "        reasoning = row.get(\"reasoning\", \"\").strip()\n",
    "        \n",
    "        pattern = re.compile(r\"(?:your optimal action is)\\s*:\\s*(.*)\", re.IGNORECASE | re.DOTALL)\n",
    "        match = pattern.search(reasoning)\n",
    "\n",
    "        #answer = match.group(1).strip() if match else reasoning\n",
    "        #pattern = re.compile(r\"(?:Final Answer|optimal action is)\\s*:\\s*(.*)\", re.IGNORECASE | re.DOTALL)\n",
    "        #match = pattern.search(answer) \n",
    "\n",
    "        return match.group(1).strip() if match else final\n",
    "\n",
    "\n",
    "    df[\"final_answer\"] = df.apply(get_final_answer, axis=1)\n",
    "\n",
    "    # Clean ground truth actions\n",
    "    df[\"ground_truth\"] = df[\"ground_truth\"].apply(clean_ground_truth)\n",
    "\n",
    "    # Extract first valid poker action from final_answer\n",
    "    df[\"action\"] = df[\"final_answer\"].apply(extract_first_action)\n",
    "    #df[\"action\"] = df[\"reasoning\"].apply(extract_first_action)\n",
    "\n",
    "    # Save the cleaned version for review\n",
    "    output_path = os.path.join(\"Experiments/Processed\", os.path.basename(file_path))\n",
    "    df.to_csv(output_path, index=False)\n",
    "    print(f\"Processed and saved: {output_path}\")"
   ]
  }
 ],
 "metadata": {
  "kernelspec": {
   "display_name": "base",
   "language": "python",
   "name": "python3"
  },
  "language_info": {
   "codemirror_mode": {
    "name": "ipython",
    "version": 3
   },
   "file_extension": ".py",
   "mimetype": "text/x-python",
   "name": "python",
   "nbconvert_exporter": "python",
   "pygments_lexer": "ipython3",
   "version": "3.12.7"
  }
 },
 "nbformat": 4,
 "nbformat_minor": 2
}
