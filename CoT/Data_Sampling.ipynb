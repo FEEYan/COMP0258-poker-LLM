{
  "cells": [
    {
      "cell_type": "code",
      "execution_count": null,
      "metadata": {
        "id": "e--r0P6nGRMk"
      },
      "outputs": [],
      "source": [
        "import json\n",
        "import os\n",
        "from sklearn.model_selection import train_test_split"
      ]
    },
    {
      "cell_type": "code",
      "execution_count": null,
      "metadata": {
        "id": "LdMOfINsG_rs"
      },
      "outputs": [],
      "source": [
        "# Read test set as pre-flop and post-flop\n",
        "cwd = os.getcwd()\n",
        "dataset_dir = f\"{cwd}/Data\"\n",
        "\n",
        "with open(f'{dataset_dir}/postflop_10k_test_set_prompt_and_label.json', 'r') as f:\n",
        "  postflop_test_set = json.load(f)\n",
        "\n",
        "with open(f'{dataset_dir}/preflop_1k_test_set_prompt_and_label.json', 'r') as f:\n",
        "  preflop_test_set = json.load(f)"
      ]
    },
    {
      "cell_type": "code",
      "execution_count": null,
      "metadata": {
        "id": "bmUbQzRZG4w7"
      },
      "outputs": [],
      "source": [
        "# Sample 100 instances from each of the datasets\n",
        "\n",
        "# Function to categorize actions\n",
        "def categorize_action(output):\n",
        "    if 'bet' in output:\n",
        "        return 'bet'\n",
        "    elif 'raise' in output:\n",
        "        return 'raise'\n",
        "    elif 'check' in output:\n",
        "        return 'check'\n",
        "    elif 'fold' in output:\n",
        "        return 'fold'\n",
        "    else:\n",
        "        return 'other'\n",
        "\n",
        "# Function to perform stratified sampling over action categories\n",
        "def stratified_sample(dataset, sample_size=100):\n",
        "    # Assign category labels\n",
        "    action_categories = [categorize_action(item['output']) for item in dataset]\n",
        "\n",
        "    # Perform stratified sampling\n",
        "    _, sampled_indices = train_test_split(\n",
        "        range(len(dataset)),\n",
        "        test_size=sample_size,\n",
        "        stratify=action_categories,\n",
        "        random_state=42\n",
        "    )\n",
        "\n",
        "    # Select sampled examples\n",
        "    sampled_dataset = [dataset[i] for i in sampled_indices]\n",
        "\n",
        "    return sampled_dataset\n",
        "\n",
        "# Sample 100 examples from each dataset\n",
        "postflop_sampled = stratified_sample(postflop_test_set, 100)\n",
        "preflop_sampled = stratified_sample(preflop_test_set, 100)\n",
        "\n",
        "# Save the sampled datasets\n",
        "with open(f'{dataset_dir}/postflop_100_sample.json', 'w') as f:\n",
        "    json.dump(postflop_sampled, f, indent=4)\n",
        "\n",
        "with open(f'{dataset_dir}/preflop_100_sample.json', 'w') as f:\n",
        "    json.dump(preflop_sampled, f, indent=4)"
      ]
    }
  ],
  "metadata": {
    "colab": {
      "provenance": []
    },
    "kernelspec": {
      "display_name": "Python 3",
      "name": "python3"
    },
    "language_info": {
      "name": "python"
    }
  },
  "nbformat": 4,
  "nbformat_minor": 0
}
