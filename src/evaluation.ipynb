{
 "cells": [
  {
   "cell_type": "code",
   "execution_count": 1,
   "metadata": {},
   "outputs": [
    {
     "name": "stderr",
     "output_type": "stream",
     "text": [
      "/opt/homebrew/anaconda3/envs/LLM/lib/python3.11/site-packages/tqdm/auto.py:21: TqdmWarning: IProgress not found. Please update jupyter and ipywidgets. See https://ipywidgets.readthedocs.io/en/stable/user_install.html\n",
      "  from .autonotebook import tqdm as notebook_tqdm\n"
     ]
    }
   ],
   "source": [
    "import os\n",
    "import platform\n",
    "import random\n",
    "import json\n",
    "import torch\n",
    "import mlx_lm\n",
    "import math\n",
    "import pandas as pd\n",
    "from tqdm import tqdm\n",
    "from abc import ABC, abstractmethod\n",
    "IS_MAC = platform.system() == \"Darwin\"\n",
    "HAS_CUDA = False if IS_MAC else torch.cuda.is_available()\n",
    "\n",
    "class ModelLoader(ABC):\n",
    "    @abstractmethod\n",
    "    def load(self, model_name: str, adapter_path: str = None):\n",
    "        pass\n",
    "\n",
    "    @abstractmethod\n",
    "    def generate(self, model, tokenizer, prompt: str, max_tokens: int = 500):\n",
    "        pass\n",
    "\n",
    "class MLXLoader(ModelLoader):\n",
    "    def load(self, model_name, adapter_path=None):\n",
    "        from mlx_lm import load\n",
    "        return load(model_name, adapter_path=adapter_path)\n",
    "    \n",
    "    def generate(self, model, tokenizer, prompt, max_tokens=500, verbose=False):\n",
    "        from mlx_lm import generate\n",
    "        return generate(model, tokenizer, prompt=prompt, max_tokens=max_tokens, verbose=verbose)\n",
    "\n",
    "class CUDALoader(ModelLoader):\n",
    "    def load(self, model_name, adapter_path=None):\n",
    "        from transformers import AutoModelForCausalLM, AutoTokenizer\n",
    "        import torch\n",
    "        \n",
    "        model = AutoModelForCausalLM.from_pretrained(\n",
    "            model_name,\n",
    "            device_map=\"auto\",\n",
    "            torch_dtype=torch.float16\n",
    "        )\n",
    "        tokenizer = AutoTokenizer.from_pretrained(model_name)\n",
    "        \n",
    "        if adapter_path:\n",
    "            from peft import PeftModel\n",
    "            model = PeftModel.from_pretrained(model, adapter_path)\n",
    "            \n",
    "        return model, tokenizer\n",
    "    \n",
    "    def generate(self, model, tokenizer, prompt, max_tokens=500):\n",
    "        inputs = tokenizer(prompt, return_tensors=\"pt\").to(model.device)\n",
    "        with torch.no_grad():\n",
    "            outputs = model.generate(\n",
    "                **inputs,\n",
    "                max_new_tokens=max_tokens,\n",
    "                do_sample=True,\n",
    "                temperature=0.7,\n",
    "                top_p=0.9,\n",
    "            )\n",
    "        return tokenizer.decode(outputs[0], skip_special_tokens=True)\n",
    "\n",
    "def get_model_loader():\n",
    "    if IS_MAC:\n",
    "        return MLXLoader()\n",
    "    return CUDALoader()"
   ]
  },
  {
   "cell_type": "code",
   "execution_count": 2,
   "metadata": {},
   "outputs": [],
   "source": [
    "def is_number(s):\n",
    "    try:\n",
    "        float(s)\n",
    "        return True\n",
    "    except ValueError:\n",
    "        return False\n",
    "    \n",
    "\n",
    "def read_first_message(data_path='../data/poker-preflop/test.jsonl'):\n",
    "    with open(data_path, 'r') as f:\n",
    "        first_line = f.readline()\n",
    "        message = json.loads(first_line)\n",
    "        message = message['messages']\n",
    "        return message\n",
    "\n",
    "\n",
    "def read_line_with_index(line_index, data_path='../data/poker-preflop/test.jsonl'):\n",
    "    with open(data_path, 'r') as f:\n",
    "        for idx, line in enumerate(f):\n",
    "            if idx == line_index:\n",
    "                message = json.loads(line)\n",
    "                message = message['messages']\n",
    "                return message\n",
    "    return None\n",
    "\n",
    "\n",
    "def read_random_message(data_path='../data/poker-preflop/test.jsonl'):\n",
    "    messages = []\n",
    "    with open(data_path, 'r') as f:\n",
    "        messages = [line for line in f]\n",
    "    random_line = random.choice(messages)\n",
    "    message = json.loads(random_line)\n",
    "    message = message['messages']\n",
    "    return message\n",
    "\n",
    "\n",
    "def calculate_aa_em(predictions, ground_truths, alpha=5):\n",
    "    aa = 0\n",
    "    em = 0\n",
    "    for i in range(len(predictions)):\n",
    "        action_predicted = predictions[i].strip().split()[0].lower()\n",
    "        action_ground_truth = ground_truths[i].strip().split()[0].lower()\n",
    "        if action_predicted == action_ground_truth:\n",
    "            aa += 1\n",
    "            if action_ground_truth == 'bet' or action_ground_truth == 'raise':\n",
    "                amount_predicted = predictions[i].strip().split()[-1]\n",
    "                amount_ground_truth = ground_truths[i].strip().split()[-1]\n",
    "                # check if amount is a number\n",
    "                if is_number(amount_predicted) and is_number(amount_ground_truth):\n",
    "                    real_error = abs(float(amount_predicted) - float(amount_ground_truth))/float(amount_ground_truth)\n",
    "                    em += math.exp(-alpha * (real_error ** 2))\n",
    "            else:\n",
    "                em += 1\n",
    "    return aa / len(predictions), em / len(predictions)"
   ]
  },
  {
   "cell_type": "code",
   "execution_count": 3,
   "metadata": {},
   "outputs": [
    {
     "name": "stderr",
     "output_type": "stream",
     "text": [
      "Fetching 11 files: 100%|██████████| 11/11 [00:00<00:00, 121095.39it/s]\n"
     ]
    }
   ],
   "source": [
    "models_list = [\"../models/lora-Meta-Llama-3.1-8B-Instruct\",\n",
    "               \"meta-llama/Meta-Llama-3.1-8B-Instruct\",\n",
    "               \"meta-llama/Meta-Llama-3.1-8B-Instruct\",\n",
    "               \"meta-llama/Llama-3.2-3B-Instruct\",\n",
    "               \"meta-llama/Llama-3.2-3B-Instruct\"]\n",
    "\n",
    "adapters_list = [\"lora-Meta-Llama-3.1-8B-Instruct\",\n",
    "                 \"lora-Meta-Llama-3.1-8B-Instruct\",\n",
    "                 \"Meta-Llama-3.1-8B-Instruct\",\n",
    "                 \"lora-Llama-3.2-3B-Instruct-lr-5\",\n",
    "                 \"Llama-3.2-3B-Instruct\"]\n",
    "\n",
    "index = 4\n",
    "\n",
    "loader = get_model_loader()\n",
    "model_name = models_list[index]\n",
    "adapter_name = adapters_list[index]\n",
    "model, tokenizer = loader.load(model_name\n",
    "# , adapter_path=f\"../adapters/{adapter_name}\"\n",
    ")"
   ]
  },
  {
   "cell_type": "code",
   "execution_count": 4,
   "metadata": {},
   "outputs": [
    {
     "name": "stdout",
     "output_type": "stream",
     "text": [
      "bet 17\n",
      "Call 8 chips.\n"
     ]
    }
   ],
   "source": [
    "testing_set = \"postflop\"\n",
    "data_path = f'../data/poker-{testing_set}/test.jsonl'\n",
    "message = read_random_message(data_path=data_path)\n",
    "print(message[-1]['content'])\n",
    "message.pop()\n",
    "prompt = tokenizer.apply_chat_template(message, add_generation_prompt=True)\n",
    "response = loader.generate(model, tokenizer, prompt)\n",
    "print(response)"
   ]
  },
  {
   "cell_type": "code",
   "execution_count": 5,
   "metadata": {},
   "outputs": [],
   "source": [
    "# ground_truths = []\n",
    "# predictions = []\n",
    "# message2 = read_random_message()\n",
    "# print(message2[-1]['content'])\n",
    "# ground_truths.append(message2[-1]['content'])\n",
    "# message2.pop()\n",
    "# prompt2 = tokenizer.apply_chat_template(message2, add_generation_prompt=True)\n",
    "\n",
    "# response = loader.generate(model, tokenizer, prompt)\n",
    "# print(response)\n",
    "# predictions.append(response)\n",
    "# aa, em = calculate_aa_em(predictions, ground_truths)\n",
    "# print(f\"AA: {aa}, EM: {em}\")"
   ]
  },
  {
   "cell_type": "code",
   "execution_count": 6,
   "metadata": {},
   "outputs": [],
   "source": [
    "ground_truths = []\n",
    "predictions = []\n",
    "\n",
    "# ground_truths.append(\"raise 22.0\")\n",
    "# predictions.append(\"Raise 20.0\")\n",
    "\n",
    "# aa, em = calculate_aa_em(predictions, ground_truths)\n",
    "# test = \"raise 22.0\"\n",
    "\n",
    "# number =test.strip().split()[-1].lower()\n",
    "# print(is_number(number))\n",
    "\n",
    "# print(f\"AA: {aa}, EM: {em}\")"
   ]
  },
  {
   "cell_type": "code",
   "execution_count": 7,
   "metadata": {},
   "outputs": [
    {
     "name": "stderr",
     "output_type": "stream",
     "text": [
      "Processing:   0%|          | 6/10000 [00:02<1:18:01,  2.13it/s]\n"
     ]
    },
    {
     "ename": "KeyboardInterrupt",
     "evalue": "",
     "output_type": "error",
     "traceback": [
      "\u001b[0;31m---------------------------------------------------------------------------\u001b[0m",
      "\u001b[0;31mKeyboardInterrupt\u001b[0m                         Traceback (most recent call last)",
      "Cell \u001b[0;32mIn[7], line 10\u001b[0m\n\u001b[1;32m      8\u001b[0m message\u001b[38;5;241m.\u001b[39mpop()\n\u001b[1;32m      9\u001b[0m prompt \u001b[38;5;241m=\u001b[39m tokenizer\u001b[38;5;241m.\u001b[39mapply_chat_template(message, add_generation_prompt\u001b[38;5;241m=\u001b[39m\u001b[38;5;28;01mTrue\u001b[39;00m)\n\u001b[0;32m---> 10\u001b[0m response \u001b[38;5;241m=\u001b[39m \u001b[43mloader\u001b[49m\u001b[38;5;241;43m.\u001b[39;49m\u001b[43mgenerate\u001b[49m\u001b[43m(\u001b[49m\u001b[43mmodel\u001b[49m\u001b[43m,\u001b[49m\u001b[43m \u001b[49m\u001b[43mtokenizer\u001b[49m\u001b[43m,\u001b[49m\u001b[43m \u001b[49m\u001b[43mprompt\u001b[49m\u001b[43m)\u001b[49m\n\u001b[1;32m     11\u001b[0m \u001b[38;5;66;03m# print(response)\u001b[39;00m\n\u001b[1;32m     12\u001b[0m predictions\u001b[38;5;241m.\u001b[39mappend(response)\n",
      "Cell \u001b[0;32mIn[1], line 30\u001b[0m, in \u001b[0;36mMLXLoader.generate\u001b[0;34m(self, model, tokenizer, prompt, max_tokens, verbose)\u001b[0m\n\u001b[1;32m     28\u001b[0m \u001b[38;5;28;01mdef\u001b[39;00m\u001b[38;5;250m \u001b[39m\u001b[38;5;21mgenerate\u001b[39m(\u001b[38;5;28mself\u001b[39m, model, tokenizer, prompt, max_tokens\u001b[38;5;241m=\u001b[39m\u001b[38;5;241m500\u001b[39m, verbose\u001b[38;5;241m=\u001b[39m\u001b[38;5;28;01mFalse\u001b[39;00m):\n\u001b[1;32m     29\u001b[0m     \u001b[38;5;28;01mfrom\u001b[39;00m\u001b[38;5;250m \u001b[39m\u001b[38;5;21;01mmlx_lm\u001b[39;00m\u001b[38;5;250m \u001b[39m\u001b[38;5;28;01mimport\u001b[39;00m generate\n\u001b[0;32m---> 30\u001b[0m     \u001b[38;5;28;01mreturn\u001b[39;00m \u001b[43mgenerate\u001b[49m\u001b[43m(\u001b[49m\u001b[43mmodel\u001b[49m\u001b[43m,\u001b[49m\u001b[43m \u001b[49m\u001b[43mtokenizer\u001b[49m\u001b[43m,\u001b[49m\u001b[43m \u001b[49m\u001b[43mprompt\u001b[49m\u001b[38;5;241;43m=\u001b[39;49m\u001b[43mprompt\u001b[49m\u001b[43m,\u001b[49m\u001b[43m \u001b[49m\u001b[43mmax_tokens\u001b[49m\u001b[38;5;241;43m=\u001b[39;49m\u001b[43mmax_tokens\u001b[49m\u001b[43m,\u001b[49m\u001b[43m \u001b[49m\u001b[43mverbose\u001b[49m\u001b[38;5;241;43m=\u001b[39;49m\u001b[43mverbose\u001b[49m\u001b[43m)\u001b[49m\n",
      "File \u001b[0;32m/opt/homebrew/anaconda3/envs/LLM/lib/python3.11/site-packages/mlx_lm/utils.py:593\u001b[0m, in \u001b[0;36mgenerate\u001b[0;34m(model, tokenizer, prompt, verbose, formatter, **kwargs)\u001b[0m\n\u001b[1;32m    590\u001b[0m     \u001b[38;5;28mprint\u001b[39m(\u001b[38;5;124m\"\u001b[39m\u001b[38;5;124m=\u001b[39m\u001b[38;5;124m\"\u001b[39m \u001b[38;5;241m*\u001b[39m \u001b[38;5;241m10\u001b[39m)\n\u001b[1;32m    592\u001b[0m text \u001b[38;5;241m=\u001b[39m \u001b[38;5;124m\"\u001b[39m\u001b[38;5;124m\"\u001b[39m\n\u001b[0;32m--> 593\u001b[0m \u001b[43m\u001b[49m\u001b[38;5;28;43;01mfor\u001b[39;49;00m\u001b[43m \u001b[49m\u001b[43mresponse\u001b[49m\u001b[43m \u001b[49m\u001b[38;5;129;43;01min\u001b[39;49;00m\u001b[43m \u001b[49m\u001b[43mstream_generate\u001b[49m\u001b[43m(\u001b[49m\u001b[43mmodel\u001b[49m\u001b[43m,\u001b[49m\u001b[43m \u001b[49m\u001b[43mtokenizer\u001b[49m\u001b[43m,\u001b[49m\u001b[43m \u001b[49m\u001b[43mprompt\u001b[49m\u001b[43m,\u001b[49m\u001b[43m \u001b[49m\u001b[38;5;241;43m*\u001b[39;49m\u001b[38;5;241;43m*\u001b[39;49m\u001b[43mkwargs\u001b[49m\u001b[43m)\u001b[49m\u001b[43m:\u001b[49m\n\u001b[1;32m    594\u001b[0m \u001b[43m    \u001b[49m\u001b[38;5;28;43;01mif\u001b[39;49;00m\u001b[43m \u001b[49m\u001b[43mverbose\u001b[49m\u001b[43m:\u001b[49m\n\u001b[1;32m    595\u001b[0m \u001b[43m        \u001b[49m\u001b[38;5;28;43mprint\u001b[39;49m\u001b[43m(\u001b[49m\u001b[43mresponse\u001b[49m\u001b[38;5;241;43m.\u001b[39;49m\u001b[43mtext\u001b[49m\u001b[43m,\u001b[49m\u001b[43m \u001b[49m\u001b[43mend\u001b[49m\u001b[38;5;241;43m=\u001b[39;49m\u001b[38;5;124;43m\"\u001b[39;49m\u001b[38;5;124;43m\"\u001b[39;49m\u001b[43m,\u001b[49m\u001b[43m \u001b[49m\u001b[43mflush\u001b[49m\u001b[38;5;241;43m=\u001b[39;49m\u001b[38;5;28;43;01mTrue\u001b[39;49;00m\u001b[43m)\u001b[49m\n",
      "File \u001b[0;32m/opt/homebrew/anaconda3/envs/LLM/lib/python3.11/site-packages/mlx_lm/utils.py:528\u001b[0m, in \u001b[0;36mstream_generate\u001b[0;34m(model, tokenizer, prompt, draft_model, **kwargs)\u001b[0m\n\u001b[1;32m    526\u001b[0m detokenizer\u001b[38;5;241m.\u001b[39mreset()\n\u001b[1;32m    527\u001b[0m tic \u001b[38;5;241m=\u001b[39m time\u001b[38;5;241m.\u001b[39mperf_counter()\n\u001b[0;32m--> 528\u001b[0m \u001b[43m\u001b[49m\u001b[38;5;28;43;01mfor\u001b[39;49;00m\u001b[43m \u001b[49m\u001b[43mn\u001b[49m\u001b[43m,\u001b[49m\u001b[43m \u001b[49m\u001b[43m(\u001b[49m\u001b[43mtoken\u001b[49m\u001b[43m,\u001b[49m\u001b[43m \u001b[49m\u001b[43mlogprobs\u001b[49m\u001b[43m)\u001b[49m\u001b[43m \u001b[49m\u001b[38;5;129;43;01min\u001b[39;49;00m\u001b[43m \u001b[49m\u001b[38;5;28;43menumerate\u001b[39;49m\u001b[43m(\u001b[49m\u001b[43mtoken_generator\u001b[49m\u001b[43m)\u001b[49m\u001b[43m:\u001b[49m\n\u001b[1;32m    529\u001b[0m \u001b[43m    \u001b[49m\u001b[38;5;28;43;01mif\u001b[39;49;00m\u001b[43m \u001b[49m\u001b[43mn\u001b[49m\u001b[43m \u001b[49m\u001b[38;5;241;43m==\u001b[39;49m\u001b[43m \u001b[49m\u001b[38;5;241;43m0\u001b[39;49m\u001b[43m:\u001b[49m\n\u001b[1;32m    530\u001b[0m \u001b[43m        \u001b[49m\u001b[43mprompt_time\u001b[49m\u001b[43m \u001b[49m\u001b[38;5;241;43m=\u001b[39;49m\u001b[43m \u001b[49m\u001b[43mtime\u001b[49m\u001b[38;5;241;43m.\u001b[39;49m\u001b[43mperf_counter\u001b[49m\u001b[43m(\u001b[49m\u001b[43m)\u001b[49m\u001b[43m \u001b[49m\u001b[38;5;241;43m-\u001b[39;49m\u001b[43m \u001b[49m\u001b[43mtic\u001b[49m\n",
      "File \u001b[0;32m/opt/homebrew/anaconda3/envs/LLM/lib/python3.11/site-packages/mlx_lm/utils.py:316\u001b[0m, in \u001b[0;36mgenerate_step\u001b[0;34m(prompt, model, max_tokens, sampler, logits_processors, max_kv_size, prompt_cache, prefill_step_size, kv_bits, kv_group_size, quantized_kv_start, prompt_progress_callback)\u001b[0m\n\u001b[1;32m    314\u001b[0m     mx\u001b[38;5;241m.\u001b[39masync_eval(next_y, next_logprobs)\n\u001b[1;32m    315\u001b[0m \u001b[38;5;28;01mif\u001b[39;00m n \u001b[38;5;241m==\u001b[39m \u001b[38;5;241m0\u001b[39m:\n\u001b[0;32m--> 316\u001b[0m     \u001b[43mmx\u001b[49m\u001b[38;5;241;43m.\u001b[39;49m\u001b[43meval\u001b[49m\u001b[43m(\u001b[49m\u001b[43my\u001b[49m\u001b[43m)\u001b[49m\n\u001b[1;32m    317\u001b[0m     prompt_progress_callback(total_prompt_tokens, total_prompt_tokens)\n\u001b[1;32m    318\u001b[0m \u001b[38;5;28;01mif\u001b[39;00m n \u001b[38;5;241m==\u001b[39m max_tokens:\n",
      "\u001b[0;31mKeyboardInterrupt\u001b[0m: "
     ]
    }
   ],
   "source": [
    "with open(data_path, 'r') as f:\n",
    "    lines = f.readlines()\n",
    "\n",
    "for i in tqdm(range(len(lines)), desc=\"Processing\"):\n",
    "    message = read_line_with_index(i,data_path=data_path)\n",
    "    # print(message[-1]['content'])\n",
    "    ground_truths.append(message[-1]['content'])\n",
    "    message.pop()\n",
    "    prompt = tokenizer.apply_chat_template(message, add_generation_prompt=True)\n",
    "    response = loader.generate(model, tokenizer, prompt)\n",
    "    # print(response)\n",
    "    predictions.append(response)\n",
    "\n",
    "aa, em = calculate_aa_em(predictions, ground_truths)\n",
    "print(f\"AA: {aa}, EM: {em}\")\n",
    "# print(predictions)\n",
    "# print(ground_truths)"
   ]
  },
  {
   "cell_type": "code",
   "execution_count": null,
   "metadata": {},
   "outputs": [],
   "source": [
    "if True:\n",
    "    # Create a DataFrame for predictions and ground truths\n",
    "    results_df = pd.DataFrame({\n",
    "        \"Prediction\": predictions,\n",
    "        \"Ground Truth\": ground_truths\n",
    "    })\n",
    "\n",
    "    output_path = \"../testing-results\"\n",
    "    # Save the DataFrames to CSV files\n",
    "    results_df.to_csv(f\"{output_path}/{adapter_name}-{testing_set}_predictions.csv\", index=False)\n",
    "    # metrics_df.to_csv(f\"{output_path}/{adapter_name}_metrics.csv\", index=False)"
   ]
  }
 ],
 "metadata": {
  "kernelspec": {
   "display_name": "LLM",
   "language": "python",
   "name": "python3"
  },
  "language_info": {
   "codemirror_mode": {
    "name": "ipython",
    "version": 3
   },
   "file_extension": ".py",
   "mimetype": "text/x-python",
   "name": "python",
   "nbconvert_exporter": "python",
   "pygments_lexer": "ipython3",
   "version": "3.11.11"
  }
 },
 "nbformat": 4,
 "nbformat_minor": 2
}
