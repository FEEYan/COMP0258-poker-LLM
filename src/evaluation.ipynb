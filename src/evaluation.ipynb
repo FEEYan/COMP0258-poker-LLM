{
 "cells": [
  {
   "cell_type": "code",
   "execution_count": 10,
   "metadata": {},
   "outputs": [],
   "source": [
    "import os\n",
    "import platform\n",
    "import random\n",
    "import json\n",
    "import torch\n",
    "import mlx_lm\n",
    "import math\n",
    "from abc import ABC, abstractmethod\n",
    "IS_MAC = platform.system() == \"Darwin\"\n",
    "HAS_CUDA = False if IS_MAC else torch.cuda.is_available()\n",
    "\n",
    "class ModelLoader(ABC):\n",
    "    @abstractmethod\n",
    "    def load(self, model_name: str, adapter_path: str = None):\n",
    "        pass\n",
    "\n",
    "    @abstractmethod\n",
    "    def generate(self, model, tokenizer, prompt: str, max_tokens: int = 500):\n",
    "        pass\n",
    "\n",
    "class MLXLoader(ModelLoader):\n",
    "    def load(self, model_name, adapter_path=None):\n",
    "        from mlx_lm import load\n",
    "        return load(model_name, adapter_path=adapter_path)\n",
    "    \n",
    "    def generate(self, model, tokenizer, prompt, max_tokens=500, verbose=False):\n",
    "        from mlx_lm import generate\n",
    "        return generate(model, tokenizer, prompt=prompt, max_tokens=max_tokens, verbose=verbose)\n",
    "\n",
    "class CUDALoader(ModelLoader):\n",
    "    def load(self, model_name, adapter_path=None):\n",
    "        from transformers import AutoModelForCausalLM, AutoTokenizer\n",
    "        import torch\n",
    "        \n",
    "        model = AutoModelForCausalLM.from_pretrained(\n",
    "            model_name,\n",
    "            device_map=\"auto\",\n",
    "            torch_dtype=torch.float16\n",
    "        )\n",
    "        tokenizer = AutoTokenizer.from_pretrained(model_name)\n",
    "        \n",
    "        if adapter_path:\n",
    "            from peft import PeftModel\n",
    "            model = PeftModel.from_pretrained(model, adapter_path)\n",
    "            \n",
    "        return model, tokenizer\n",
    "    \n",
    "    def generate(self, model, tokenizer, prompt, max_tokens=500):\n",
    "        inputs = tokenizer(prompt, return_tensors=\"pt\").to(model.device)\n",
    "        with torch.no_grad():\n",
    "            outputs = model.generate(\n",
    "                **inputs,\n",
    "                max_new_tokens=max_tokens,\n",
    "                do_sample=True,\n",
    "                temperature=0.7,\n",
    "                top_p=0.9,\n",
    "            )\n",
    "        return tokenizer.decode(outputs[0], skip_special_tokens=True)\n",
    "\n",
    "def get_model_loader():\n",
    "    if IS_MAC:\n",
    "        return MLXLoader()\n",
    "    return CUDALoader()"
   ]
  },
  {
   "cell_type": "code",
   "execution_count": 31,
   "metadata": {},
   "outputs": [],
   "source": [
    "def read_first_message():\n",
    "    with open('../data/poker-postflop/test.jsonl', 'r') as f:\n",
    "        first_line = f.readline()\n",
    "        message = json.loads(first_line)\n",
    "        message = message['messages']\n",
    "        return message\n",
    "\n",
    "\n",
    "def read_line_with_index(line_index):\n",
    "    with open('../data/poker-postflop/test.jsonl', 'r') as f:\n",
    "        for idx, line in enumerate(f):\n",
    "            if idx == line_index:\n",
    "                message = json.loads(line)\n",
    "                message = message['messages']\n",
    "                return message\n",
    "    return None\n",
    "\n",
    "\n",
    "def read_random_message():\n",
    "    messages = []\n",
    "    with open('../data/poker-preflop/test.jsonl', 'r') as f:\n",
    "        messages = [line for line in f]\n",
    "    random_line = random.choice(messages)\n",
    "    message = json.loads(random_line)\n",
    "    message = message['messages']\n",
    "    return message\n",
    "\n",
    "\n",
    "def calculate_aa_em(predictions, ground_truths, alpha=5):\n",
    "    aa = 0\n",
    "    em = 0\n",
    "    for i in range(len(predictions)):\n",
    "        action_predicted = predictions[i].strip().split()[0].lower()\n",
    "        action_ground_truth = ground_truths[i].strip().split()[0].lower()\n",
    "        if action_predicted == action_ground_truth:\n",
    "            aa += 1\n",
    "            if action_ground_truth == 'bet' or action_ground_truth == 'raise':\n",
    "                amount_predicted = predictions[i].strip().split()[-1]\n",
    "                amount_ground_truth = ground_truths[i].strip().split()[-1]\n",
    "                real_error = abs(float(amount_predicted) - float(amount_ground_truth))/float(amount_ground_truth)\n",
    "                em += math.exp(-alpha * (real_error ** 2))\n",
    "            else:\n",
    "                em += 1\n",
    "    return aa / len(predictions), em / len(predictions)"
   ]
  },
  {
   "cell_type": "code",
   "execution_count": 12,
   "metadata": {},
   "outputs": [
    {
     "name": "stderr",
     "output_type": "stream",
     "text": [
      "Fetching 11 files: 100%|██████████| 11/11 [00:00<00:00, 141092.80it/s]\n"
     ]
    },
    {
     "name": "stdout",
     "output_type": "stream",
     "text": [
      "raise 2.5\n",
      "raise 2.5\n"
     ]
    }
   ],
   "source": [
    "loader = get_model_loader()\n",
    "\n",
    "model, tokenizer = loader.load(\n",
    "    \"meta-llama/Meta-Llama-3.1-8B-Instruct\",\n",
    "    adapter_path=\"../adapters/total-llama-3.1-8B-Instruct\"\n",
    ")\n",
    "# model, tokenizer = loader.load(\n",
    "#     \"deepseek-ai/DeepSeek-R1-Distill-Llama-8B\",\n",
    "#     adapter_path=\"../adapters/total-DeepSeek-R1-Distill-Llama-8B\"\n",
    "# )\n",
    "message = read_random_message()\n",
    "print(message[-1]['content'])\n",
    "message.pop()\n",
    "prompt = tokenizer.apply_chat_template(message, add_generation_prompt=True)\n",
    "response = loader.generate(model, tokenizer, prompt)\n",
    "print(response)"
   ]
  },
  {
   "cell_type": "code",
   "execution_count": 76,
   "metadata": {},
   "outputs": [],
   "source": [
    "ground_truths = []\n",
    "predictions = []\n",
    "\n",
    "# ground_truths.append(\"raise 22.0\")\n",
    "# predictions.append(\"Raise 20.0\")\n",
    "\n",
    "# aa, em = calculate_aa_em(predictions, ground_truths)\n",
    "\n",
    "# print(f\"AA: {aa}, EM: {em}\")"
   ]
  },
  {
   "cell_type": "code",
   "execution_count": 69,
   "metadata": {},
   "outputs": [
    {
     "name": "stdout",
     "output_type": "stream",
     "text": [
      "fold\n",
      "call\n",
      "AA: 0.28125, EM: 0.28125\n"
     ]
    }
   ],
   "source": [
    "message2 = read_random_message()\n",
    "print(message2[-1]['content'])\n",
    "ground_truths.append(message2[-1]['content'])\n",
    "message2.pop()\n",
    "prompt2 = tokenizer.apply_chat_template(message2, add_generation_prompt=True)\n",
    "\n",
    "response = loader.generate(model, tokenizer, prompt)\n",
    "print(response)\n",
    "predictions.append(response)\n",
    "aa, em = calculate_aa_em(predictions, ground_truths)\n",
    "print(f\"AA: {aa}, EM: {em}\")"
   ]
  },
  {
   "cell_type": "code",
   "execution_count": 77,
   "metadata": {},
   "outputs": [
    {
     "name": "stdout",
     "output_type": "stream",
     "text": [
      "AA: 0.604, EM: 0.5982356245593838\n"
     ]
    }
   ],
   "source": [
    "for i in range(1000):\n",
    "    message = read_line_with_index(i)\n",
    "    # print(message[-1]['content'])\n",
    "    ground_truths.append(message[-1]['content'])\n",
    "    message.pop()\n",
    "    prompt = tokenizer.apply_chat_template(message, add_generation_prompt=True)\n",
    "    response = loader.generate(model, tokenizer, prompt)\n",
    "    # print(response)\n",
    "    predictions.append(response)\n",
    "\n",
    "aa, em = calculate_aa_em(predictions, ground_truths)\n",
    "print(f\"AA: {aa}, EM: {em}\")"
   ]
  },
  {
   "cell_type": "code",
   "execution_count": null,
   "metadata": {},
   "outputs": [],
   "source": [
    "print(predictions)\n",
    "print(ground_truths)"
   ]
  }
 ],
 "metadata": {
  "kernelspec": {
   "display_name": "LLM",
   "language": "python",
   "name": "python3"
  },
  "language_info": {
   "codemirror_mode": {
    "name": "ipython",
    "version": 3
   },
   "file_extension": ".py",
   "mimetype": "text/x-python",
   "name": "python",
   "nbconvert_exporter": "python",
   "pygments_lexer": "ipython3",
   "version": "3.11.11"
  }
 },
 "nbformat": 4,
 "nbformat_minor": 2
}
