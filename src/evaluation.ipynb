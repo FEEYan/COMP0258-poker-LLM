{
 "cells": [
  {
   "cell_type": "code",
   "execution_count": 6,
   "metadata": {},
   "outputs": [],
   "source": [
    "import os\n",
    "import platform\n",
    "import random\n",
    "import json\n",
    "from abc import ABC, abstractmethod\n",
    "IS_MAC = platform.system() == \"Darwin\"\n",
    "HAS_CUDA = False if IS_MAC else torch.cuda.is_available()\n",
    "\n",
    "class ModelLoader(ABC):\n",
    "    @abstractmethod\n",
    "    def load_model(self, model_name: str, adapter_path: str = None):\n",
    "        pass\n",
    "\n",
    "    @abstractmethod\n",
    "    def generate(self, model, tokenizer, prompt: str, max_tokens: int = 500):\n",
    "        pass\n",
    "\n",
    "class MLXLoader(ModelLoader):\n",
    "    def load_model(self, model_name, adapter_path=None):\n",
    "        from mlx_lm import load\n",
    "        return load(model_name, adapter_path=adapter_path)\n",
    "    \n",
    "    def generate(self, model, tokenizer, prompt, max_tokens=500):\n",
    "        from mlx_lm import generate\n",
    "        return generate(model, tokenizer, prompt=prompt, max_tokens=max_tokens)\n",
    "\n",
    "class CUDALoader(ModelLoader):\n",
    "    def load_model(self, model_name, adapter_path=None):\n",
    "        from transformers import AutoModelForCausalLM, AutoTokenizer\n",
    "        import torch\n",
    "        \n",
    "        model = AutoModelForCausalLM.from_pretrained(\n",
    "            model_name,\n",
    "            device_map=\"auto\",\n",
    "            torch_dtype=torch.float16\n",
    "        )\n",
    "        tokenizer = AutoTokenizer.from_pretrained(model_name)\n",
    "        \n",
    "        if adapter_path:\n",
    "            from peft import PeftModel\n",
    "            model = PeftModel.from_pretrained(model, adapter_path)\n",
    "            \n",
    "        return model, tokenizer\n",
    "    \n",
    "    def generate(self, model, tokenizer, prompt, max_tokens=500):\n",
    "        inputs = tokenizer(prompt, return_tensors=\"pt\").to(model.device)\n",
    "        with torch.no_grad():\n",
    "            outputs = model.generate(\n",
    "                **inputs,\n",
    "                max_new_tokens=max_tokens,\n",
    "                do_sample=True,\n",
    "                temperature=0.7,\n",
    "                top_p=0.9,\n",
    "            )\n",
    "        return tokenizer.decode(outputs[0], skip_special_tokens=True)\n",
    "\n",
    "def get_model_loader():\n",
    "    if IS_MAC:\n",
    "        return MLXLoader()\n",
    "    return CUDALoader()"
   ]
  },
  {
   "cell_type": "code",
   "execution_count": 7,
   "metadata": {},
   "outputs": [
    {
     "data": {
      "text/plain": [
       "{'role': 'assistant', 'content': 'check'}"
      ]
     },
     "execution_count": 7,
     "metadata": {},
     "output_type": "execute_result"
    }
   ],
   "source": [
    "def read_first_message():\n",
    "    with open('../data/poker-postflop/test.jsonl', 'r') as f:\n",
    "        first_line = f.readline()\n",
    "        message = json.loads(first_line)\n",
    "        message = message['messages']\n",
    "        return message\n",
    "\n",
    "\n",
    "def read_random_message():\n",
    "    messages = []\n",
    "    with open('../data/poker-preflop/test.jsonl', 'r') as f:\n",
    "        messages = [line for line in f]\n",
    "    random_line = random.choice(messages)\n",
    "    message = json.loads(random_line)\n",
    "    message = message['messages']\n",
    "    return message\n",
    "\n",
    "message = read_random_message()\n",
    "# print(message[-1])\n",
    "message.pop()"
   ]
  },
  {
   "cell_type": "code",
   "execution_count": 8,
   "metadata": {},
   "outputs": [
    {
     "name": "stderr",
     "output_type": "stream",
     "text": [
      "/opt/homebrew/anaconda3/envs/LLM/lib/python3.11/site-packages/tqdm/auto.py:21: TqdmWarning: IProgress not found. Please update jupyter and ipywidgets. See https://ipywidgets.readthedocs.io/en/stable/user_install.html\n",
      "  from .autonotebook import tqdm as notebook_tqdm\n",
      "Fetching 11 files: 100%|██████████| 11/11 [00:00<00:00, 159094.29it/s]\n"
     ]
    },
    {
     "name": "stdout",
     "output_type": "stream",
     "text": [
      "check\n"
     ]
    }
   ],
   "source": [
    "# 自動選擇合適的加載器\n",
    "loader = get_model_loader()\n",
    "\n",
    "# 加載模型\n",
    "model, tokenizer = loader.load_model(\n",
    "    \"meta-llama/Meta-Llama-3.1-8B-Instruct\",\n",
    "    adapter_path=\"../adapters/total-llama-3.1-8B-Instruct\"\n",
    ")\n",
    "\n",
    "# 生成文本\n",
    "prompt = tokenizer.apply_chat_template(message, add_generation_prompt=True)\n",
    "response = loader.generate(model, tokenizer, prompt)\n",
    "print(response)"
   ]
  },
  {
   "cell_type": "code",
   "execution_count": 25,
   "metadata": {},
   "outputs": [
    {
     "name": "stdout",
     "output_type": "stream",
     "text": [
      "call\n",
      "check\n"
     ]
    }
   ],
   "source": [
    "message2 = read_random_message()\n",
    "print(message2[-1]['content'])\n",
    "message2.pop()\n",
    "prompt2 = tokenizer.apply_chat_template(message2, add_generation_prompt=True)\n",
    "\n",
    "response = loader.generate(model, tokenizer, prompt)\n",
    "print(response)"
   ]
  },
  {
   "cell_type": "markdown",
   "metadata": {},
   "source": [
    "## original model\n"
   ]
  },
  {
   "cell_type": "code",
   "execution_count": 38,
   "metadata": {},
   "outputs": [
    {
     "name": "stderr",
     "output_type": "stream",
     "text": [
      "Fetching 11 files: 100%|██████████| 11/11 [00:00<00:00, 132578.57it/s]\n"
     ]
    },
    {
     "name": "stdout",
     "output_type": "stream",
     "text": [
      "==========\n",
      "Call.\n",
      "==========\n",
      "Prompt: 264 tokens, 457.508 tokens-per-sec\n",
      "Generation: 3 tokens, 13.068 tokens-per-sec\n",
      "Peak memory: 32.135 GB\n"
     ]
    }
   ],
   "source": [
    "model, tokenizer = load(\"meta-llama/Meta-Llama-3.1-8B-Instruct\")\n",
    "\n",
    "# Prepare your prompt (using a chat template if desired).\n",
    "# prompt_text = \"\" \n",
    "# messages = [{\"role\": \"user\", \"content\": prompt_text}]\n",
    "prompt = tokenizer.apply_chat_template(message, add_generation_prompt=True)\n",
    "\n",
    "# Generate text using the fine-tuned model (adapter is applied automatically).\n",
    "response = generate(model, tokenizer, prompt=prompt,\n",
    "                    max_tokens=500, verbose=True)"
   ]
  },
  {
   "cell_type": "markdown",
   "metadata": {},
   "source": [
    "# fine tuned version"
   ]
  },
  {
   "cell_type": "code",
   "execution_count": 39,
   "metadata": {},
   "outputs": [
    {
     "name": "stderr",
     "output_type": "stream",
     "text": [
      "Fetching 11 files: 100%|██████████| 11/11 [00:00<00:00, 137313.52it/s]\n"
     ]
    },
    {
     "name": "stdout",
     "output_type": "stream",
     "text": [
      "==========\n",
      "fold\n",
      "==========\n",
      "Prompt: 264 tokens, 444.232 tokens-per-sec\n",
      "Generation: 2 tokens, 3.733 tokens-per-sec\n",
      "Peak memory: 32.135 GB\n"
     ]
    }
   ],
   "source": [
    "# Load the base model and apply the adapter weights from the safetensors file.\n",
    "model, tokenizer = load(\"meta-llama/Meta-Llama-3.1-8B-Instruct\",\n",
    "                        adapter_path=\"../adapters/total-llama-3.1-8B-Instruct\")\n",
    "prompt = tokenizer.apply_chat_template(message, add_generation_prompt=True)\n",
    "\n",
    "# Generate text using the fine-tuned model (adapter is applied automatically).\n",
    "response = generate(model, tokenizer, prompt=prompt,\n",
    "                    max_tokens=500, verbose=True)"
   ]
  },
  {
   "cell_type": "code",
   "execution_count": 70,
   "metadata": {},
   "outputs": [
    {
     "name": "stdout",
     "output_type": "stream",
     "text": [
      "fold\n",
      "==========\n",
      "fold\n",
      "==========\n",
      "Prompt: 269 tokens, 462.610 tokens-per-sec\n",
      "Generation: 2 tokens, 34.122 tokens-per-sec\n",
      "Peak memory: 32.135 GB\n"
     ]
    }
   ],
   "source": [
    "message2 = read_random_message()\n",
    "print(message2[-1]['content'])\n",
    "message2.pop()\n",
    "prompt2 = tokenizer.apply_chat_template(message2, add_generation_prompt=True)\n",
    "\n",
    "response = generate(model, tokenizer, prompt=prompt2,\n",
    "                    max_tokens=500, verbose=True)"
   ]
  }
 ],
 "metadata": {
  "kernelspec": {
   "display_name": "LLM",
   "language": "python",
   "name": "python3"
  },
  "language_info": {
   "codemirror_mode": {
    "name": "ipython",
    "version": 3
   },
   "file_extension": ".py",
   "mimetype": "text/x-python",
   "name": "python",
   "nbconvert_exporter": "python",
   "pygments_lexer": "ipython3",
   "version": "3.11.11"
  }
 },
 "nbformat": 4,
 "nbformat_minor": 2
}
