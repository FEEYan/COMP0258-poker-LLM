{
 "cells": [
  {
   "cell_type": "code",
   "execution_count": 1,
   "metadata": {},
   "outputs": [
    {
     "name": "stderr",
     "output_type": "stream",
     "text": [
      "/opt/homebrew/anaconda3/envs/LLM/lib/python3.11/site-packages/tqdm/auto.py:21: TqdmWarning: IProgress not found. Please update jupyter and ipywidgets. See https://ipywidgets.readthedocs.io/en/stable/user_install.html\n",
      "  from .autonotebook import tqdm as notebook_tqdm\n"
     ]
    }
   ],
   "source": [
    "import os\n",
    "import platform\n",
    "import random\n",
    "import json\n",
    "import torch\n",
    "import mlx_lm\n",
    "import math\n",
    "import pandas as pd\n",
    "from abc import ABC, abstractmethod\n",
    "IS_MAC = platform.system() == \"Darwin\"\n",
    "HAS_CUDA = False if IS_MAC else torch.cuda.is_available()\n",
    "\n",
    "class ModelLoader(ABC):\n",
    "    @abstractmethod\n",
    "    def load(self, model_name: str, adapter_path: str = None):\n",
    "        pass\n",
    "\n",
    "    @abstractmethod\n",
    "    def generate(self, model, tokenizer, prompt: str, max_tokens: int = 500):\n",
    "        pass\n",
    "\n",
    "class MLXLoader(ModelLoader):\n",
    "    def load(self, model_name, adapter_path=None):\n",
    "        from mlx_lm import load\n",
    "        return load(model_name, adapter_path=adapter_path)\n",
    "    \n",
    "    def generate(self, model, tokenizer, prompt, max_tokens=500, verbose=False):\n",
    "        from mlx_lm import generate\n",
    "        return generate(model, tokenizer, prompt=prompt, max_tokens=max_tokens, verbose=verbose)\n",
    "\n",
    "class CUDALoader(ModelLoader):\n",
    "    def load(self, model_name, adapter_path=None):\n",
    "        from transformers import AutoModelForCausalLM, AutoTokenizer\n",
    "        import torch\n",
    "        \n",
    "        model = AutoModelForCausalLM.from_pretrained(\n",
    "            model_name,\n",
    "            device_map=\"auto\",\n",
    "            torch_dtype=torch.float16\n",
    "        )\n",
    "        tokenizer = AutoTokenizer.from_pretrained(model_name)\n",
    "        \n",
    "        if adapter_path:\n",
    "            from peft import PeftModel\n",
    "            model = PeftModel.from_pretrained(model, adapter_path)\n",
    "            \n",
    "        return model, tokenizer\n",
    "    \n",
    "    def generate(self, model, tokenizer, prompt, max_tokens=500):\n",
    "        inputs = tokenizer(prompt, return_tensors=\"pt\").to(model.device)\n",
    "        with torch.no_grad():\n",
    "            outputs = model.generate(\n",
    "                **inputs,\n",
    "                max_new_tokens=max_tokens,\n",
    "                do_sample=True,\n",
    "                temperature=0.7,\n",
    "                top_p=0.9,\n",
    "            )\n",
    "        return tokenizer.decode(outputs[0], skip_special_tokens=True)\n",
    "\n",
    "def get_model_loader():\n",
    "    if IS_MAC:\n",
    "        return MLXLoader()\n",
    "    return CUDALoader()"
   ]
  },
  {
   "cell_type": "code",
   "execution_count": 2,
   "metadata": {},
   "outputs": [],
   "source": [
    "def is_number(s):\n",
    "    try:\n",
    "        float(s)\n",
    "        return True\n",
    "    except ValueError:\n",
    "        return False\n",
    "    \n",
    "def read_first_message():\n",
    "    with open('../data/poker-preflop/test.jsonl', 'r') as f:\n",
    "        first_line = f.readline()\n",
    "        message = json.loads(first_line)\n",
    "        message = message['messages']\n",
    "        return message\n",
    "\n",
    "\n",
    "def read_line_with_index(line_index):\n",
    "    with open('../data/poker-preflop/test.jsonl', 'r') as f:\n",
    "        for idx, line in enumerate(f):\n",
    "            if idx == line_index:\n",
    "                message = json.loads(line)\n",
    "                message = message['messages']\n",
    "                return message\n",
    "    return None\n",
    "\n",
    "\n",
    "def read_random_message():\n",
    "    messages = []\n",
    "    with open('../data/poker-preflop/test.jsonl', 'r') as f:\n",
    "        messages = [line for line in f]\n",
    "    random_line = random.choice(messages)\n",
    "    message = json.loads(random_line)\n",
    "    message = message['messages']\n",
    "    return message\n",
    "\n",
    "\n",
    "def calculate_aa_em(predictions, ground_truths, alpha=5):\n",
    "    aa = 0\n",
    "    em = 0\n",
    "    for i in range(len(predictions)):\n",
    "        action_predicted = predictions[i].strip().split()[0].lower()\n",
    "        action_ground_truth = ground_truths[i].strip().split()[0].lower()\n",
    "        if action_predicted == action_ground_truth:\n",
    "            aa += 1\n",
    "            if action_ground_truth == 'bet' or action_ground_truth == 'raise':\n",
    "                amount_predicted = predictions[i].strip().split()[-1]\n",
    "                amount_ground_truth = ground_truths[i].strip().split()[-1]\n",
    "                # check if amount is a number\n",
    "                if is_number(amount_predicted) and is_number(amount_ground_truth):\n",
    "                    real_error = abs(float(amount_predicted) - float(amount_ground_truth))/float(amount_ground_truth)\n",
    "                    em += math.exp(-alpha * (real_error ** 2))\n",
    "            else:\n",
    "                em += 1\n",
    "    return aa / len(predictions), em / len(predictions)"
   ]
  },
  {
   "cell_type": "code",
   "execution_count": 3,
   "metadata": {},
   "outputs": [
    {
     "name": "stderr",
     "output_type": "stream",
     "text": [
      "Fetching 11 files: 100%|██████████| 11/11 [00:00<00:00, 107797.53it/s]\n"
     ]
    }
   ],
   "source": [
    "loader = get_model_loader()\n",
    "# model_name = \"Qwen/Qwen2.5-7B-Instruct-1M\"\n",
    "# adapter_name = \"Qwen2.5-7B-Instruct-1M\"\n",
    "model_name = \"meta-llama/Meta-Llama-3-8B-Instruct\"\n",
    "adapter_name = \"Meta-Llama-3-8B-Instruct\"\n",
    "model, tokenizer = loader.load(\n",
    "    model_name\n",
    "    # , adapter_path=f\"../adapters/{adapter_name}\"\n",
    ")"
   ]
  },
  {
   "cell_type": "code",
   "execution_count": 4,
   "metadata": {},
   "outputs": [
    {
     "name": "stdout",
     "output_type": "stream",
     "text": [
      "fold\n",
      "Call\n"
     ]
    }
   ],
   "source": [
    "message = read_random_message()\n",
    "print(message[-1]['content'])\n",
    "message.pop()\n",
    "prompt = tokenizer.apply_chat_template(message, add_generation_prompt=True)\n",
    "response = loader.generate(model, tokenizer, prompt)\n",
    "print(response)"
   ]
  },
  {
   "cell_type": "code",
   "execution_count": 5,
   "metadata": {},
   "outputs": [],
   "source": [
    "# ground_truths = []\n",
    "# predictions = []\n",
    "# message2 = read_random_message()\n",
    "# print(message2[-1]['content'])\n",
    "# ground_truths.append(message2[-1]['content'])\n",
    "# message2.pop()\n",
    "# prompt2 = tokenizer.apply_chat_template(message2, add_generation_prompt=True)\n",
    "\n",
    "# response = loader.generate(model, tokenizer, prompt)\n",
    "# print(response)\n",
    "# predictions.append(response)\n",
    "# aa, em = calculate_aa_em(predictions, ground_truths)\n",
    "# print(f\"AA: {aa}, EM: {em}\")"
   ]
  },
  {
   "cell_type": "code",
   "execution_count": 6,
   "metadata": {},
   "outputs": [],
   "source": [
    "ground_truths = []\n",
    "predictions = []\n",
    "\n",
    "# ground_truths.append(\"raise 22.0\")\n",
    "# predictions.append(\"Raise 20.0\")\n",
    "\n",
    "# aa, em = calculate_aa_em(predictions, ground_truths)\n",
    "# test = \"raise 22.0\"\n",
    "\n",
    "# number =test.strip().split()[-1].lower()\n",
    "# print(is_number(number))\n",
    "\n",
    "# print(f\"AA: {aa}, EM: {em}\")"
   ]
  },
  {
   "cell_type": "code",
   "execution_count": 7,
   "metadata": {},
   "outputs": [
    {
     "name": "stdout",
     "output_type": "stream",
     "text": [
      "AA: 0.281, EM: 0.26733209873388614\n"
     ]
    }
   ],
   "source": [
    "for i in range(1000):\n",
    "    message = read_line_with_index(i)\n",
    "    # print(message[-1]['content'])\n",
    "    ground_truths.append(message[-1]['content'])\n",
    "    message.pop()\n",
    "    prompt = tokenizer.apply_chat_template(message, add_generation_prompt=True)\n",
    "    response = loader.generate(model, tokenizer, prompt)\n",
    "    # print(response)\n",
    "    predictions.append(response)\n",
    "\n",
    "aa, em = calculate_aa_em(predictions, ground_truths)\n",
    "print(f\"AA: {aa}, EM: {em}\")\n",
    "# print(predictions)\n",
    "# print(ground_truths)"
   ]
  },
  {
   "cell_type": "code",
   "execution_count": 8,
   "metadata": {},
   "outputs": [],
   "source": [
    "# Create a DataFrame for predictions and ground truths\n",
    "results_df = pd.DataFrame({\n",
    "    \"Prediction\": predictions,\n",
    "    \"Ground Truth\": ground_truths\n",
    "})\n",
    "\n",
    "# # Create a DataFrame for metrics: AA and EM\n",
    "# metrics_df = pd.DataFrame({\n",
    "#     \"Metric\": [\"AA\", \"EM\"],\n",
    "#     \"Value\": [aa, em]\n",
    "# })\n",
    "\n",
    "output_path = \"../testing-results\"\n",
    "# Save the DataFrames to CSV files\n",
    "results_df.to_csv(f\"{output_path}/{adapter_name}_predictions.csv\", index=False)\n",
    "# metrics_df.to_csv(f\"{output_path}/{adapter_name}_metrics.csv\", index=False)"
   ]
  }
 ],
 "metadata": {
  "kernelspec": {
   "display_name": "LLM",
   "language": "python",
   "name": "python3"
  },
  "language_info": {
   "codemirror_mode": {
    "name": "ipython",
    "version": 3
   },
   "file_extension": ".py",
   "mimetype": "text/x-python",
   "name": "python",
   "nbconvert_exporter": "python",
   "pygments_lexer": "ipython3",
   "version": "3.11.11"
  }
 },
 "nbformat": 4,
 "nbformat_minor": 2
}
