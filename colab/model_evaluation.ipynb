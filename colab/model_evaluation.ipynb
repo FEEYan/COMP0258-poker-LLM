{
  "nbformat": 4,
  "nbformat_minor": 0,
  "metadata": {
    "colab": {
      "provenance": [],
      "gpuType": "T4",
      "include_colab_link": true
    },
    "kernelspec": {
      "name": "python3",
      "display_name": "Python 3"
    },
    "language_info": {
      "name": "python"
    },
    "accelerator": "GPU",
    "widgets": {
      "application/vnd.jupyter.widget-state+json": {
        "a42fa79ffa314f1896d05423a9295c92": {
          "model_module": "@jupyter-widgets/controls",
          "model_name": "HBoxModel",
          "model_module_version": "1.5.0",
          "state": {
            "_dom_classes": [],
            "_model_module": "@jupyter-widgets/controls",
            "_model_module_version": "1.5.0",
            "_model_name": "HBoxModel",
            "_view_count": null,
            "_view_module": "@jupyter-widgets/controls",
            "_view_module_version": "1.5.0",
            "_view_name": "HBoxView",
            "box_style": "",
            "children": [
              "IPY_MODEL_b79d6f02b2734bdb865ba2a51e01e8f5",
              "IPY_MODEL_35382eb2aed0471db8c61ec68ee2eacf",
              "IPY_MODEL_35b1142b6f1a413e945577e2ff31dd80"
            ],
            "layout": "IPY_MODEL_5aba8080e19f48629c4a6fc2bc4f26d3"
          }
        },
        "b79d6f02b2734bdb865ba2a51e01e8f5": {
          "model_module": "@jupyter-widgets/controls",
          "model_name": "HTMLModel",
          "model_module_version": "1.5.0",
          "state": {
            "_dom_classes": [],
            "_model_module": "@jupyter-widgets/controls",
            "_model_module_version": "1.5.0",
            "_model_name": "HTMLModel",
            "_view_count": null,
            "_view_module": "@jupyter-widgets/controls",
            "_view_module_version": "1.5.0",
            "_view_name": "HTMLView",
            "description": "",
            "description_tooltip": null,
            "layout": "IPY_MODEL_4c893403de4b4e1896b77830e3a5570c",
            "placeholder": "​",
            "style": "IPY_MODEL_dfdd77f7c68f47968ae19ba60ae69afe",
            "value": "model.safetensors: 100%"
          }
        },
        "35382eb2aed0471db8c61ec68ee2eacf": {
          "model_module": "@jupyter-widgets/controls",
          "model_name": "FloatProgressModel",
          "model_module_version": "1.5.0",
          "state": {
            "_dom_classes": [],
            "_model_module": "@jupyter-widgets/controls",
            "_model_module_version": "1.5.0",
            "_model_name": "FloatProgressModel",
            "_view_count": null,
            "_view_module": "@jupyter-widgets/controls",
            "_view_module_version": "1.5.0",
            "_view_name": "ProgressView",
            "bar_style": "danger",
            "description": "",
            "description_tooltip": null,
            "layout": "IPY_MODEL_888cca4308884fcfb35243c13c5c0600",
            "max": 2354805470,
            "min": 0,
            "orientation": "horizontal",
            "style": "IPY_MODEL_a72dc40d068e4064bfde3771dcd6956d",
            "value": 2354805246
          }
        },
        "35b1142b6f1a413e945577e2ff31dd80": {
          "model_module": "@jupyter-widgets/controls",
          "model_name": "HTMLModel",
          "model_module_version": "1.5.0",
          "state": {
            "_dom_classes": [],
            "_model_module": "@jupyter-widgets/controls",
            "_model_module_version": "1.5.0",
            "_model_name": "HTMLModel",
            "_view_count": null,
            "_view_module": "@jupyter-widgets/controls",
            "_view_module_version": "1.5.0",
            "_view_name": "HTMLView",
            "description": "",
            "description_tooltip": null,
            "layout": "IPY_MODEL_6892a2bad926465b8f00eef9a022e55f",
            "placeholder": "​",
            "style": "IPY_MODEL_5f58c947cb9b4f1fa5d3718ea822f862",
            "value": " 2.35G/2.35G [00:25&lt;00:00, 356MB/s]"
          }
        },
        "5aba8080e19f48629c4a6fc2bc4f26d3": {
          "model_module": "@jupyter-widgets/base",
          "model_name": "LayoutModel",
          "model_module_version": "1.2.0",
          "state": {
            "_model_module": "@jupyter-widgets/base",
            "_model_module_version": "1.2.0",
            "_model_name": "LayoutModel",
            "_view_count": null,
            "_view_module": "@jupyter-widgets/base",
            "_view_module_version": "1.2.0",
            "_view_name": "LayoutView",
            "align_content": null,
            "align_items": null,
            "align_self": null,
            "border": null,
            "bottom": null,
            "display": null,
            "flex": null,
            "flex_flow": null,
            "grid_area": null,
            "grid_auto_columns": null,
            "grid_auto_flow": null,
            "grid_auto_rows": null,
            "grid_column": null,
            "grid_gap": null,
            "grid_row": null,
            "grid_template_areas": null,
            "grid_template_columns": null,
            "grid_template_rows": null,
            "height": null,
            "justify_content": null,
            "justify_items": null,
            "left": null,
            "margin": null,
            "max_height": null,
            "max_width": null,
            "min_height": null,
            "min_width": null,
            "object_fit": null,
            "object_position": null,
            "order": null,
            "overflow": null,
            "overflow_x": null,
            "overflow_y": null,
            "padding": null,
            "right": null,
            "top": null,
            "visibility": null,
            "width": null
          }
        },
        "4c893403de4b4e1896b77830e3a5570c": {
          "model_module": "@jupyter-widgets/base",
          "model_name": "LayoutModel",
          "model_module_version": "1.2.0",
          "state": {
            "_model_module": "@jupyter-widgets/base",
            "_model_module_version": "1.2.0",
            "_model_name": "LayoutModel",
            "_view_count": null,
            "_view_module": "@jupyter-widgets/base",
            "_view_module_version": "1.2.0",
            "_view_name": "LayoutView",
            "align_content": null,
            "align_items": null,
            "align_self": null,
            "border": null,
            "bottom": null,
            "display": null,
            "flex": null,
            "flex_flow": null,
            "grid_area": null,
            "grid_auto_columns": null,
            "grid_auto_flow": null,
            "grid_auto_rows": null,
            "grid_column": null,
            "grid_gap": null,
            "grid_row": null,
            "grid_template_areas": null,
            "grid_template_columns": null,
            "grid_template_rows": null,
            "height": null,
            "justify_content": null,
            "justify_items": null,
            "left": null,
            "margin": null,
            "max_height": null,
            "max_width": null,
            "min_height": null,
            "min_width": null,
            "object_fit": null,
            "object_position": null,
            "order": null,
            "overflow": null,
            "overflow_x": null,
            "overflow_y": null,
            "padding": null,
            "right": null,
            "top": null,
            "visibility": null,
            "width": null
          }
        },
        "dfdd77f7c68f47968ae19ba60ae69afe": {
          "model_module": "@jupyter-widgets/controls",
          "model_name": "DescriptionStyleModel",
          "model_module_version": "1.5.0",
          "state": {
            "_model_module": "@jupyter-widgets/controls",
            "_model_module_version": "1.5.0",
            "_model_name": "DescriptionStyleModel",
            "_view_count": null,
            "_view_module": "@jupyter-widgets/base",
            "_view_module_version": "1.2.0",
            "_view_name": "StyleView",
            "description_width": ""
          }
        },
        "888cca4308884fcfb35243c13c5c0600": {
          "model_module": "@jupyter-widgets/base",
          "model_name": "LayoutModel",
          "model_module_version": "1.2.0",
          "state": {
            "_model_module": "@jupyter-widgets/base",
            "_model_module_version": "1.2.0",
            "_model_name": "LayoutModel",
            "_view_count": null,
            "_view_module": "@jupyter-widgets/base",
            "_view_module_version": "1.2.0",
            "_view_name": "LayoutView",
            "align_content": null,
            "align_items": null,
            "align_self": null,
            "border": null,
            "bottom": null,
            "display": null,
            "flex": null,
            "flex_flow": null,
            "grid_area": null,
            "grid_auto_columns": null,
            "grid_auto_flow": null,
            "grid_auto_rows": null,
            "grid_column": null,
            "grid_gap": null,
            "grid_row": null,
            "grid_template_areas": null,
            "grid_template_columns": null,
            "grid_template_rows": null,
            "height": null,
            "justify_content": null,
            "justify_items": null,
            "left": null,
            "margin": null,
            "max_height": null,
            "max_width": null,
            "min_height": null,
            "min_width": null,
            "object_fit": null,
            "object_position": null,
            "order": null,
            "overflow": null,
            "overflow_x": null,
            "overflow_y": null,
            "padding": null,
            "right": null,
            "top": null,
            "visibility": null,
            "width": null
          }
        },
        "a72dc40d068e4064bfde3771dcd6956d": {
          "model_module": "@jupyter-widgets/controls",
          "model_name": "ProgressStyleModel",
          "model_module_version": "1.5.0",
          "state": {
            "_model_module": "@jupyter-widgets/controls",
            "_model_module_version": "1.5.0",
            "_model_name": "ProgressStyleModel",
            "_view_count": null,
            "_view_module": "@jupyter-widgets/base",
            "_view_module_version": "1.2.0",
            "_view_name": "StyleView",
            "bar_color": null,
            "description_width": ""
          }
        },
        "6892a2bad926465b8f00eef9a022e55f": {
          "model_module": "@jupyter-widgets/base",
          "model_name": "LayoutModel",
          "model_module_version": "1.2.0",
          "state": {
            "_model_module": "@jupyter-widgets/base",
            "_model_module_version": "1.2.0",
            "_model_name": "LayoutModel",
            "_view_count": null,
            "_view_module": "@jupyter-widgets/base",
            "_view_module_version": "1.2.0",
            "_view_name": "LayoutView",
            "align_content": null,
            "align_items": null,
            "align_self": null,
            "border": null,
            "bottom": null,
            "display": null,
            "flex": null,
            "flex_flow": null,
            "grid_area": null,
            "grid_auto_columns": null,
            "grid_auto_flow": null,
            "grid_auto_rows": null,
            "grid_column": null,
            "grid_gap": null,
            "grid_row": null,
            "grid_template_areas": null,
            "grid_template_columns": null,
            "grid_template_rows": null,
            "height": null,
            "justify_content": null,
            "justify_items": null,
            "left": null,
            "margin": null,
            "max_height": null,
            "max_width": null,
            "min_height": null,
            "min_width": null,
            "object_fit": null,
            "object_position": null,
            "order": null,
            "overflow": null,
            "overflow_x": null,
            "overflow_y": null,
            "padding": null,
            "right": null,
            "top": null,
            "visibility": null,
            "width": null
          }
        },
        "5f58c947cb9b4f1fa5d3718ea822f862": {
          "model_module": "@jupyter-widgets/controls",
          "model_name": "DescriptionStyleModel",
          "model_module_version": "1.5.0",
          "state": {
            "_model_module": "@jupyter-widgets/controls",
            "_model_module_version": "1.5.0",
            "_model_name": "DescriptionStyleModel",
            "_view_count": null,
            "_view_module": "@jupyter-widgets/base",
            "_view_module_version": "1.2.0",
            "_view_name": "StyleView",
            "description_width": ""
          }
        },
        "21dc109cf91c4a4e916c27bc15d2d038": {
          "model_module": "@jupyter-widgets/controls",
          "model_name": "HBoxModel",
          "model_module_version": "1.5.0",
          "state": {
            "_dom_classes": [],
            "_model_module": "@jupyter-widgets/controls",
            "_model_module_version": "1.5.0",
            "_model_name": "HBoxModel",
            "_view_count": null,
            "_view_module": "@jupyter-widgets/controls",
            "_view_module_version": "1.5.0",
            "_view_name": "HBoxView",
            "box_style": "",
            "children": [
              "IPY_MODEL_48373011842e4048b94917f5db3ac5c3",
              "IPY_MODEL_a7ced8a4596e4b658083b8871d520b0b",
              "IPY_MODEL_04226d04379749c7a8e8d5671fb3d407"
            ],
            "layout": "IPY_MODEL_e8ca923c5d1b485482f05f7e8cc29da1"
          }
        },
        "48373011842e4048b94917f5db3ac5c3": {
          "model_module": "@jupyter-widgets/controls",
          "model_name": "HTMLModel",
          "model_module_version": "1.5.0",
          "state": {
            "_dom_classes": [],
            "_model_module": "@jupyter-widgets/controls",
            "_model_module_version": "1.5.0",
            "_model_name": "HTMLModel",
            "_view_count": null,
            "_view_module": "@jupyter-widgets/controls",
            "_view_module_version": "1.5.0",
            "_view_name": "HTMLView",
            "description": "",
            "description_tooltip": null,
            "layout": "IPY_MODEL_d240d27dab4047e3a0184b680f78b39a",
            "placeholder": "​",
            "style": "IPY_MODEL_4104032d64b74261899e6b5cb413a393",
            "value": "generation_config.json: 100%"
          }
        },
        "a7ced8a4596e4b658083b8871d520b0b": {
          "model_module": "@jupyter-widgets/controls",
          "model_name": "FloatProgressModel",
          "model_module_version": "1.5.0",
          "state": {
            "_dom_classes": [],
            "_model_module": "@jupyter-widgets/controls",
            "_model_module_version": "1.5.0",
            "_model_name": "FloatProgressModel",
            "_view_count": null,
            "_view_module": "@jupyter-widgets/controls",
            "_view_module_version": "1.5.0",
            "_view_name": "ProgressView",
            "bar_style": "success",
            "description": "",
            "description_tooltip": null,
            "layout": "IPY_MODEL_7d8009c366804d75bd8f1ca9bfa47d77",
            "max": 234,
            "min": 0,
            "orientation": "horizontal",
            "style": "IPY_MODEL_c383e898118d44a5a7d8f6afb0f54677",
            "value": 234
          }
        },
        "04226d04379749c7a8e8d5671fb3d407": {
          "model_module": "@jupyter-widgets/controls",
          "model_name": "HTMLModel",
          "model_module_version": "1.5.0",
          "state": {
            "_dom_classes": [],
            "_model_module": "@jupyter-widgets/controls",
            "_model_module_version": "1.5.0",
            "_model_name": "HTMLModel",
            "_view_count": null,
            "_view_module": "@jupyter-widgets/controls",
            "_view_module_version": "1.5.0",
            "_view_name": "HTMLView",
            "description": "",
            "description_tooltip": null,
            "layout": "IPY_MODEL_b356afa54cb94fe298c4e2cca5f6856e",
            "placeholder": "​",
            "style": "IPY_MODEL_bc1a1f1dc72340509927e95bf48349e2",
            "value": " 234/234 [00:00&lt;00:00, 24.9kB/s]"
          }
        },
        "e8ca923c5d1b485482f05f7e8cc29da1": {
          "model_module": "@jupyter-widgets/base",
          "model_name": "LayoutModel",
          "model_module_version": "1.2.0",
          "state": {
            "_model_module": "@jupyter-widgets/base",
            "_model_module_version": "1.2.0",
            "_model_name": "LayoutModel",
            "_view_count": null,
            "_view_module": "@jupyter-widgets/base",
            "_view_module_version": "1.2.0",
            "_view_name": "LayoutView",
            "align_content": null,
            "align_items": null,
            "align_self": null,
            "border": null,
            "bottom": null,
            "display": null,
            "flex": null,
            "flex_flow": null,
            "grid_area": null,
            "grid_auto_columns": null,
            "grid_auto_flow": null,
            "grid_auto_rows": null,
            "grid_column": null,
            "grid_gap": null,
            "grid_row": null,
            "grid_template_areas": null,
            "grid_template_columns": null,
            "grid_template_rows": null,
            "height": null,
            "justify_content": null,
            "justify_items": null,
            "left": null,
            "margin": null,
            "max_height": null,
            "max_width": null,
            "min_height": null,
            "min_width": null,
            "object_fit": null,
            "object_position": null,
            "order": null,
            "overflow": null,
            "overflow_x": null,
            "overflow_y": null,
            "padding": null,
            "right": null,
            "top": null,
            "visibility": null,
            "width": null
          }
        },
        "d240d27dab4047e3a0184b680f78b39a": {
          "model_module": "@jupyter-widgets/base",
          "model_name": "LayoutModel",
          "model_module_version": "1.2.0",
          "state": {
            "_model_module": "@jupyter-widgets/base",
            "_model_module_version": "1.2.0",
            "_model_name": "LayoutModel",
            "_view_count": null,
            "_view_module": "@jupyter-widgets/base",
            "_view_module_version": "1.2.0",
            "_view_name": "LayoutView",
            "align_content": null,
            "align_items": null,
            "align_self": null,
            "border": null,
            "bottom": null,
            "display": null,
            "flex": null,
            "flex_flow": null,
            "grid_area": null,
            "grid_auto_columns": null,
            "grid_auto_flow": null,
            "grid_auto_rows": null,
            "grid_column": null,
            "grid_gap": null,
            "grid_row": null,
            "grid_template_areas": null,
            "grid_template_columns": null,
            "grid_template_rows": null,
            "height": null,
            "justify_content": null,
            "justify_items": null,
            "left": null,
            "margin": null,
            "max_height": null,
            "max_width": null,
            "min_height": null,
            "min_width": null,
            "object_fit": null,
            "object_position": null,
            "order": null,
            "overflow": null,
            "overflow_x": null,
            "overflow_y": null,
            "padding": null,
            "right": null,
            "top": null,
            "visibility": null,
            "width": null
          }
        },
        "4104032d64b74261899e6b5cb413a393": {
          "model_module": "@jupyter-widgets/controls",
          "model_name": "DescriptionStyleModel",
          "model_module_version": "1.5.0",
          "state": {
            "_model_module": "@jupyter-widgets/controls",
            "_model_module_version": "1.5.0",
            "_model_name": "DescriptionStyleModel",
            "_view_count": null,
            "_view_module": "@jupyter-widgets/base",
            "_view_module_version": "1.2.0",
            "_view_name": "StyleView",
            "description_width": ""
          }
        },
        "7d8009c366804d75bd8f1ca9bfa47d77": {
          "model_module": "@jupyter-widgets/base",
          "model_name": "LayoutModel",
          "model_module_version": "1.2.0",
          "state": {
            "_model_module": "@jupyter-widgets/base",
            "_model_module_version": "1.2.0",
            "_model_name": "LayoutModel",
            "_view_count": null,
            "_view_module": "@jupyter-widgets/base",
            "_view_module_version": "1.2.0",
            "_view_name": "LayoutView",
            "align_content": null,
            "align_items": null,
            "align_self": null,
            "border": null,
            "bottom": null,
            "display": null,
            "flex": null,
            "flex_flow": null,
            "grid_area": null,
            "grid_auto_columns": null,
            "grid_auto_flow": null,
            "grid_auto_rows": null,
            "grid_column": null,
            "grid_gap": null,
            "grid_row": null,
            "grid_template_areas": null,
            "grid_template_columns": null,
            "grid_template_rows": null,
            "height": null,
            "justify_content": null,
            "justify_items": null,
            "left": null,
            "margin": null,
            "max_height": null,
            "max_width": null,
            "min_height": null,
            "min_width": null,
            "object_fit": null,
            "object_position": null,
            "order": null,
            "overflow": null,
            "overflow_x": null,
            "overflow_y": null,
            "padding": null,
            "right": null,
            "top": null,
            "visibility": null,
            "width": null
          }
        },
        "c383e898118d44a5a7d8f6afb0f54677": {
          "model_module": "@jupyter-widgets/controls",
          "model_name": "ProgressStyleModel",
          "model_module_version": "1.5.0",
          "state": {
            "_model_module": "@jupyter-widgets/controls",
            "_model_module_version": "1.5.0",
            "_model_name": "ProgressStyleModel",
            "_view_count": null,
            "_view_module": "@jupyter-widgets/base",
            "_view_module_version": "1.2.0",
            "_view_name": "StyleView",
            "bar_color": null,
            "description_width": ""
          }
        },
        "b356afa54cb94fe298c4e2cca5f6856e": {
          "model_module": "@jupyter-widgets/base",
          "model_name": "LayoutModel",
          "model_module_version": "1.2.0",
          "state": {
            "_model_module": "@jupyter-widgets/base",
            "_model_module_version": "1.2.0",
            "_model_name": "LayoutModel",
            "_view_count": null,
            "_view_module": "@jupyter-widgets/base",
            "_view_module_version": "1.2.0",
            "_view_name": "LayoutView",
            "align_content": null,
            "align_items": null,
            "align_self": null,
            "border": null,
            "bottom": null,
            "display": null,
            "flex": null,
            "flex_flow": null,
            "grid_area": null,
            "grid_auto_columns": null,
            "grid_auto_flow": null,
            "grid_auto_rows": null,
            "grid_column": null,
            "grid_gap": null,
            "grid_row": null,
            "grid_template_areas": null,
            "grid_template_columns": null,
            "grid_template_rows": null,
            "height": null,
            "justify_content": null,
            "justify_items": null,
            "left": null,
            "margin": null,
            "max_height": null,
            "max_width": null,
            "min_height": null,
            "min_width": null,
            "object_fit": null,
            "object_position": null,
            "order": null,
            "overflow": null,
            "overflow_x": null,
            "overflow_y": null,
            "padding": null,
            "right": null,
            "top": null,
            "visibility": null,
            "width": null
          }
        },
        "bc1a1f1dc72340509927e95bf48349e2": {
          "model_module": "@jupyter-widgets/controls",
          "model_name": "DescriptionStyleModel",
          "model_module_version": "1.5.0",
          "state": {
            "_model_module": "@jupyter-widgets/controls",
            "_model_module_version": "1.5.0",
            "_model_name": "DescriptionStyleModel",
            "_view_count": null,
            "_view_module": "@jupyter-widgets/base",
            "_view_module_version": "1.2.0",
            "_view_name": "StyleView",
            "description_width": ""
          }
        },
        "24ff7479920f4c559c27a280256fa092": {
          "model_module": "@jupyter-widgets/controls",
          "model_name": "HBoxModel",
          "model_module_version": "1.5.0",
          "state": {
            "_dom_classes": [],
            "_model_module": "@jupyter-widgets/controls",
            "_model_module_version": "1.5.0",
            "_model_name": "HBoxModel",
            "_view_count": null,
            "_view_module": "@jupyter-widgets/controls",
            "_view_module_version": "1.5.0",
            "_view_name": "HBoxView",
            "box_style": "",
            "children": [
              "IPY_MODEL_32678cee1b5e4c5c9f210eed1b28fb76",
              "IPY_MODEL_58362f88fd3246978068a62d1160c47d",
              "IPY_MODEL_572548eca53b4179ada284afd3feb12e"
            ],
            "layout": "IPY_MODEL_c08a1c7346074e91a56bb8a5317a65a1"
          }
        },
        "32678cee1b5e4c5c9f210eed1b28fb76": {
          "model_module": "@jupyter-widgets/controls",
          "model_name": "HTMLModel",
          "model_module_version": "1.5.0",
          "state": {
            "_dom_classes": [],
            "_model_module": "@jupyter-widgets/controls",
            "_model_module_version": "1.5.0",
            "_model_name": "HTMLModel",
            "_view_count": null,
            "_view_module": "@jupyter-widgets/controls",
            "_view_module_version": "1.5.0",
            "_view_name": "HTMLView",
            "description": "",
            "description_tooltip": null,
            "layout": "IPY_MODEL_8a10048040404f4db1b6e09bfd681609",
            "placeholder": "​",
            "style": "IPY_MODEL_f747e12d0a4c4023adb349eebcbbd209",
            "value": "Map: 100%"
          }
        },
        "58362f88fd3246978068a62d1160c47d": {
          "model_module": "@jupyter-widgets/controls",
          "model_name": "FloatProgressModel",
          "model_module_version": "1.5.0",
          "state": {
            "_dom_classes": [],
            "_model_module": "@jupyter-widgets/controls",
            "_model_module_version": "1.5.0",
            "_model_name": "FloatProgressModel",
            "_view_count": null,
            "_view_module": "@jupyter-widgets/controls",
            "_view_module_version": "1.5.0",
            "_view_name": "ProgressView",
            "bar_style": "success",
            "description": "",
            "description_tooltip": null,
            "layout": "IPY_MODEL_c18c49f2d46c4011a1841945384704c2",
            "max": 11000,
            "min": 0,
            "orientation": "horizontal",
            "style": "IPY_MODEL_2750d23712654b5bbdd9e138a8d1c781",
            "value": 11000
          }
        },
        "572548eca53b4179ada284afd3feb12e": {
          "model_module": "@jupyter-widgets/controls",
          "model_name": "HTMLModel",
          "model_module_version": "1.5.0",
          "state": {
            "_dom_classes": [],
            "_model_module": "@jupyter-widgets/controls",
            "_model_module_version": "1.5.0",
            "_model_name": "HTMLModel",
            "_view_count": null,
            "_view_module": "@jupyter-widgets/controls",
            "_view_module_version": "1.5.0",
            "_view_name": "HTMLView",
            "description": "",
            "description_tooltip": null,
            "layout": "IPY_MODEL_c6ae417f44504e459ff421761c301a68",
            "placeholder": "​",
            "style": "IPY_MODEL_921201feb7e84a36b532d8fbbe51575c",
            "value": " 11000/11000 [00:00&lt;00:00, 92982.28 examples/s]"
          }
        },
        "c08a1c7346074e91a56bb8a5317a65a1": {
          "model_module": "@jupyter-widgets/base",
          "model_name": "LayoutModel",
          "model_module_version": "1.2.0",
          "state": {
            "_model_module": "@jupyter-widgets/base",
            "_model_module_version": "1.2.0",
            "_model_name": "LayoutModel",
            "_view_count": null,
            "_view_module": "@jupyter-widgets/base",
            "_view_module_version": "1.2.0",
            "_view_name": "LayoutView",
            "align_content": null,
            "align_items": null,
            "align_self": null,
            "border": null,
            "bottom": null,
            "display": null,
            "flex": null,
            "flex_flow": null,
            "grid_area": null,
            "grid_auto_columns": null,
            "grid_auto_flow": null,
            "grid_auto_rows": null,
            "grid_column": null,
            "grid_gap": null,
            "grid_row": null,
            "grid_template_areas": null,
            "grid_template_columns": null,
            "grid_template_rows": null,
            "height": null,
            "justify_content": null,
            "justify_items": null,
            "left": null,
            "margin": null,
            "max_height": null,
            "max_width": null,
            "min_height": null,
            "min_width": null,
            "object_fit": null,
            "object_position": null,
            "order": null,
            "overflow": null,
            "overflow_x": null,
            "overflow_y": null,
            "padding": null,
            "right": null,
            "top": null,
            "visibility": null,
            "width": null
          }
        },
        "8a10048040404f4db1b6e09bfd681609": {
          "model_module": "@jupyter-widgets/base",
          "model_name": "LayoutModel",
          "model_module_version": "1.2.0",
          "state": {
            "_model_module": "@jupyter-widgets/base",
            "_model_module_version": "1.2.0",
            "_model_name": "LayoutModel",
            "_view_count": null,
            "_view_module": "@jupyter-widgets/base",
            "_view_module_version": "1.2.0",
            "_view_name": "LayoutView",
            "align_content": null,
            "align_items": null,
            "align_self": null,
            "border": null,
            "bottom": null,
            "display": null,
            "flex": null,
            "flex_flow": null,
            "grid_area": null,
            "grid_auto_columns": null,
            "grid_auto_flow": null,
            "grid_auto_rows": null,
            "grid_column": null,
            "grid_gap": null,
            "grid_row": null,
            "grid_template_areas": null,
            "grid_template_columns": null,
            "grid_template_rows": null,
            "height": null,
            "justify_content": null,
            "justify_items": null,
            "left": null,
            "margin": null,
            "max_height": null,
            "max_width": null,
            "min_height": null,
            "min_width": null,
            "object_fit": null,
            "object_position": null,
            "order": null,
            "overflow": null,
            "overflow_x": null,
            "overflow_y": null,
            "padding": null,
            "right": null,
            "top": null,
            "visibility": null,
            "width": null
          }
        },
        "f747e12d0a4c4023adb349eebcbbd209": {
          "model_module": "@jupyter-widgets/controls",
          "model_name": "DescriptionStyleModel",
          "model_module_version": "1.5.0",
          "state": {
            "_model_module": "@jupyter-widgets/controls",
            "_model_module_version": "1.5.0",
            "_model_name": "DescriptionStyleModel",
            "_view_count": null,
            "_view_module": "@jupyter-widgets/base",
            "_view_module_version": "1.2.0",
            "_view_name": "StyleView",
            "description_width": ""
          }
        },
        "c18c49f2d46c4011a1841945384704c2": {
          "model_module": "@jupyter-widgets/base",
          "model_name": "LayoutModel",
          "model_module_version": "1.2.0",
          "state": {
            "_model_module": "@jupyter-widgets/base",
            "_model_module_version": "1.2.0",
            "_model_name": "LayoutModel",
            "_view_count": null,
            "_view_module": "@jupyter-widgets/base",
            "_view_module_version": "1.2.0",
            "_view_name": "LayoutView",
            "align_content": null,
            "align_items": null,
            "align_self": null,
            "border": null,
            "bottom": null,
            "display": null,
            "flex": null,
            "flex_flow": null,
            "grid_area": null,
            "grid_auto_columns": null,
            "grid_auto_flow": null,
            "grid_auto_rows": null,
            "grid_column": null,
            "grid_gap": null,
            "grid_row": null,
            "grid_template_areas": null,
            "grid_template_columns": null,
            "grid_template_rows": null,
            "height": null,
            "justify_content": null,
            "justify_items": null,
            "left": null,
            "margin": null,
            "max_height": null,
            "max_width": null,
            "min_height": null,
            "min_width": null,
            "object_fit": null,
            "object_position": null,
            "order": null,
            "overflow": null,
            "overflow_x": null,
            "overflow_y": null,
            "padding": null,
            "right": null,
            "top": null,
            "visibility": null,
            "width": null
          }
        },
        "2750d23712654b5bbdd9e138a8d1c781": {
          "model_module": "@jupyter-widgets/controls",
          "model_name": "ProgressStyleModel",
          "model_module_version": "1.5.0",
          "state": {
            "_model_module": "@jupyter-widgets/controls",
            "_model_module_version": "1.5.0",
            "_model_name": "ProgressStyleModel",
            "_view_count": null,
            "_view_module": "@jupyter-widgets/base",
            "_view_module_version": "1.2.0",
            "_view_name": "StyleView",
            "bar_color": null,
            "description_width": ""
          }
        },
        "c6ae417f44504e459ff421761c301a68": {
          "model_module": "@jupyter-widgets/base",
          "model_name": "LayoutModel",
          "model_module_version": "1.2.0",
          "state": {
            "_model_module": "@jupyter-widgets/base",
            "_model_module_version": "1.2.0",
            "_model_name": "LayoutModel",
            "_view_count": null,
            "_view_module": "@jupyter-widgets/base",
            "_view_module_version": "1.2.0",
            "_view_name": "LayoutView",
            "align_content": null,
            "align_items": null,
            "align_self": null,
            "border": null,
            "bottom": null,
            "display": null,
            "flex": null,
            "flex_flow": null,
            "grid_area": null,
            "grid_auto_columns": null,
            "grid_auto_flow": null,
            "grid_auto_rows": null,
            "grid_column": null,
            "grid_gap": null,
            "grid_row": null,
            "grid_template_areas": null,
            "grid_template_columns": null,
            "grid_template_rows": null,
            "height": null,
            "justify_content": null,
            "justify_items": null,
            "left": null,
            "margin": null,
            "max_height": null,
            "max_width": null,
            "min_height": null,
            "min_width": null,
            "object_fit": null,
            "object_position": null,
            "order": null,
            "overflow": null,
            "overflow_x": null,
            "overflow_y": null,
            "padding": null,
            "right": null,
            "top": null,
            "visibility": null,
            "width": null
          }
        },
        "921201feb7e84a36b532d8fbbe51575c": {
          "model_module": "@jupyter-widgets/controls",
          "model_name": "DescriptionStyleModel",
          "model_module_version": "1.5.0",
          "state": {
            "_model_module": "@jupyter-widgets/controls",
            "_model_module_version": "1.5.0",
            "_model_name": "DescriptionStyleModel",
            "_view_count": null,
            "_view_module": "@jupyter-widgets/base",
            "_view_module_version": "1.2.0",
            "_view_name": "StyleView",
            "description_width": ""
          }
        }
      }
    }
  },
  "cells": [
    {
      "cell_type": "markdown",
      "metadata": {
        "id": "view-in-github",
        "colab_type": "text"
      },
      "source": [
        "<a href=\"https://colab.research.google.com/github/weber50432/COMP0258-poker-LLM/blob/master/colab/model_evaluation.ipynb\" target=\"_parent\"><img src=\"https://colab.research.google.com/assets/colab-badge.svg\" alt=\"Open In Colab\"/></a>"
      ]
    },
    {
      "cell_type": "code",
      "execution_count": 1,
      "metadata": {
        "colab": {
          "base_uri": "https://localhost:8080/"
        },
        "id": "mEZZKaYBbbP9",
        "outputId": "d5c19b14-c941-471f-bb66-7685a4c62eea"
      },
      "outputs": [
        {
          "output_type": "stream",
          "name": "stdout",
          "text": [
            "Drive already mounted at /content/drive; to attempt to forcibly remount, call drive.mount(\"/content/drive\", force_remount=True).\n"
          ]
        }
      ],
      "source": [
        "import os\n",
        "from google.colab import drive\n",
        "drive.mount('/content/drive')\n",
        "# Define the path to the models directory in Google Drive\n",
        "models_dir = '/content/drive/MyDrive/models'\n",
        "# Check if the directory exists\n",
        "if not os.path.exists(models_dir):\n",
        "    # If it doesn't exist, create it\n",
        "    os.makedirs(models_dir)\n",
        "output_dir = '/content/drive/MyDrive/outputs'\n",
        "# Check if the directory exists\n",
        "if not os.path.exists(output_dir):\n",
        "    # If it doesn't exist, create it\n",
        "    os.makedirs(output_dir)"
      ]
    },
    {
      "cell_type": "code",
      "source": [
        "%%capture\n",
        "# Normally using pip install unsloth is enough\n",
        "\n",
        "# Temporarily as of Jan 31st 2025, Colab has some issues with Pytorch\n",
        "# Using pip install unsloth will take 3 minutes, whilst the below takes <1 minute:\n",
        "!pip install --no-deps bitsandbytes accelerate xformers==0.0.29 peft trl triton\n",
        "!pip install --no-deps cut_cross_entropy unsloth_zoo\n",
        "!pip install sentencepiece protobuf datasets huggingface_hub hf_transfer\n",
        "!pip install --no-deps unsloth"
      ],
      "metadata": {
        "id": "RBTSzur4cKNi"
      },
      "execution_count": 2,
      "outputs": []
    },
    {
      "cell_type": "code",
      "source": [
        "from unsloth import FastLanguageModel\n",
        "from tqdm import tqdm\n",
        "from transformers import TextStreamer\n",
        "from datasets import load_dataset\n",
        "import random\n",
        "import pandas as pd"
      ],
      "metadata": {
        "id": "QOp85ydzdg9i",
        "outputId": "1ff81824-26f7-4265-b2da-80ebc3cbdffc",
        "colab": {
          "base_uri": "https://localhost:8080/"
        }
      },
      "execution_count": 3,
      "outputs": [
        {
          "output_type": "stream",
          "name": "stdout",
          "text": [
            "🦥 Unsloth: Will patch your computer to enable 2x faster free finetuning.\n",
            "🦥 Unsloth Zoo will now patch everything to make training faster!\n"
          ]
        }
      ]
    },
    {
      "cell_type": "code",
      "source": [
        "pretrained_model_name = \"lora_llama_3.2-3B_model-1000\"\n",
        "\n",
        "max_seq_length = 2048 # Choose any! We auto support RoPE Scaling internally!\n",
        "dtype = None # None for auto detection. Float16 for Tesla T4, V100, Bfloat16 for Ampere+\n",
        "load_in_4bit = True # Use 4bit quantization to reduce memory usage. Can be False.\n",
        "\n",
        "# 4bit pre quantized models we support for 4x faster downloading + no OOMs.\n",
        "fourbit_models = [\n",
        "    \"unsloth/Meta-Llama-3.1-8B-bnb-4bit\",      # Llama-3.1 15 trillion tokens model 2x faster!\n",
        "    \"unsloth/Meta-Llama-3.1-8B-Instruct-bnb-4bit\",\n",
        "    \"unsloth/Meta-Llama-3.1-70B-bnb-4bit\",\n",
        "    \"unsloth/Meta-Llama-3.1-405B-bnb-4bit\",    # We also uploaded 4bit for 405b!\n",
        "    \"unsloth/Mistral-Nemo-Base-2407-bnb-4bit\", # New Mistral 12b 2x faster!\n",
        "    \"unsloth/Mistral-Nemo-Instruct-2407-bnb-4bit\",\n",
        "    \"unsloth/mistral-7b-v0.3-bnb-4bit\",        # Mistral v3 2x faster!\n",
        "    \"unsloth/mistral-7b-instruct-v0.3-bnb-4bit\",\n",
        "    \"unsloth/Phi-3.5-mini-instruct\",           # Phi-3.5 2x faster!\n",
        "    \"unsloth/Phi-3-medium-4k-instruct\",\n",
        "    \"unsloth/gemma-2-9b-bnb-4bit\",\n",
        "    \"unsloth/gemma-2-27b-bnb-4bit\",            # Gemma 2x faster!\n",
        "] # More models at https://huggingface.co/unsloth\n"
      ],
      "metadata": {
        "id": "cACep_-6dZrq"
      },
      "execution_count": 4,
      "outputs": []
    },
    {
      "cell_type": "code",
      "source": [
        "if True:\n",
        "    model, tokenizer = FastLanguageModel.from_pretrained(\n",
        "        model_name = f\"{models_dir}/{pretrained_model_name}\", # YOUR MODEL YOU USED FOR TRAINING\n",
        "        max_seq_length = max_seq_length,\n",
        "        dtype = dtype,\n",
        "        load_in_4bit = load_in_4bit,\n",
        "    )\n",
        "    FastLanguageModel.for_inference(model) # Enable native 2x faster inference\n",
        "\n",
        "# prompt = You MUST copy from above!\n",
        "prompt = \"\"\"\n",
        "### Instruction:\n",
        "{}\n",
        "\n",
        "### Response:\n",
        "{}\"\"\"\n",
        "\n",
        "\n",
        "inputs = tokenizer(\n",
        "[\n",
        "    prompt.format(\n",
        "        \"You are a specialist in playing 6-handed No Limit Texas Holdem. The following will be a game scenario and you need to make the optimal decision.\\n\\nHere is a game summary:\\n\\nThe small blind is 0.5 chips and the big blind is 1 chips. Everyone started with 100 chips.\\nThe player positions involved in this game are UTG, HJ, CO, BTN, SB, BB.\\nIn this hand, your position is CO, and your holding is [Ace of Heart and King of Heart].\\nYou currently have High Card(Ace-high).\\nBefore the flop, CO raise 2.3, and BB raise 13.5. Assume that all other players that is not mentioned folded.\\n\\nNow it is your turn to make a move.\\nTo remind you, the current pot size is 16.3 chips, and your holding is [Ace of Heart and King of Heart].\\n\\nDecide on an action based on the strength of your hand on this board, your position, and actions before you. Do not explain your answer.\\nYour optimal action is:\"\n",
        "        \"\", # input\n",
        "        \"\", # output - leave this blank for generation!\n",
        "    )\n",
        "], return_tensors = \"pt\").to(\"cuda\")\n",
        "text_streamer = TextStreamer(tokenizer)\n",
        "outputs = model.generate(**inputs, streamer = text_streamer, max_new_tokens = 128)"
      ],
      "metadata": {
        "colab": {
          "base_uri": "https://localhost:8080/",
          "height": 563,
          "referenced_widgets": [
            "a42fa79ffa314f1896d05423a9295c92",
            "b79d6f02b2734bdb865ba2a51e01e8f5",
            "35382eb2aed0471db8c61ec68ee2eacf",
            "35b1142b6f1a413e945577e2ff31dd80",
            "5aba8080e19f48629c4a6fc2bc4f26d3",
            "4c893403de4b4e1896b77830e3a5570c",
            "dfdd77f7c68f47968ae19ba60ae69afe",
            "888cca4308884fcfb35243c13c5c0600",
            "a72dc40d068e4064bfde3771dcd6956d",
            "6892a2bad926465b8f00eef9a022e55f",
            "5f58c947cb9b4f1fa5d3718ea822f862",
            "21dc109cf91c4a4e916c27bc15d2d038",
            "48373011842e4048b94917f5db3ac5c3",
            "a7ced8a4596e4b658083b8871d520b0b",
            "04226d04379749c7a8e8d5671fb3d407",
            "e8ca923c5d1b485482f05f7e8cc29da1",
            "d240d27dab4047e3a0184b680f78b39a",
            "4104032d64b74261899e6b5cb413a393",
            "7d8009c366804d75bd8f1ca9bfa47d77",
            "c383e898118d44a5a7d8f6afb0f54677",
            "b356afa54cb94fe298c4e2cca5f6856e",
            "bc1a1f1dc72340509927e95bf48349e2"
          ]
        },
        "id": "ltJnst1EcKtL",
        "outputId": "bfab6bdb-1d20-4313-8989-8cbfbfb619e3"
      },
      "execution_count": 5,
      "outputs": [
        {
          "output_type": "stream",
          "name": "stdout",
          "text": [
            "==((====))==  Unsloth 2025.2.15: Fast Llama patching. Transformers: 4.48.3.\n",
            "   \\\\   /|    GPU: Tesla T4. Max memory: 14.741 GB. Platform: Linux.\n",
            "O^O/ \\_/ \\    Torch: 2.5.1+cu124. CUDA: 7.5. CUDA Toolkit: 12.4. Triton: 3.1.0\n",
            "\\        /    Bfloat16 = FALSE. FA [Xformers = 0.0.29. FA2 = False]\n",
            " \"-____-\"     Free Apache license: http://github.com/unslothai/unsloth\n",
            "Unsloth: Fast downloading is enabled - ignore downloading bars which are red colored!\n"
          ]
        },
        {
          "output_type": "display_data",
          "data": {
            "text/plain": [
              "model.safetensors:   0%|          | 0.00/2.35G [00:00<?, ?B/s]"
            ],
            "application/vnd.jupyter.widget-view+json": {
              "version_major": 2,
              "version_minor": 0,
              "model_id": "a42fa79ffa314f1896d05423a9295c92"
            }
          },
          "metadata": {}
        },
        {
          "output_type": "display_data",
          "data": {
            "text/plain": [
              "generation_config.json:   0%|          | 0.00/234 [00:00<?, ?B/s]"
            ],
            "application/vnd.jupyter.widget-view+json": {
              "version_major": 2,
              "version_minor": 0,
              "model_id": "21dc109cf91c4a4e916c27bc15d2d038"
            }
          },
          "metadata": {}
        },
        {
          "output_type": "stream",
          "name": "stderr",
          "text": [
            "Unsloth 2025.2.15 patched 28 layers with 28 QKV layers, 28 O layers and 28 MLP layers.\n"
          ]
        },
        {
          "output_type": "stream",
          "name": "stdout",
          "text": [
            "<|begin_of_text|>\n",
            "### Instruction:\n",
            "You are a specialist in playing 6-handed No Limit Texas Holdem. The following will be a game scenario and you need to make the optimal decision.\n",
            "\n",
            "Here is a game summary:\n",
            "\n",
            "The small blind is 0.5 chips and the big blind is 1 chips. Everyone started with 100 chips.\n",
            "The player positions involved in this game are UTG, HJ, CO, BTN, SB, BB.\n",
            "In this hand, your position is CO, and your holding is [Ace of Heart and King of Heart].\n",
            "You currently have High Card(Ace-high).\n",
            "Before the flop, CO raise 2.3, and BB raise 13.5. Assume that all other players that is not mentioned folded.\n",
            "\n",
            "Now it is your turn to make a move.\n",
            "To remind you, the current pot size is 16.3 chips, and your holding is [Ace of Heart and King of Heart].\n",
            "\n",
            "Decide on an action based on the strength of your hand on this board, your position, and actions before you. Do not explain your answer.\n",
            "Your optimal action is:\n",
            "\n",
            "### Response:\n",
            "call<|eot_id|>\n"
          ]
        }
      ]
    },
    {
      "cell_type": "code",
      "source": [
        "prompt = \"\"\"\n",
        "### Instruction:\n",
        "{}\n",
        "\n",
        "### Response:\n",
        "{}\"\"\"\n",
        "\n",
        "EOS_TOKEN = tokenizer.eos_token # Must add EOS_TOKEN\n",
        "def formatting_prompts_func(examples):\n",
        "    instructions = examples[\"instruction\"]\n",
        "    # inputs       = examples[\"input\"]\n",
        "    outputs      = examples[\"output\"]\n",
        "    texts = []\n",
        "    for instruction, output in zip(instructions, outputs):\n",
        "        # Must add EOS_TOKEN, otherwise your generation will go on forever!\n",
        "        text = prompt.format(instruction, output) + EOS_TOKEN\n",
        "        texts.append(text)\n",
        "    return { \"text\" : texts, }\n",
        "pass\n",
        "\n",
        "dataset = load_dataset(\"RZ412/PokerBench\", split = \"test\")\n",
        "dataset = dataset.map(formatting_prompts_func, batched = True,)"
      ],
      "metadata": {
        "colab": {
          "base_uri": "https://localhost:8080/",
          "height": 49,
          "referenced_widgets": [
            "24ff7479920f4c559c27a280256fa092",
            "32678cee1b5e4c5c9f210eed1b28fb76",
            "58362f88fd3246978068a62d1160c47d",
            "572548eca53b4179ada284afd3feb12e",
            "c08a1c7346074e91a56bb8a5317a65a1",
            "8a10048040404f4db1b6e09bfd681609",
            "f747e12d0a4c4023adb349eebcbbd209",
            "c18c49f2d46c4011a1841945384704c2",
            "2750d23712654b5bbdd9e138a8d1c781",
            "c6ae417f44504e459ff421761c301a68",
            "921201feb7e84a36b532d8fbbe51575c"
          ]
        },
        "id": "snSDRfbed9SB",
        "outputId": "d7ac7164-7e4c-4964-b8ea-f7f336732a13"
      },
      "execution_count": 6,
      "outputs": [
        {
          "output_type": "display_data",
          "data": {
            "text/plain": [
              "Map:   0%|          | 0/11000 [00:00<?, ? examples/s]"
            ],
            "application/vnd.jupyter.widget-view+json": {
              "version_major": 2,
              "version_minor": 0,
              "model_id": "24ff7479920f4c559c27a280256fa092"
            }
          },
          "metadata": {}
        }
      ]
    },
    {
      "cell_type": "markdown",
      "source": [
        "## testing a radom sample"
      ],
      "metadata": {
        "id": "7x9t6RMXk9eA"
      }
    },
    {
      "cell_type": "code",
      "source": [
        "index = random.randint(0, len(dataset))\n",
        "print(\"Groud truth: \",dataset[index]['output'])\n",
        "inputs = tokenizer([prompt.format(dataset[index]['instruction'],\"\")], return_tensors = \"pt\").to(\"cuda\")\n",
        "# text_streamer = TextStreamer(tokenizer)\n",
        "# outputs = model.generate(**inputs, streamer = text_streamer, max_new_tokens = 10)\n",
        "outputs = model.generate(**inputs, max_new_tokens = 10)\n",
        "\n",
        "generated_text = tokenizer.batch_decode(outputs)[0]\n",
        "generated_text = generated_text.split(\"### Response:\")[1].strip()\n",
        "generated_text = generated_text.replace(EOS_TOKEN, \"\")\n",
        "print(\"Prediction: \",generated_text) # Print the generated text\n",
        "\n",
        "if dataset[index]['output'] == generated_text:\n",
        "    print(\"Correct!\")\n",
        "else:\n",
        "    print(\"Incorrect!\")"
      ],
      "metadata": {
        "colab": {
          "base_uri": "https://localhost:8080/"
        },
        "id": "DogBVbq7exfK",
        "outputId": "8b2eb402-2208-49c3-a7a3-df0d9657715f"
      },
      "execution_count": 7,
      "outputs": [
        {
          "output_type": "stream",
          "name": "stdout",
          "text": [
            "Groud truth:  check\n",
            "Prediction:  bet 52\n",
            "Incorrect!\n"
          ]
        }
      ]
    },
    {
      "cell_type": "code",
      "source": [
        "ground_truths = []\n",
        "predictions = []"
      ],
      "metadata": {
        "id": "jslsYFrLkKYM"
      },
      "execution_count": 8,
      "outputs": []
    },
    {
      "cell_type": "code",
      "source": [
        "for index in tqdm(range(len(dataset)), desc=\"Processing\"):\n",
        "    # print(dataset[index]['output'])\n",
        "    ground_truths.append(dataset[index]['output'])\n",
        "    inputs = tokenizer([prompt.format(dataset[index]['instruction'],\"\")], return_tensors = \"pt\").to(\"cuda\")\n",
        "    outputs = model.generate(**inputs, max_new_tokens = 10)\n",
        "    response = tokenizer.batch_decode(outputs)[0]\n",
        "    response = response.split(\"### Response:\")[1].strip()\n",
        "    response = response.replace(EOS_TOKEN, \"\")\n",
        "    # print(response)\n",
        "    predictions.append(response)\n",
        "    # break"
      ],
      "metadata": {
        "colab": {
          "base_uri": "https://localhost:8080/"
        },
        "id": "dUDJLsqrkQRf",
        "outputId": "6378c8ff-8aa9-4b4e-ff08-f08d2dcbb886"
      },
      "execution_count": 9,
      "outputs": [
        {
          "output_type": "stream",
          "name": "stderr",
          "text": [
            "Processing: 100%|██████████| 11000/11000 [48:00<00:00,  3.82it/s]\n"
          ]
        }
      ]
    },
    {
      "cell_type": "code",
      "source": [
        "results_df = pd.DataFrame({\n",
        "    \"Prediction\": predictions,\n",
        "    \"Ground Truth\": ground_truths\n",
        "})\n",
        "# Save the DataFrames to CSV files\n",
        "results_df.to_csv(f\"{output_dir}/{pretrained_model_name}_predictions.csv\", index=False)"
      ],
      "metadata": {
        "id": "wavrqD5rlRdu"
      },
      "execution_count": 10,
      "outputs": []
    },
    {
      "cell_type": "code",
      "source": [
        "print(ground_truths)\n",
        "print(predictions)"
      ],
      "metadata": {
        "colab": {
          "base_uri": "https://localhost:8080/"
        },
        "id": "PujO8NrNkzEW",
        "outputId": "9d3fcfa5-d930-4716-edca-944a628bffcd"
      },
      "execution_count": 11,
      "outputs": [
        {
          "output_type": "stream",
          "name": "stdout",
          "text": [
            "['check', 'check', 'check', 'bet 10', 'check', 'raise 11', 'call', 'check', 'call', 'raise 92', 'call', 'check', 'check', 'check', 'check', 'fold', 'call', 'call', 'bet 12', 'raise 81', 'raise 64', 'check', 'raise 85', 'call', 'fold', 'call', 'check', 'bet 3', 'check', 'fold', 'call', 'call', 'raise 16', 'raise 73', 'raise 88', 'call', 'call', 'fold', 'call', 'check', 'call', 'fold', 'fold', 'raise 29', 'bet 7', 'check', 'bet 34', 'fold', 'raise 25', 'check', 'check', 'check', 'raise 70', 'fold', 'call', 'fold', 'bet 18', 'bet 3', 'fold', 'fold', 'call', 'call', 'raise 88', 'fold', 'fold', 'fold', 'fold', 'fold', 'raise 88', 'call', 'fold', 'call', 'raise 86', 'fold', 'call', 'call', 'fold', 'call', 'bet 31', 'fold', 'raise 16', 'call', 'call', 'bet 13', 'fold', 'fold', 'check', 'bet 10', 'fold', 'check', 'call', 'check', 'check', 'bet 10', 'call', 'raise 25', 'raise 88', 'call', 'check', 'bet 17', 'fold', 'fold', 'fold', 'raise 13', 'call', 'check', 'fold', 'fold', 'call', 'call', 'bet 18', 'fold', 'bet 12', 'call', 'fold', 'bet 10', 'bet 29', 'call', 'raise 57', 'bet 35', 'bet 29', 'fold', 'bet 8', 'raise 27', 'fold', 'check', 'call', 'check', 'bet 29', 'call', 'call', 'call', 'call', 'bet 5', 'check', 'call', 'bet 29', 'fold', 'fold', 'fold', 'bet 3', 'fold', 'fold', 'raise 58', 'call', 'raise 48', 'fold', 'raise 16', 'bet 12', 'bet 13', 'check', 'fold', 'fold', 'fold', 'call', 'check', 'fold', 'call', 'call', 'check', 'fold', 'call', 'fold', 'bet 4', 'raise 84', 'call', 'check', 'check', 'fold', 'check', 'raise 83', 'raise 11', 'fold', 'check', 'call', 'check', 'fold', 'fold', 'bet 11', 'fold', 'fold', 'bet 29', 'check', 'call', 'check', 'check', 'check', 'bet 4', 'fold', 'raise 58', 'check', 'check', 'fold', 'call', 'fold', 'fold', 'check', 'check', 'call', 'fold', 'check', 'raise 61', 'bet 23', 'fold', 'check', 'raise 88', 'call', 'raise 41', 'fold', 'call', 'fold', 'raise 22', 'fold', 'call', 'call', 'call', 'bet 4', 'check', 'call', 'call', 'raise 16', 'bet 4', 'fold', 'check', 'check', 'raise 16', 'fold', 'fold', 'raise 58', 'check', 'call', 'fold', 'check', 'call', 'raise 83', 'check', 'fold', 'fold', 'raise 92', 'check', 'call', 'call', 'fold', 'raise 57', 'fold', 'fold', 'call', 'raise 83', 'check', 'call', 'call', 'check', 'call', 'call', 'check', 'fold', 'raise 79', 'check', 'check', 'check', 'bet 3', 'raise 51', 'call', 'raise 7', 'fold', 'check', 'bet 12', 'call', 'call', 'raise 70', 'call', 'fold', 'check', 'call', 'raise 89', 'check', 'bet 10', 'fold', 'call', 'check', 'call', 'bet 17', 'raise 14', 'check', 'fold', 'bet 29', 'check', 'call', 'call', 'fold', 'bet 39', 'bet 23', 'fold', 'fold', 'fold', 'fold', 'call', 'check', 'call', 'raise 80', 'call', 'check', 'call', 'call', 'call', 'raise 80', 'call', 'fold', 'call', 'raise 78', 'check', 'call', 'fold', 'check', 'check', 'raise 93', 'check', 'raise 35', 'check', 'raise 57', 'bet 25', 'call', 'fold', 'call', 'call', 'bet 11', 'call', 'bet 24', 'raise 92', 'call', 'raise 84', 'call', 'call', 'raise 13', 'call', 'call', 'check', 'call', 'check', 'fold', 'fold', 'call', 'fold', 'bet 29', 'raise 10', 'bet 13', 'check', 'bet 25', 'check', 'fold', 'raise 26', 'raise 37', 'raise 10', 'bet 15', 'raise 43', 'raise 90', 'check', 'fold', 'check', 'raise 16', 'call', 'check', 'call', 'bet 5', 'check', 'raise 90', 'check', 'fold', 'check', 'fold', 'call', 'bet 23', 'raise 73', 'raise 88', 'call', 'call', 'fold', 'call', 'fold', 'check', 'raise 85', 'raise 46', 'call', 'call', 'fold', 'fold', 'bet 29', 'call', 'bet 2', 'fold', 'check', 'check', 'bet 1', 'call', 'raise 80', 'call', 'call', 'check', 'bet 13', 'fold', 'check', 'raise 92', 'fold', 'call', 'bet 13', 'fold', 'check', 'raise 38', 'call', 'check', 'raise 92', 'call', 'fold', 'fold', 'call', 'fold', 'check', 'call', 'fold', 'raise 41', 'fold', 'fold', 'call', 'fold', 'check', 'raise 90', 'call', 'check', 'call', 'check', 'raise 90', 'call', 'fold', 'call', 'fold', 'fold', 'fold', 'call', 'call', 'bet 17', 'fold', 'check', 'check', 'fold', 'fold', 'check', 'fold', 'check', 'fold', 'call', 'raise 92', 'fold', 'fold', 'call', 'fold', 'check', 'fold', 'call', 'raise 10', 'check', 'raise 74', 'fold', 'raise 31', 'raise 38', 'check', 'check', 'fold', 'call', 'bet 29', 'fold', 'fold', 'call', 'bet 11', 'fold', 'call', 'raise 23', 'fold', 'fold', 'fold', 'fold', 'fold', 'check', 'call', 'fold', 'check', 'check', 'bet 4', 'call', 'fold', 'bet 10', 'raise 85', 'check', 'call', 'check', 'fold', 'call', 'check', 'call', 'raise 16', 'check', 'check', 'bet 8', 'call', 'call', 'raise 80', 'fold', 'check', 'call', 'check', 'check', 'check', 'raise 73', 'check', 'check', 'call', 'check', 'call', 'fold', 'fold', 'bet 29', 'fold', 'bet 17', 'call', 'fold', 'check', 'call', 'fold', 'call', 'raise 92', 'call', 'bet 13', 'check', 'check', 'call', 'fold', 'raise 11', 'raise 18', 'fold', 'check', 'call', 'check', 'fold', 'check', 'fold', 'raise 18', 'bet 10', 'call', 'bet 11', 'check', 'call', 'call', 'check', 'raise 74', 'bet 17', 'fold', 'check', 'call', 'check', 'bet 24', 'check', 'check', 'raise 88', 'call', 'bet 29', 'call', 'fold', 'call', 'fold', 'fold', 'raise 77', 'call', 'call', 'raise 27', 'check', 'bet 18', 'raise 81', 'fold', 'raise 80', 'call', 'raise 85', 'call', 'raise 22', 'call', 'raise 92', 'call', 'check', 'raise 10', 'raise 61', 'bet 23', 'call', 'call', 'fold', 'fold', 'check', 'fold', 'call', 'bet 23', 'call', 'check', 'fold', 'fold', 'bet 24', 'raise 11', 'check', 'call', 'raise 27', 'raise 64', 'check', 'call', 'raise 13', 'check', 'call', 'check', 'fold', 'call', 'call', 'raise 36', 'raise 46', 'fold', 'fold', 'fold', 'bet 20', 'call', 'call', 'call', 'fold', 'check', 'bet 20', 'check', 'check', 'check', 'check', 'raise 82', 'call', 'call', 'check', 'check', 'bet 19', 'fold', 'check', 'raise 17', 'raise 73', 'check', 'fold', 'check', 'raise 33', 'fold', 'call', 'call', 'call', 'call', 'fold', 'check', 'call', 'call', 'bet 12', 'raise 84', 'fold', 'call', 'bet 29', 'raise 65', 'fold', 'bet 23', 'check', 'check', 'check', 'check', 'check', 'bet 22', 'check', 'bet 4', 'raise 58', 'raise 74', 'fold', 'check', 'bet 4', 'check', 'fold', 'call', 'fold', 'check', 'fold', 'fold', 'call', 'call', 'call', 'call', 'raise 77', 'call', 'raise 8', 'check', 'call', 'call', 'fold', 'raise 83', 'check', 'check', 'bet 10', 'raise 37', 'check', 'fold', 'bet 13', 'call', 'fold', 'raise 58', 'fold', 'fold', 'check', 'call', 'raise 81', 'call', 'raise 88', 'check', 'check', 'fold', 'fold', 'check', 'fold', 'call', 'fold', 'call', 'raise 25', 'check', 'raise 40', 'raise 30', 'check', 'bet 18', 'raise 89', 'fold', 'raise 25', 'check', 'fold', 'fold', 'fold', 'fold', 'bet 31', 'call', 'raise 58', 'check', 'call', 'raise 58', 'check', 'check', 'fold', 'check', 'fold', 'check', 'fold', 'check', 'fold', 'call', 'fold', 'raise 83', 'raise 13', 'check', 'fold', 'call', 'call', 'check', 'check', 'fold', 'fold', 'check', 'check', 'raise 94', 'bet 27', 'check', 'raise 51', 'raise 18', 'check', 'bet 3', 'call', 'fold', 'fold', 'fold', 'bet 20', 'call', 'bet 22', 'raise 84', 'raise 88', 'fold', 'check', 'bet 23', 'call', 'raise 38', 'call', 'check', 'call', 'fold', 'bet 8', 'check', 'raise 72', 'call', 'call', 'call', 'fold', 'call', 'check', 'check', 'call', 'call', 'raise 92', 'check', 'fold', 'fold', 'check', 'raise 92', 'fold', 'raise 22', 'call', 'raise 10', 'fold', 'fold', 'bet 11', 'bet 2', 'check', 'check', 'raise 74', 'call', 'call', 'check', 'call', 'raise 11', 'raise 89', 'call', 'check', 'check', 'check', 'raise 10', 'fold', 'call', 'fold', 'check', 'check', 'raise 22', 'check', 'check', 'call', 'fold', 'call', 'call', 'call', 'check', 'check', 'check', 'check', 'call', 'check', 'fold', 'fold', 'call', 'call', 'raise 22', 'bet 13', 'check', 'raise 92', 'fold', 'fold', 'call', 'check', 'check', 'fold', 'check', 'bet 3', 'raise 38', 'raise 74', 'check', 'fold', 'call', 'raise 93', 'call', 'check', 'check', 'check', 'call', 'raise 82', 'check', 'check', 'check', 'call', 'call', 'call', 'raise 17', 'fold', 'raise 41', 'fold', 'check', 'call', 'call', 'call', 'raise 84', 'check', 'call', 'bet 40', 'fold', 'fold', 'bet 4', 'fold', 'fold', 'raise 84', 'call', 'check', 'raise 7', 'fold', 'call', 'call', 'fold', 'fold', 'fold', 'call', 'fold', 'check', 'bet 24', 'fold', 'call', 'call', 'raise 58', 'fold', 'raise 92', 'fold', 'check', 'call', 'fold', 'fold', 'check', 'check', 'call', 'bet 17', 'check', 'check', 'fold', 'call', 'call', 'call', 'check', 'fold', 'call', 'raise 91', 'call', 'bet 13', 'fold', 'call', 'raise 83', 'check', 'bet 18', 'fold', 'check', 'call', 'call', 'raise 7', 'check', 'call', 'check', 'call', 'raise 94', 'call', 'call', 'raise 38', 'call', 'fold', 'fold', 'call', 'check', 'call', 'fold', 'bet 27', 'check', 'fold', 'call', 'call', 'raise 19', 'bet 12', 'fold', 'fold', 'call', 'call', 'call', 'fold', 'bet 16', 'call', 'call', 'check', 'check', 'fold', 'call', 'fold', 'raise 86', 'raise 38', 'raise 54', 'fold', 'check', 'check', 'check', 'check', 'bet 29', 'fold', 'call', 'call', 'call', 'check', 'raise 11', 'check', 'call', 'raise 86', 'call', 'raise 90', 'call', 'call', 'raise 90', 'fold', 'raise 67', 'raise 16', 'fold', 'call', 'fold', 'check', 'check', 'fold', 'check', 'check', 'check', 'call', 'check', 'fold', 'check', 'bet 17', 'bet 17', 'fold', 'raise 90', 'check', 'fold', 'fold', 'check', 'check', 'call', 'call', 'call', 'raise 48', 'check', 'raise 93', 'call', 'bet 24', 'fold', 'fold', 'bet 24', 'check', 'fold', 'call', 'check', 'bet 20', 'check', 'check', 'call', 'fold', 'raise 22', 'check', 'raise 88', 'call', 'call', 'check', 'fold', 'check', 'check', 'check', 'call', 'check', 'call', 'call', 'fold', 'bet 24', 'fold', 'fold', 'fold', 'fold', 'fold', 'raise 86', 'check', 'fold', 'check', 'check', 'check', 'fold', 'call', 'call', 'check', 'raise 41', 'bet 13', 'fold', 'fold', 'check', 'check', 'call', 'bet 29', 'call', 'call', 'call', 'check', 'check', 'fold', 'raise 88', 'raise 84', 'fold', 'raise 81', 'fold', 'call', 'raise 77', 'check', 'call', 'check', 'check', 'bet 10', 'call', 'fold', 'fold', 'call', 'fold', 'check', 'call', 'bet 11', 'check', 'call', 'check', 'fold', 'call', 'bet 40', 'call', 'call', 'fold', 'check', 'check', 'call', 'call', 'fold', 'bet 3', 'check', 'bet 23', 'check', 'fold', 'bet 39', 'fold', 'check', 'bet 25', 'raise 58', 'bet 39', 'call', 'fold', 'fold', 'check', 'call', 'call', 'call', 'check', 'check', 'call', 'call', 'call', 'fold', 'fold', 'call', 'check', 'call', 'check', 'fold', 'fold', 'raise 64', 'call', 'raise 80', 'call', 'check', 'raise 83', 'call', 'check', 'check', 'check', 'check', 'check', 'check', 'fold', 'call', 'call', 'raise 70', 'fold', 'raise 33', 'call', 'fold', 'fold', 'raise 89', 'raise 93', 'check', 'check', 'call', 'fold', 'fold', 'raise 80', 'fold', 'fold', 'fold', 'call', 'fold', 'fold', 'check', 'check', 'fold', 'bet 12', 'fold', 'fold', 'fold', 'raise 28', 'check', 'check', 'fold', 'fold', 'check', 'bet 23', 'bet 27', 'fold', 'call', 'raise 77', 'check', 'check', 'raise 88', 'call', 'raise 32', 'call', 'fold', 'fold', 'check', 'check', 'call', 'check', 'raise 25', 'fold', 'check', 'raise 81', 'fold', 'check', 'check', 'call', 'fold', 'check', 'fold', 'fold', 'call', 'raise 10', 'raise 11', 'fold', 'bet 34', 'raise 11', 'call', 'call', 'call', 'raise 82', 'fold', 'check', 'raise 90', 'call', 'fold', 'check', 'check', 'call', 'call', 'check', 'fold', 'call', 'call', 'fold', 'call', 'raise 41', 'fold', 'fold', 'check', 'fold', 'fold', 'call', 'check', 'raise 70', 'check', 'raise 32', 'fold', 'check', 'check', 'check', 'raise 82', 'fold', 'raise 32', 'call', 'raise 18', 'fold', 'bet 29', 'call', 'fold', 'check', 'raise 78', 'fold', 'bet 29', 'fold', 'fold', 'call', 'call', 'check', 'call', 'call', 'call', 'call', 'call', 'fold', 'call', 'call', 'call', 'check', 'call', 'call', 'check', 'call', 'fold', 'bet 1', 'check', 'fold', 'check', 'check', 'fold', 'fold', 'raise 29', 'fold', 'call', 'raise 87', 'check', 'call', 'check', 'bet 7', 'raise 92', 'call', 'call', 'fold', 'call', 'call', 'call', 'check', 'raise 88', 'raise 79', 'fold', 'check', 'call', 'raise 30', 'raise 91', 'raise 94', 'check', 'fold', 'check', 'bet 10', 'raise 87', 'fold', 'check', 'call', 'bet 12', 'fold', 'check', 'check', 'check', 'call', 'check', 'call', 'raise 83', 'check', 'bet 28', 'fold', 'call', 'check', 'bet 11', 'check', 'fold', 'raise 88', 'fold', 'call', 'check', 'fold', 'call', 'fold', 'fold', 'call', 'check', 'check', 'check', 'call', 'fold', 'call', 'fold', 'call', 'bet 4', 'raise 57', 'fold', 'call', 'check', 'raise 92', 'call', 'raise 88', 'call', 'check', 'raise 95', 'call', 'call', 'raise 32', 'fold', 'call', 'call', 'fold', 'fold', 'check', 'bet 8', 'fold', 'bet 1', 'fold', 'bet 19', 'fold', 'call', 'call', 'fold', 'bet 2', 'raise 35', 'fold', 'raise 88', 'bet 29', 'check', 'fold', 'fold', 'check', 'check', 'check', 'call', 'fold', 'check', 'bet 13', 'fold', 'fold', 'call', 'call', 'call', 'call', 'fold', 'raise 83', 'fold', 'bet 16', 'bet 39', 'call', 'raise 30', 'bet 51', 'call', 'fold', 'fold', 'check', 'check', 'fold', 'raise 90', 'raise 93', 'check', 'raise 16', 'check', 'bet 4', 'call', 'fold', 'fold', 'fold', 'raise 84', 'raise 57', 'call', 'call', 'call', 'fold', 'fold', 'bet 12', 'call', 'check', 'call', 'check', 'check', 'check', 'call', 'call', 'call', 'check', 'raise 25', 'call', 'call', 'call', 'check', 'call', 'check', 'bet 4', 'call', 'check', 'call', 'check', 'call', 'fold', 'fold', 'check', 'check', 'raise 79', 'raise 81', 'fold', 'check', 'call', 'fold', 'check', 'check', 'fold', 'check', 'call', 'bet 8', 'raise 22', 'call', 'fold', 'bet 2', 'fold', 'raise 80', 'bet 5', 'check', 'raise 82', 'raise 32', 'call', 'raise 13', 'check', 'fold', 'fold', 'check', 'check', 'call', 'check', 'raise 33', 'check', 'call', 'raise 77', 'check', 'check', 'bet 20', 'fold', 'raise 10', 'fold', 'raise 86', 'check', 'check', 'check', 'check', 'fold', 'bet 10', 'fold', 'call', 'call', 'call', 'call', 'fold', 'fold', 'check', 'raise 90', 'bet 40', 'raise 81', 'raise 77', 'fold', 'fold', 'check', 'fold', 'fold', 'call', 'check', 'fold', 'check', 'call', 'raise 37', 'call', 'check', 'call', 'raise 77', 'check', 'call', 'raise 74', 'check', 'check', 'call', 'call', 'call', 'bet 18', 'call', 'fold', 'fold', 'raise 77', 'fold', 'check', 'call', 'call', 'check', 'fold', 'check', 'fold', 'check', 'call', 'fold', 'check', 'call', 'raise 13', 'fold', 'call', 'fold', 'fold', 'call', 'fold', 'check', 'fold', 'raise 92', 'call', 'call', 'call', 'call', 'raise 49', 'fold', 'check', 'check', 'check', 'call', 'fold', 'check', 'raise 28', 'check', 'call', 'raise 90', 'fold', 'bet 23', 'fold', 'call', 'check', 'bet 28', 'call', 'fold', 'call', 'fold', 'call', 'check', 'fold', 'check', 'raise 33', 'fold', 'call', 'fold', 'fold', 'fold', 'raise 89', 'call', 'call', 'raise 77', 'check', 'call', 'call', 'raise 77', 'bet 29', 'check', 'call', 'raise 14', 'call', 'fold', 'check', 'fold', 'fold', 'fold', 'raise 90', 'call', 'fold', 'check', 'fold', 'check', 'check', 'fold', 'check', 'raise 93', 'check', 'call', 'check', 'call', 'bet 7', 'call', 'check', 'call', 'call', 'fold', 'fold', 'check', 'raise 89', 'raise 74', 'call', 'call', 'fold', 'check', 'call', 'raise 83', 'call', 'raise 93', 'fold', 'bet 20', 'raise 83', 'raise 92', 'call', 'bet 22', 'fold', 'bet 27', 'check', 'fold', 'call', 'check', 'call', 'fold', 'raise 74', 'fold', 'call', 'check', 'fold', 'bet 29', 'fold', 'fold', 'call', 'bet 31', 'raise 86', 'call', 'fold', 'check', 'fold', 'fold', 'call', 'raise 27', 'call', 'fold', 'fold', 'call', 'fold', 'check', 'fold', 'check', 'check', 'raise 89', 'call', 'call', 'bet 8', 'fold', 'bet 17', 'raise 18', 'fold', 'raise 80', 'check', 'check', 'bet 5', 'check', 'call', 'call', 'call', 'call', 'call', 'fold', 'call', 'check', 'check', 'raise 84', 'check', 'raise 85', 'call', 'bet 23', 'raise 41', 'raise 84', 'check', 'fold', 'check', 'call', 'check', 'call', 'fold', 'check', 'bet 7', 'check', 'check', 'call', 'check', 'fold', 'check', 'fold', 'bet 18', 'check', 'fold', 'check', 'check', 'raise 81', 'fold', 'call', 'check', 'fold', 'raise 16', 'call', 'check', 'check', 'bet 7', 'fold', 'fold', 'fold', 'fold', 'raise 80', 'raise 93', 'fold', 'check', 'bet 12', 'fold', 'fold', 'check', 'check', 'fold', 'call', 'call', 'fold', 'fold', 'bet 2', 'bet 4', 'fold', 'call', 'bet 8', 'check', 'fold', 'fold', 'fold', 'bet 31', 'fold', 'call', 'check', 'call', 'fold', 'fold', 'call', 'call', 'check', 'call', 'call', 'check', 'check', 'check', 'fold', 'check', 'raise 84', 'fold', 'call', 'call', 'call', 'fold', 'bet 8', 'bet 29', 'check', 'fold', 'call', 'raise 27', 'check', 'fold', 'call', 'check', 'raise 33', 'bet 15', 'raise 90', 'call', 'fold', 'check', 'check', 'fold', 'fold', 'raise 77', 'call', 'bet 17', 'raise 72', 'raise 54', 'call', 'raise 89', 'call', 'fold', 'call', 'check', 'fold', 'bet 22', 'call', 'raise 38', 'call', 'fold', 'call', 'raise 77', 'bet 29', 'check', 'fold', 'bet 17', 'bet 16', 'fold', 'fold', 'check', 'call', 'bet 23', 'bet 28', 'call', 'check', 'bet 5', 'fold', 'fold', 'fold', 'check', 'fold', 'fold', 'raise 48', 'raise 16', 'call', 'check', 'call', 'bet 13', 'raise 27', 'check', 'check', 'call', 'call', 'raise 10', 'raise 65', 'check', 'fold', 'fold', 'fold', 'check', 'check', 'raise 93', 'check', 'check', 'fold', 'raise 64', 'raise 79', 'raise 25', 'call', 'check', 'fold', 'fold', 'check', 'fold', 'fold', 'call', 'check', 'call', 'check', 'fold', 'call', 'check', 'raise 43', 'bet 23', 'raise 16', 'raise 64', 'check', 'check', 'bet 5', 'call', 'fold', 'call', 'call', 'fold', 'check', 'check', 'fold', 'call', 'raise 70', 'raise 25', 'bet 17', 'check', 'call', 'check', 'call', 'bet 3', 'check', 'fold', 'call', 'call', 'check', 'raise 82', 'fold', 'bet 23', 'check', 'check', 'call', 'raise 58', 'fold', 'fold', 'raise 7', 'check', 'check', 'check', 'raise 61', 'raise 89', 'check', 'call', 'bet 23', 'check', 'call', 'call', 'check', 'call', 'call', 'raise 32', 'call', 'call', 'bet 29', 'bet 28', 'raise 31', 'check', 'check', 'call', 'raise 10', 'fold', 'check', 'call', 'fold', 'call', 'call', 'check', 'check', 'fold', 'check', 'fold', 'call', 'fold', 'call', 'raise 82', 'check', 'call', 'raise 47', 'check', 'bet 12', 'raise 74', 'call', 'call', 'check', 'call', 'check', 'check', 'fold', 'check', 'check', 'check', 'call', 'raise 95', 'raise 90', 'fold', 'raise 58', 'raise 16', 'check', 'check', 'call', 'check', 'check', 'call', 'check', 'check', 'call', 'fold', 'raise 41', 'check', 'bet 13', 'check', 'call', 'check', 'call', 'raise 88', 'raise 86', 'call', 'check', 'bet 17', 'call', 'fold', 'call', 'raise 32', 'call', 'check', 'fold', 'call', 'raise 73', 'check', 'call', 'check', 'check', 'call', 'fold', 'check', 'check', 'check', 'call', 'call', 'bet 3', 'bet 11', 'raise 13', 'bet 17', 'bet 11', 'raise 94', 'call', 'call', 'call', 'fold', 'call', 'check', 'check', 'check', 'raise 41', 'bet 5', 'check', 'call', 'call', 'fold', 'call', 'fold', 'check', 'call', 'raise 26', 'raise 80', 'check', 'fold', 'check', 'fold', 'fold', 'fold', 'fold', 'raise 32', 'check', 'call', 'fold', 'check', 'check', 'check', 'fold', 'check', 'check', 'bet 12', 'fold', 'check', 'bet 29', 'call', 'call', 'raise 74', 'raise 90', 'call', 'fold', 'fold', 'raise 88', 'check', 'fold', 'check', 'fold', 'check', 'fold', 'raise 38', 'call', 'fold', 'call', 'fold', 'call', 'check', 'call', 'check', 'check', 'check', 'check', 'bet 13', 'check', 'check', 'call', 'check', 'call', 'raise 41', 'call', 'call', 'call', 'check', 'call', 'call', 'check', 'bet 29', 'raise 86', 'fold', 'fold', 'fold', 'call', 'fold', 'call', 'fold', 'fold', 'fold', 'fold', 'check', 'call', 'call', 'check', 'check', 'check', 'fold', 'fold', 'check', 'fold', 'check', 'call', 'fold', 'check', 'fold', 'check', 'fold', 'fold', 'check', 'fold', 'check', 'fold', 'fold', 'raise 46', 'call', 'check', 'raise 32', 'fold', 'call', 'fold', 'check', 'raise 31', 'fold', 'bet 23', 'call', 'fold', 'call', 'check', 'check', 'check', 'fold', 'raise 58', 'check', 'check', 'raise 11', 'raise 13', 'fold', 'raise 87', 'fold', 'call', 'fold', 'check', 'raise 25', 'check', 'fold', 'raise 16', 'fold', 'fold', 'check', 'raise 74', 'fold', 'fold', 'raise 28', 'check', 'check', 'bet 13', 'raise 32', 'call', 'fold', 'call', 'bet 13', 'call', 'check', 'check', 'fold', 'check', 'check', 'call', 'call', 'check', 'call', 'call', 'fold', 'fold', 'bet 17', 'check', 'check', 'call', 'fold', 'bet 3', 'check', 'check', 'fold', 'check', 'check', 'call', 'bet 29', 'call', 'bet 24', 'call', 'check', 'check', 'bet 13', 'raise 37', 'raise 90', 'fold', 'fold', 'call', 'call', 'raise 18', 'raise 83', 'raise 58', 'call', 'call', 'fold', 'check', 'fold', 'bet 23', 'fold', 'check', 'fold', 'call', 'fold', 'check', 'call', 'fold', 'raise 48', 'fold', 'fold', 'bet 13', 'check', 'bet 17', 'fold', 'raise 31', 'call', 'call', 'call', 'check', 'raise 38', 'raise 27', 'fold', 'fold', 'call', 'call', 'call', 'check', 'bet 24', 'check', 'check', 'bet 10', 'check', 'fold', 'call', 'check', 'fold', 'check', 'check', 'raise 86', 'check', 'bet 29', 'call', 'check', 'fold', 'call', 'check', 'bet 13', 'check', 'check', 'bet 23', 'check', 'check', 'check', 'fold', 'call', 'fold', 'call', 'bet 12', 'check', 'fold', 'fold', 'fold', 'check', 'call', 'fold', 'raise 38', 'check', 'raise 91', 'bet 23', 'check', 'call', 'check', 'bet 34', 'call', 'check', 'raise 31', 'raise 81', 'call', 'bet 22', 'raise 32', 'raise 83', 'fold', 'fold', 'check', 'check', 'raise 41', 'fold', 'check', 'call', 'fold', 'bet 17', 'call', 'check', 'fold', 'raise 13', 'fold', 'raise 83', 'call', 'check', 'call', 'check', 'call', 'fold', 'fold', 'fold', 'call', 'fold', 'check', 'call', 'check', 'raise 83', 'check', 'call', 'bet 20', 'bet 17', 'check', 'fold', 'call', 'check', 'raise 87', 'check', 'call', 'call', 'fold', 'bet 17', 'raise 29', 'check', 'fold', 'raise 83', 'call', 'raise 45', 'fold', 'call', 'check', 'call', 'bet 13', 'fold', 'call', 'call', 'call', 'fold', 'call', 'call', 'bet 16', 'check', 'fold', 'check', 'raise 83', 'fold', 'bet 17', 'call', 'fold', 'fold', 'fold', 'fold', 'check', 'check', 'fold', 'call', 'check', 'fold', 'check', 'check', 'check', 'call', 'check', 'check', 'fold', 'check', 'raise 73', 'fold', 'fold', 'check', 'fold', 'check', 'call', 'fold', 'check', 'fold', 'raise 89', 'raise 25', 'bet 2', 'check', 'check', 'fold', 'bet 12', 'check', 'check', 'raise 70', 'raise 38', 'check', 'raise 32', 'bet 2', 'bet 12', 'fold', 'call', 'call', 'bet 12', 'bet 18', 'call', 'call', 'call', 'call', 'raise 27', 'raise 16', 'raise 75', 'call', 'check', 'raise 86', 'fold', 'fold', 'call', 'fold', 'bet 27', 'check', 'raise 61', 'fold', 'raise 58', 'check', 'call', 'raise 89', 'call', 'raise 83', 'bet 3', 'fold', 'fold', 'check', 'check', 'bet 4', 'fold', 'raise 84', 'call', 'check', 'check', 'raise 57', 'bet 23', 'check', 'call', 'raise 81', 'bet 11', 'call', 'fold', 'check', 'fold', 'call', 'check', 'check', 'call', 'check', 'check', 'raise 43', 'check', 'call', 'check', 'fold', 'fold', 'check', 'check', 'bet 13', 'call', 'fold', 'check', 'check', 'call', 'check', 'call', 'call', 'call', 'bet 29', 'call', 'fold', 'fold', 'call', 'check', 'raise 81', 'fold', 'check', 'call', 'fold', 'fold', 'call', 'call', 'check', 'fold', 'raise 32', 'fold', 'fold', 'check', 'check', 'check', 'check', 'bet 29', 'raise 93', 'bet 2', 'call', 'raise 81', 'fold', 'raise 81', 'fold', 'call', 'bet 11', 'check', 'call', 'raise 10', 'raise 38', 'bet 10', 'fold', 'fold', 'fold', 'check', 'bet 24', 'call', 'bet 34', 'bet 12', 'check', 'check', 'raise 19', 'call', 'call', 'call', 'call', 'check', 'bet 29', 'check', 'fold', 'call', 'fold', 'fold', 'call', 'call', 'call', 'bet 29', 'raise 46', 'raise 84', 'fold', 'call', 'raise 10', 'check', 'fold', 'fold', 'fold', 'check', 'check', 'fold', 'fold', 'raise 35', 'bet 13', 'bet 24', 'fold', 'call', 'fold', 'fold', 'call', 'raise 18', 'call', 'fold', 'bet 13', 'bet 4', 'check', 'raise 40', 'raise 25', 'check', 'bet 10', 'check', 'fold', 'call', 'check', 'fold', 'call', 'fold', 'fold', 'fold', 'raise 29', 'fold', 'fold', 'call', 'call', 'check', 'raise 86', 'fold', 'bet 16', 'fold', 'check', 'raise 41', 'fold', 'check', 'check', 'call', 'call', 'call', 'check', 'raise 32', 'call', 'check', 'fold', 'call', 'call', 'call', 'bet 29', 'check', 'fold', 'raise 82', 'check', 'call', 'raise 16', 'call', 'fold', 'bet 23', 'call', 'call', 'check', 'raise 84', 'bet 3', 'fold', 'call', 'check', 'check', 'call', 'check', 'raise 86', 'fold', 'raise 92', 'raise 18', 'check', 'call', 'raise 85', 'fold', 'check', 'raise 31', 'check', 'bet 17', 'fold', 'check', 'bet 10', 'call', 'fold', 'raise 83', 'fold', 'bet 4', 'fold', 'call', 'check', 'fold', 'call', 'check', 'call', 'call', 'raise 36', 'call', 'fold', 'bet 29', 'check', 'call', 'raise 18', 'check', 'check', 'fold', 'call', 'call', 'fold', 'bet 13', 'bet 23', 'call', 'raise 84', 'fold', 'check', 'bet 28', 'check', 'fold', 'call', 'check', 'check', 'bet 23', 'call', 'check', 'call', 'call', 'fold', 'fold', 'call', 'call', 'fold', 'bet 10', 'fold', 'bet 10', 'call', 'check', 'check', 'call', 'call', 'raise 90', 'fold', 'check', 'call', 'call', 'check', 'check', 'call', 'bet 10', 'call', 'fold', 'call', 'call', 'check', 'raise 70', 'bet 29', 'check', 'bet 15', 'call', 'fold', 'fold', 'call', 'call', 'call', 'check', 'raise 89', 'raise 83', 'bet 17', 'call', 'fold', 'check', 'check', 'bet 11', 'fold', 'fold', 'raise 92', 'fold', 'call', 'check', 'bet 8', 'call', 'check', 'fold', 'check', 'call', 'call', 'bet 10', 'check', 'check', 'raise 41', 'fold', 'fold', 'fold', 'call', 'fold', 'check', 'fold', 'fold', 'check', 'check', 'check', 'call', 'raise 65', 'call', 'check', 'bet 29', 'call', 'bet 29', 'fold', 'bet 23', 'raise 89', 'fold', 'raise 92', 'raise 95', 'fold', 'call', 'call', 'call', 'fold', 'call', 'fold', 'call', 'call', 'check', 'call', 'bet 12', 'check', 'check', 'bet 28', 'raise 93', 'fold', 'fold', 'fold', 'fold', 'fold', 'fold', 'fold', 'check', 'check', 'check', 'check', 'call', 'raise 85', 'check', 'fold', 'fold', 'fold', 'fold', 'fold', 'fold', 'check', 'fold', 'check', 'fold', 'check', 'fold', 'bet 29', 'check', 'call', 'check', 'call', 'fold', 'check', 'raise 10', 'call', 'call', 'check', 'check', 'fold', 'call', 'fold', 'fold', 'raise 61', 'bet 17', 'bet 7', 'check', 'raise 64', 'fold', 'call', 'fold', 'fold', 'check', 'raise 74', 'call', 'check', 'call', 'fold', 'raise 44', 'call', 'fold', 'fold', 'check', 'call', 'fold', 'fold', 'check', 'check', 'raise 86', 'fold', 'call', 'check', 'check', 'call', 'check', 'raise 16', 'fold', 'call', 'raise 74', 'raise 35', 'raise 93', 'check', 'raise 81', 'fold', 'raise 16', 'fold', 'raise 10', 'call', 'fold', 'fold', 'check', 'raise 10', 'fold', 'raise 27', 'raise 38', 'fold', 'fold', 'raise 86', 'raise 11', 'check', 'fold', 'bet 17', 'check', 'check', 'check', 'call', 'fold', 'raise 81', 'call', 'check', 'check', 'fold', 'bet 13', 'call', 'check', 'fold', 'raise 86', 'call', 'call', 'fold', 'raise 10', 'fold', 'call', 'fold', 'check', 'fold', 'bet 11', 'check', 'raise 77', 'bet 29', 'call', 'raise 86', 'fold', 'call', 'call', 'fold', 'raise 19', 'call', 'raise 32', 'call', 'fold', 'raise 89', 'check', 'check', 'raise 43', 'check', 'call', 'fold', 'bet 23', 'fold', 'bet 3', 'check', 'fold', 'check', 'raise 10', 'check', 'call', 'bet 20', 'raise 76', 'call', 'check', 'check', 'check', 'fold', 'check', 'fold', 'check', 'check', 'call', 'raise 86', 'fold', 'bet 29', 'check', 'fold', 'check', 'fold', 'call', 'fold', 'call', 'call', 'call', 'call', 'raise 85', 'call', 'check', 'raise 85', 'raise 16', 'call', 'bet 11', 'raise 77', 'fold', 'raise 85', 'check', 'call', 'check', 'bet 17', 'fold', 'raise 58', 'call', 'fold', 'raise 32', 'raise 11', 'check', 'check', 'call', 'raise 13', 'check', 'raise 89', 'bet 25', 'fold', 'call', 'fold', 'fold', 'call', 'raise 86', 'check', 'check', 'check', 'check', 'fold', 'fold', 'check', 'call', 'check', 'check', 'check', 'call', 'fold', 'call', 'bet 23', 'call', 'fold', 'call', 'call', 'raise 79', 'check', 'fold', 'check', 'fold', 'call', 'check', 'call', 'bet 24', 'call', 'bet 5', 'bet 7', 'check', 'call', 'raise 16', 'raise 81', 'fold', 'check', 'call', 'check', 'check', 'check', 'raise 89', 'raise 17', 'fold', 'call', 'fold', 'bet 24', 'fold', 'call', 'call', 'fold', 'check', 'raise 58', 'call', 'raise 92', 'fold', 'fold', 'raise 92', 'check', 'call', 'bet 10', 'check', 'fold', 'check', 'fold', 'fold', 'raise 82', 'call', 'bet 24', 'check', 'call', 'fold', 'check', 'fold', 'fold', 'call', 'check', 'raise 32', 'check', 'call', 'check', 'fold', 'call', 'check', 'fold', 'bet 10', 'call', 'call', 'call', 'raise 85', 'check', 'bet 3', 'check', 'raise 80', 'check', 'check', 'fold', 'raise 83', 'call', 'fold', 'call', 'fold', 'check', 'raise 10', 'call', 'fold', 'fold', 'bet 29', 'check', 'call', 'check', 'check', 'fold', 'check', 'call', 'fold', 'call', 'check', 'call', 'check', 'fold', 'check', 'raise 86', 'fold', 'call', 'fold', 'fold', 'check', 'bet 2', 'call', 'check', 'call', 'check', 'fold', 'call', 'check', 'bet 3', 'fold', 'check', 'call', 'raise 10', 'check', 'fold', 'check', 'check', 'bet 17', 'fold', 'bet 8', 'fold', 'check', 'fold', 'fold', 'raise 92', 'fold', 'call', 'raise 25', 'bet 16', 'call', 'raise 22', 'fold', 'raise 85', 'call', 'raise 61', 'check', 'fold', 'raise 93', 'check', 'call', 'call', 'raise 89', 'fold', 'raise 7', 'call', 'check', 'check', 'check', 'check', 'check', 'call', 'check', 'check', 'call', 'fold', 'call', 'bet 18', 'fold', 'raise 74', 'fold', 'fold', 'check', 'fold', 'call', 'raise 74', 'check', 'call', 'fold', 'bet 10', 'call', 'fold', 'call', 'bet 3', 'raise 77', 'raise 84', 'check', 'fold', 'raise 57', 'call', 'check', 'check', 'check', 'call', 'call', 'check', 'call', 'call', 'check', 'raise 86', 'call', 'call', 'raise 88', 'call', 'check', 'fold', 'fold', 'check', 'check', 'call', 'fold', 'call', 'fold', 'call', 'call', 'bet 5', 'call', 'fold', 'check', 'call', 'check', 'fold', 'check', 'check', 'bet 11', 'fold', 'fold', 'fold', 'fold', 'fold', 'call', 'call', 'call', 'call', 'fold', 'check', 'call', 'check', 'call', 'check', 'fold', 'fold', 'check', 'call', 'call', 'call', 'call', 'fold', 'bet 10', 'call', 'call', 'fold', 'fold', 'call', 'fold', 'raise 55', 'check', 'call', 'check', 'call', 'call', 'fold', 'call', 'check', 'raise 89', 'check', 'bet 23', 'check', 'bet 27', 'fold', 'check', 'fold', 'check', 'bet 40', 'fold', 'check', 'check', 'check', 'bet 16', 'fold', 'call', 'fold', 'check', 'bet 12', 'call', 'call', 'check', 'check', 'bet 4', 'fold', 'fold', 'raise 48', 'fold', 'raise 32', 'check', 'bet 20', 'call', 'raise 88', 'raise 41', 'raise 32', 'fold', 'check', 'fold', 'fold', 'fold', 'check', 'raise 10', 'call', 'check', 'raise 81', 'raise 41', 'fold', 'raise 80', 'bet 29', 'fold', 'bet 24', 'check', 'bet 8', 'fold', 'check', 'fold', 'call', 'call', 'fold', 'call', 'call', 'fold', 'raise 88', 'fold', 'call', 'raise 64', 'check', 'fold', 'check', 'check', 'fold', 'bet 29', 'call', 'raise 92', 'call', 'call', 'fold', 'check', 'fold', 'raise 64', 'check', 'call', 'call', 'check', 'check', 'call', 'raise 61', 'check', 'call', 'call', 'check', 'raise 54', 'check', 'raise 92', 'raise 77', 'check', 'call', 'check', 'check', 'check', 'fold', 'call', 'bet 23', 'call', 'call', 'call', 'fold', 'check', 'check', 'call', 'check', 'fold', 'raise 93', 'check', 'check', 'fold', 'check', 'fold', 'raise 83', 'raise 92', 'raise 81', 'raise 89', 'call', 'raise 62', 'call', 'check', 'call', 'bet 23', 'check', 'fold', 'check', 'raise 32', 'raise 4', 'raise 82', 'check', 'call', 'raise 25', 'check', 'fold', 'call', 'raise 83', 'call', 'raise 36', 'check', 'check', 'check', 'fold', 'fold', 'check', 'call', 'call', 'check', 'fold', 'call', 'check', 'check', 'call', 'fold', 'raise 92', 'bet 13', 'call', 'call', 'bet 29', 'raise 84', 'call', 'check', 'check', 'raise 88', 'check', 'raise 10', 'bet 23', 'raise 16', 'raise 46', 'check', 'check', 'raise 84', 'check', 'check', 'fold', 'call', 'check', 'raise 74', 'check', 'check', 'bet 4', 'raise 82', 'fold', 'call', 'bet 10', 'raise 96', 'check', 'raise 46', 'check', 'raise 16', 'fold', 'fold', 'check', 'check', 'check', 'check', 'check', 'check', 'call', 'check', 'check', 'check', 'raise 92', 'check', 'bet 24', 'call', 'raise 41', 'call', 'call', 'check', 'check', 'check', 'call', 'bet 8', 'bet 4', 'call', 'fold', 'call', 'check', 'call', 'check', 'call', 'call', 'bet 11', 'fold', 'call', 'call', 'check', 'call', 'call', 'fold', 'call', 'call', 'bet 18', 'fold', 'fold', 'raise 19', 'fold', 'call', 'bet 10', 'fold', 'raise 74', 'raise 58', 'bet 39', 'raise 26', 'fold', 'bet 8', 'call', 'check', 'check', 'check', 'fold', 'bet 13', 'fold', 'check', 'check', 'fold', 'check', 'check', 'fold', 'fold', 'fold', 'fold', 'check', 'check', 'call', 'fold', 'raise 31', 'raise 88', 'bet 13', 'call', 'bet 10', 'call', 'bet 29', 'raise 93', 'fold', 'bet 22', 'fold', 'call', 'bet 10', 'check', 'check', 'bet 17', 'call', 'fold', 'call', 'fold', 'call', 'call', 'call', 'fold', 'bet 34', 'fold', 'raise 86', 'check', 'call', 'fold', 'check', 'check', 'check', 'call', 'fold', 'fold', 'raise 70', 'fold', 'check', 'check', 'call', 'fold', 'raise 7', 'check', 'check', 'call', 'call', 'fold', 'call', 'check', 'fold', 'call', 'check', 'check', 'raise 83', 'call', 'bet 20', 'check', 'check', 'check', 'raise 41', 'check', 'check', 'call', 'raise 72', 'check', 'check', 'raise 86', 'raise 36', 'check', 'call', 'check', 'fold', 'check', 'bet 4', 'check', 'raise 84', 'call', 'raise 25', 'fold', 'fold', 'check', 'fold', 'check', 'bet 3', 'raise 86', 'call', 'call', 'call', 'call', 'call', 'check', 'fold', 'fold', 'bet 7', 'check', 'raise 41', 'call', 'fold', 'fold', 'raise 11', 'bet 13', 'fold', 'fold', 'check', 'call', 'call', 'call', 'raise 36', 'bet 2', 'fold', 'bet 18', 'check', 'raise 88', 'fold', 'call', 'call', 'fold', 'fold', 'call', 'call', 'check', 'bet 18', 'call', 'call', 'call', 'fold', 'fold', 'raise 63', 'check', 'check', 'fold', 'fold', 'call', 'fold', 'fold', 'raise 35', 'call', 'check', 'call', 'raise 25', 'check', 'call', 'fold', 'raise 90', 'fold', 'fold', 'fold', 'call', 'raise 22', 'check', 'check', 'raise 86', 'call', 'bet 4', 'fold', 'fold', 'fold', 'raise 85', 'call', 'call', 'check', 'raise 81', 'check', 'check', 'fold', 'bet 3', 'raise 38', 'raise 84', 'check', 'check', 'fold', 'fold', 'check', 'raise 64', 'bet 24', 'call', 'raise 90', 'call', 'fold', 'fold', 'call', 'fold', 'call', 'raise 86', 'call', 'check', 'fold', 'call', 'fold', 'raise 81', 'fold', 'check', 'fold', 'call', 'fold', 'call', 'bet 39', 'raise 25', 'fold', 'check', 'raise 46', 'fold', 'fold', 'check', 'fold', 'fold', 'raise 74', 'check', 'check', 'check', 'raise 88', 'fold', 'call', 'fold', 'raise 37', 'fold', 'check', 'fold', 'call', 'fold', 'call', 'fold', 'bet 26', 'check', 'fold', 'bet 16', 'call', 'fold', 'raise 80', 'check', 'fold', 'check', 'raise 82', 'call', 'call', 'check', 'check', 'check', 'fold', 'fold', 'check', 'raise 90', 'fold', 'fold', 'check', 'call', 'raise 16', 'call', 'check', 'raise 10', 'call', 'raise 81', 'check', 'call', 'call', 'raise 85', 'raise 95', 'check', 'call', 'call', 'raise 33', 'call', 'raise 93', 'check', 'fold', 'check', 'raise 13', 'raise 84', 'check', 'fold', 'bet 11', 'call', 'call', 'fold', 'call', 'call', 'fold', 'check', 'fold', 'raise 86', 'fold', 'raise 4', 'call', 'call', 'call', 'fold', 'raise 43', 'call', 'fold', 'call', 'fold', 'fold', 'fold', 'call', 'call', 'call', 'fold', 'fold', 'raise 93', 'bet 5', 'call', 'call', 'check', 'raise 22', 'call', 'raise 77', 'call', 'check', 'check', 'check', 'bet 13', 'call', 'raise 80', 'call', 'check', 'check', 'call', 'raise 13', 'raise 38', 'fold', 'bet 22', 'call', 'fold', 'fold', 'fold', 'check', 'call', 'check', 'raise 61', 'raise 13', 'check', 'call', 'check', 'call', 'raise 30', 'call', 'raise 48', 'raise 61', 'call', 'raise 10', 'fold', 'fold', 'call', 'call', 'bet 29', 'fold', 'fold', 'fold', 'check', 'call', 'raise 10', 'raise 81', 'bet 18', 'bet 30', 'call', 'fold', 'check', 'check', 'fold', 'raise 10', 'raise 90', 'check', 'fold', 'call', 'call', 'call', 'fold', 'fold', 'fold', 'call', 'call', 'raise 84', 'call', 'fold', 'fold', 'raise 38', 'call', 'fold', 'raise 78', 'check', 'call', 'call', 'check', 'raise 77', 'check', 'check', 'fold', 'call', 'check', 'fold', 'check', 'call', 'check', 'raise 27', 'bet 17', 'call', 'fold', 'raise 72', 'check', 'fold', 'call', 'raise 90', 'call', 'check', 'check', 'check', 'check', 'check', 'check', 'check', 'call', 'fold', 'fold', 'call', 'check', 'raise 25', 'bet 7', 'fold', 'fold', 'fold', 'call', 'call', 'bet 4', 'fold', 'call', 'fold', 'call', 'call', 'fold', 'raise 27', 'raise 83', 'fold', 'check', 'call', 'fold', 'check', 'call', 'raise 90', 'call', 'raise 35', 'check', 'fold', 'call', 'check', 'check', 'call', 'call', 'call', 'fold', 'raise 61', 'fold', 'raise 82', 'fold', 'fold', 'fold', 'call', 'call', 'bet 10', 'raise 86', 'raise 92', 'check', 'check', 'raise 18', 'check', 'check', 'raise 77', 'call', 'call', 'call', 'fold', 'check', 'fold', 'fold', 'fold', 'fold', 'call', 'fold', 'check', 'call', 'call', 'check', 'raise 13', 'call', 'raise 18', 'call', 'call', 'fold', 'check', 'call', 'call', 'check', 'fold', 'bet 7', 'call', 'call', 'raise 13', 'check', 'call', 'check', 'raise 82', 'call', 'fold', 'raise 22', 'check', 'call', 'raise 88', 'call', 'fold', 'call', 'call', 'call', 'raise 37', 'raise 82', 'check', 'check', 'fold', 'fold', 'check', 'fold', 'fold', 'fold', 'fold', 'bet 16', 'check', 'check', 'check', 'check', 'fold', 'fold', 'call', 'raise 77', 'check', 'call', 'call', 'fold', 'raise 7', 'check', 'call', 'call', 'call', 'check', 'check', 'call', 'fold', 'bet 24', 'call', 'check', 'fold', 'fold', 'raise 35', 'call', 'bet 13', 'call', 'bet 4', 'raise 70', 'fold', 'bet 3', 'call', 'bet 11', 'check', 'call', 'check', 'call', 'fold', 'check', 'bet 29', 'fold', 'call', 'raise 81', 'call', 'fold', 'fold', 'fold', 'call', 'bet 7', 'raise 83', 'check', 'raise 89', 'check', 'raise 26', 'raise 13', 'raise 91', 'call', 'fold', 'call', 'check', 'call', 'fold', 'call', 'call', 'fold', 'check', 'raise 22', 'raise 70', 'check', 'call', 'check', 'fold', 'raise 75', 'fold', 'check', 'bet 29', 'raise 38', 'fold', 'call', 'raise 84', 'call', 'fold', 'fold', 'bet 17', 'call', 'check', 'bet 5', 'fold', 'check', 'call', 'call', 'check', 'check', 'fold', 'fold', 'fold', 'raise 74', 'fold', 'fold', 'call', 'check', 'call', 'bet 29', 'bet 29', 'fold', 'fold', 'check', 'fold', 'fold', 'fold', 'bet 10', 'check', 'fold', 'check', 'bet 3', 'check', 'check', 'fold', 'check', 'fold', 'check', 'fold', 'raise 90', 'call', 'check', 'raise 48', 'call', 'fold', 'check', 'fold', 'raise 25', 'call', 'check', 'call', 'bet 5', 'check', 'bet 18', 'check', 'check', 'check', 'check', 'raise 25', 'call', 'fold', 'check', 'fold', 'check', 'call', 'bet 25', 'call', 'check', 'check', 'check', 'raise 64', 'check', 'call', 'check', 'raise 87', 'raise 95', 'call', 'check', 'fold', 'call', 'call', 'check', 'call', 'check', 'check', 'check', 'call', 'raise 83', 'call', 'fold', 'call', 'call', 'check', 'check', 'check', 'raise 72', 'check', 'fold', 'call', 'check', 'raise 82', 'fold', 'call', 'bet 13', 'fold', 'check', 'bet 4', 'fold', 'call', 'call', 'bet 39', 'call', 'fold', 'fold', 'raise 54', 'bet 1', 'call', 'check', 'bet 13', 'call', 'fold', 'raise 77', 'check', 'bet 11', 'call', 'raise 84', 'raise 83', 'call', 'call', 'call', 'fold', 'check', 'check', 'check', 'fold', 'fold', 'raise 18', 'call', 'check', 'check', 'raise 70', 'check', 'fold', 'check', 'check', 'call', 'check', 'bet 13', 'check', 'raise 77', 'check', 'raise 84', 'check', 'check', 'fold', 'raise 77', 'fold', 'fold', 'check', 'check', 'call', 'fold', 'bet 7', 'call', 'check', 'bet 12', 'bet 16', 'bet 18', 'bet 39', 'fold', 'raise 74', 'fold', 'fold', 'call', 'fold', 'check', 'check', 'check', 'raise 61', 'check', 'call', 'fold', 'fold', 'check', 'check', 'fold', 'raise 83', 'call', 'bet 2', 'bet 13', 'raise 77', 'fold', 'check', 'call', 'fold', 'check', 'fold', 'raise 90', 'call', 'check', 'check', 'call', 'bet 29', 'bet 29', 'check', 'check', 'raise 54', 'bet 18', 'fold', 'fold', 'fold', 'fold', 'bet 8', 'call', 'raise 85', 'raise 10', 'fold', 'check', 'raise 90', 'check', 'check', 'fold', 'bet 10', 'fold', 'check', 'check', 'bet 2', 'raise 86', 'check', 'call', 'fold', 'check', 'fold', 'fold', 'fold', 'raise 89', 'call', 'fold', 'call', 'check', 'call', 'raise 88', 'fold', 'fold', 'check', 'call', 'fold', 'call', 'call', 'raise 23', 'bet 21', 'fold', 'fold', 'bet 8', 'check', 'fold', 'fold', 'call', 'check', 'fold', 'call', 'fold', 'raise 35', 'fold', 'fold', 'bet 20', 'check', 'check', 'fold', 'check', 'fold', 'raise 90', 'call', 'call', 'fold', 'fold', 'check', 'call', 'raise 32', 'bet 34', 'call', 'bet 32', 'raise 30', 'check', 'fold', 'call', 'fold', 'check', 'fold', 'call', 'call', 'raise 13', 'call', 'check', 'fold', 'raise 38', 'check', 'bet 11', 'check', 'call', 'check', 'raise 77', 'raise 89', 'raise 95', 'call', 'fold', 'check', 'call', 'check', 'raise 92', 'raise 96', 'check', 'call', 'check', 'check', 'call', 'fold', 'check', 'call', 'check', 'raise 88', 'check', 'check', 'call', 'raise 89', 'call', 'bet 29', 'check', 'call', 'fold', 'fold', 'call', 'check', 'raise 25', 'call', 'call', 'fold', 'call', 'check', 'call', 'check', 'check', 'fold', 'check', 'fold', 'check', 'fold', 'check', 'check', 'fold', 'call', 'bet 23', 'fold', 'call', 'fold', 'check', 'call', 'call', 'check', 'call', 'call', 'fold', 'fold', 'raise 25', 'call', 'fold', 'fold', 'check', 'call', 'fold', 'raise 16', 'raise 64', 'fold', 'call', 'fold', 'bet 23', 'fold', 'call', 'check', 'fold', 'fold', 'call', 'call', 'check', 'call', 'check', 'raise 75', 'raise 88', 'raise 22', 'bet 12', 'check', 'raise 88', 'call', 'fold', 'call', 'call', 'fold', 'check', 'bet 18', 'fold', 'call', 'fold', 'fold', 'call', 'raise 11', 'call', 'check', 'fold', 'check', 'fold', 'fold', 'call', 'raise 38', 'raise 10', 'check', 'fold', 'bet 23', 'call', 'fold', 'raise 90', 'fold', 'fold', 'call', 'check', 'check', 'fold', 'check', 'call', 'call', 'call', 'check', 'check', 'bet 4', 'check', 'fold', 'fold', 'bet 2', 'fold', 'fold', 'call', 'call', 'fold', 'check', 'bet 25', 'check', 'fold', 'fold', 'fold', 'raise 83', 'call', 'check', 'fold', 'raise 72', 'bet 24', 'check', 'bet 8', 'fold', 'fold', 'bet 10', 'check', 'raise 74', 'call', 'raise 41', 'check', 'raise 29', 'check', 'call', 'fold', 'fold', 'fold', 'fold', 'check', 'raise 44', 'check', 'check', 'fold', 'check', 'fold', 'fold', 'check', 'check', 'call', 'check', 'call', 'call', 'call', 'check', 'check', 'call', 'fold', 'raise 13', 'fold', 'check', 'check', 'call', 'call', 'check', 'call', 'call', 'call', 'fold', 'call', 'raise 92', 'call', 'bet 8', 'check', 'check', 'call', 'call', 'check', 'raise 38', 'call', 'fold', 'check', 'check', 'call', 'raise 31', 'fold', 'raise 80', 'check', 'bet 4', 'raise 80', 'raise 86', 'fold', 'check', 'bet 40', 'check', 'call', 'fold', 'fold', 'call', 'check', 'call', 'bet 23', 'fold', 'check', 'fold', 'raise 84', 'check', 'fold', 'check', 'fold', 'bet 3', 'check', 'check', 'fold', 'call', 'check', 'raise 83', 'check', 'fold', 'fold', 'call', 'fold', 'fold', 'call', 'raise 16', 'call', 'call', 'call', 'check', 'call', 'bet 5', 'check', 'raise 80', 'check', 'check', 'check', 'check', 'check', 'fold', 'raise 35', 'check', 'fold', 'raise 89', 'fold', 'raise 30', 'check', 'fold', 'call', 'call', 'call', 'check', 'fold', 'raise 29', 'fold', 'check', 'check', 'call', 'call', 'fold', 'bet 16', 'call', 'call', 'fold', 'raise 57', 'check', 'check', 'raise 91', 'call', 'call', 'call', 'call', 'check', 'fold', 'check', 'call', 'fold', 'call', 'call', 'call', 'bet 27', 'raise 89', 'check', 'check', 'call', 'fold', 'check', 'fold', 'fold', 'call', 'fold', 'bet 17', 'call', 'raise 83', 'bet 12', 'fold', 'check', 'raise 70', 'fold', 'call', 'check', 'check', 'fold', 'check', 'check', 'check', 'call', 'check', 'fold', 'bet 5', 'raise 64', 'bet 10', 'call', 'fold', 'bet 7', 'bet 3', 'fold', 'check', 'fold', 'fold', 'check', 'bet 4', 'fold', 'raise 48', 'fold', 'raise 77', 'call', 'raise 23', 'fold', 'check', 'bet 7', 'call', 'fold', 'fold', 'check', 'raise 92', 'check', 'fold', 'bet 3', 'fold', 'call', 'check', 'bet 3', 'call', 'call', 'check', 'fold', 'call', 'check', 'bet 4', 'bet 11', 'call', 'bet 3', 'check', 'check', 'check', 'raise 93', 'fold', 'raise 10', 'fold', 'raise 27', 'raise 86', 'raise 95', 'raise 16', 'check', 'fold', 'fold', 'call', 'bet 24', 'raise 44', 'call', 'call', 'check', 'check', 'fold', 'check', 'check', 'call', 'fold', 'call', 'call', 'check', 'fold', 'fold', 'raise 22', 'raise 16', 'call', 'fold', 'call', 'raise 25', 'call', 'fold', 'call', 'call', 'check', 'raise 72', 'fold', 'raise 38', 'call', 'fold', 'call', 'check', 'fold', 'fold', 'raise 25', 'fold', 'fold', 'bet 8', 'fold', 'check', 'raise 32', 'fold', 'fold', 'fold', 'check', 'fold', 'call', 'check', 'fold', 'check', 'fold', 'call', 'call', 'call', 'call', 'raise 83', 'fold', 'fold', 'fold', 'bet 10', 'call', 'fold', 'check', 'raise 25', 'check', 'bet 25', 'raise 30', 'call', 'check', 'check', 'call', 'check', 'fold', 'check', 'bet 16', 'fold', 'fold', 'call', 'fold', 'fold', 'fold', 'raise 13', 'raise 93', 'call', 'call', 'check', 'raise 96', 'bet 29', 'check', 'fold', 'fold', 'raise 27', 'check', 'check', 'check', 'call', 'call', 'fold', 'fold', 'raise 81', 'call', 'check', 'bet 29', 'fold', 'raise 86', 'fold', 'call', 'fold', 'raise 10', 'fold', 'call', 'raise 13', 'raise 84', 'fold', 'call', 'call', 'fold', 'fold', 'check', 'raise 38', 'fold', 'call', 'fold', 'raise 72', 'fold', 'fold', 'fold', 'call', 'fold', 'call', 'call', 'check', 'bet 17', 'call', 'fold', 'raise 86', 'fold', 'raise 35', 'call', 'fold', 'bet 10', 'fold', 'fold', 'check', 'call', 'check', 'bet 5', 'check', 'raise 65', 'check', 'bet 23', 'call', 'fold', 'fold', 'fold', 'raise 92', 'raise 13', 'check', 'check', 'fold', 'call', 'check', 'call', 'fold', 'fold', 'call', 'check', 'fold', 'check', 'check', 'call', 'fold', 'check', 'raise 29', 'call', 'fold', 'bet 13', 'fold', 'call', 'call', 'fold', 'raise 86', 'bet 7', 'bet 13', 'call', 'raise 93', 'check', 'check', 'fold', 'check', 'fold', 'raise 30', 'fold', 'check', 'bet 4', 'raise 85', 'bet 29', 'call', 'raise 10', 'call', 'check', 'call', 'fold', 'fold', 'check', 'raise 16', 'bet 4', 'check', 'call', 'call', 'call', 'raise 92', 'call', 'check', 'check', 'fold', 'check', 'bet 29', 'check', 'call', 'call', 'check', 'raise 77', 'raise 83', 'fold', 'bet 29', 'raise 11', 'fold', 'fold', 'call', 'bet 18', 'check', 'call', 'fold', 'check', 'raise 88', 'check', 'bet 16', 'fold', 'check', 'call', 'check', 'raise 17', 'call', 'call', 'check', 'bet 51', 'call', 'fold', 'check', 'check', 'raise 10', 'check', 'call', 'call', 'call', 'call', 'fold', 'raise 27', 'fold', 'fold', 'fold', 'fold', 'fold', 'fold', 'check', 'check', 'check', 'check', 'call', 'raise 35', 'call', 'raise 81', 'fold', 'raise 89', 'check', 'raise 92', 'check', 'bet 23', 'check', 'fold', 'fold', 'fold', 'call', 'fold', 'call', 'call', 'fold', 'call', 'fold', 'fold', 'fold', 'call', 'fold', 'bet 23', 'check', 'call', 'fold', 'check', 'check', 'fold', 'bet 18', 'call', 'check', 'fold', 'check', 'fold', 'fold', 'fold', 'call', 'raise 17', 'fold', 'raise 16', 'fold', 'call', 'fold', 'raise 89', 'fold', 'check', 'fold', 'fold', 'bet 22', 'check', 'check', 'raise 74', 'check', 'check', 'raise 32', 'fold', 'raise 10', 'call', 'call', 'fold', 'check', 'bet 7', 'fold', 'call', 'raise 38', 'fold', 'raise 81', 'call', 'fold', 'call', 'fold', 'check', 'raise 44', 'check', 'check', 'fold', 'call', 'fold', 'call', 'check', 'fold', 'call', 'fold', 'fold', 'check', 'raise 41', 'raise 11', 'call', 'check', 'call', 'bet 18', 'call', 'call', 'check', 'raise 16', 'check', 'bet 17', 'raise 85', 'check', 'bet 32', 'fold', 'check', 'raise 18', 'raise 19', 'call', 'call', 'check', 'fold', 'check', 'check', 'check', 'check', 'bet 24', 'call', 'check', 'check', 'bet 8', 'check', 'raise 92', 'raise 93', 'bet 29', 'call', 'fold', 'bet 13', 'call', 'fold', 'call', 'check', 'call', 'check', 'check', 'fold', 'raise 88', 'check', 'fold', 'raise 43', 'fold', 'fold', 'call', 'fold', 'call', 'call', 'fold', 'raise 89', 'bet 29', 'check', 'fold', 'call', 'check', 'call', 'raise 10', 'fold', 'check', 'fold', 'check', 'raise 17', 'call', 'fold', 'fold', 'fold', 'fold', 'call', 'fold', 'fold', 'call', 'call', 'fold', 'fold', 'raise 67', 'raise 27', 'bet 23', 'fold', 'bet 3', 'call', 'fold', 'call', 'fold', 'call', 'raise 10', 'raise 83', 'raise 25', 'fold', 'check', 'call', 'check', 'check', 'check', 'bet 17', 'fold', 'call', 'raise 58', 'check', 'call', 'call', 'fold', 'fold', 'check', 'fold', 'raise 25', 'call', 'fold', 'raise 81', 'raise 77', 'fold', 'fold', 'call', 'check', 'check', 'bet 18', 'fold', 'call', 'bet 8', 'fold', 'check', 'bet 17', 'call', 'raise 7', 'check', 'fold', 'check', 'bet 10', 'call', 'check', 'call', 'fold', 'fold', 'fold', 'call', 'call', 'bet 3', 'fold', 'check', 'fold', 'call', 'fold', 'call', 'call', 'raise 92', 'call', 'bet 12', 'bet 13', 'call', 'fold', 'raise 88', 'check', 'check', 'call', 'check', 'fold', 'fold', 'call', 'check', 'fold', 'check', 'call', 'check', 'check', 'call', 'check', 'check', 'call', 'call', 'fold', 'raise 92', 'fold', 'bet 12', 'call', 'check', 'call', 'fold', 'raise 22', 'bet 12', 'bet 24', 'check', 'fold', 'call', 'raise 82', 'check', 'call', 'check', 'check', 'fold', 'check', 'check', 'raise 64', 'bet 7', 'check', 'call', 'check', 'check', 'check', 'call', 'raise 40', 'fold', 'check', 'check', 'fold', 'check', 'check', 'fold', 'fold', 'raise 46', 'fold', 'call', 'check', 'call', 'call', 'fold', 'fold', 'call', 'call', 'bet 6', 'fold', 'fold', 'check', 'fold', 'bet 18', 'check', 'call', 'check', 'call', 'call', 'check', 'check', 'check', 'fold', 'check', 'fold', 'check', 'check', 'check', 'check', 'raise 10', 'fold', 'fold', 'call', 'call', 'call', 'raise 80', 'fold', 'fold', 'call', 'fold', 'call', 'fold', 'raise 13', 'call', 'raise 92', 'check', 'fold', 'call', 'raise 90', 'fold', 'check', 'fold', 'raise 74', 'bet 4', 'check', 'fold', 'fold', 'fold', 'fold', 'check', 'call', 'call', 'fold', 'check', 'check', 'call', 'fold', 'fold', 'check', 'check', 'check', 'call', 'fold', 'bet 24', 'raise 62', 'check', 'call', 'call', 'check', 'raise 13', 'call', 'fold', 'bet 23', 'fold', 'fold', 'check', 'call', 'check', 'fold', 'fold', 'check', 'call', 'check', 'fold', 'check', 'bet 24', 'fold', 'check', 'call', 'call', 'call', 'call', 'fold', 'call', 'raise 86', 'check', 'call', 'check', 'raise 25', 'check', 'call', 'fold', 'bet 16', 'check', 'check', 'check', 'call', 'call', 'bet 32', 'raise 29', 'raise 95', 'check', 'raise 28', 'raise 88', 'raise 84', 'fold', 'check', 'call', 'call', 'call', 'call', 'raise 84', 'check', 'check', 'fold', 'fold', 'call', 'check', 'raise 86', 'fold', 'fold', 'check', 'call', 'raise 33', 'check', 'call', 'call', 'call', 'check', 'raise 25', 'raise 92', 'check', 'raise 86', 'call', 'call', 'call', 'raise 31', 'fold', 'bet 2', 'check', 'fold', 'check', 'fold', 'call', 'bet 29', 'check', 'fold', 'check', 'bet 4', 'call', 'check', 'fold', 'check', 'fold', 'call', 'raise 83', 'fold', 'check', 'call', 'fold', 'fold', 'check', 'fold', 'check', 'call', 'check', 'call', 'bet 15', 'check', 'fold', 'call', 'call', 'check', 'fold', 'fold', 'raise 80', 'fold', 'fold', 'bet 8', 'fold', 'bet 29', 'call', 'bet 11', 'call', 'raise 89', 'call', 'raise 85', 'fold', 'fold', 'fold', 'check', 'check', 'fold', 'fold', 'check', 'call', 'raise 18', 'fold', 'raise 81', 'check', 'check', 'check', 'call', 'call', 'check', 'call', 'call', 'check', 'call', 'raise 32', 'call', 'raise 89', 'fold', 'raise 82', 'fold', 'fold', 'raise 54', 'call', 'call', 'raise 48', 'fold', 'call', 'call', 'call', 'fold', 'call', 'check', 'raise 16', 'fold', 'fold', 'fold', 'fold', 'raise 83', 'check', 'fold', 'raise 93', 'check', 'call', 'call', 'call', 'fold', 'bet 34', 'bet 12', 'call', 'check', 'raise 77', 'call', 'raise 74', 'call', 'call', 'check', 'fold', 'raise 86', 'call', 'fold', 'fold', 'bet 5', 'call', 'check', 'check', 'raise 84', 'call', 'raise 7', 'call', 'bet 11', 'fold', 'call', 'call', 'check', 'call', 'raise 81', 'bet 5', 'fold', 'raise 13', 'fold', 'raise 88', 'check', 'call', 'fold', 'check', 'raise 10', 'check', 'call', 'call', 'fold', 'call', 'check', 'fold', 'check', 'call', 'fold', 'raise 38', 'check', 'check', 'call', 'call', 'raise 89', 'fold', 'check', 'fold', 'call', 'call', 'raise 38', 'fold', 'call', 'check', 'check', 'call', 'bet 12', 'bet 17', 'check', 'fold', 'fold', 'call', 'call', 'call', 'call', 'raise 95', 'check', 'bet 4', 'raise 22', 'call', 'raise 92', 'raise 89', 'fold', 'call', 'check', 'call', 'fold', 'fold', 'bet 4', 'check', 'check', 'call', 'fold', 'raise 64', 'fold', 'raise 80', 'fold', 'call', 'call', 'raise 58', 'bet 17', 'fold', 'raise 32', 'check', 'fold', 'fold', 'raise 32', 'check', 'call', 'raise 84', 'call', 'fold', 'raise 41', 'call', 'call', 'bet 13', 'bet 32', 'call', 'check', 'check', 'check', 'call', 'fold', 'raise 13', 'bet 20', 'check', 'fold', 'call', 'call', 'check', 'raise 16', 'call', 'fold', 'check', 'call', 'bet 3', 'check', 'check', 'fold', 'call', 'raise 81', 'call', 'fold', 'call', 'call', 'call', 'fold', 'check', 'call', 'fold', 'check', 'check', 'call', 'bet 8', 'check', 'bet 7', 'check', 'fold', 'call', 'call', 'call', 'call', 'raise 90', 'check', 'call', 'check', 'raise 87', 'check', 'call', 'call', 'check', 'fold', 'call', 'raise 89', 'fold', 'check', 'call', 'call', 'raise 84', 'call', 'call', 'fold', 'check', 'call', 'check', 'raise 25', 'bet 12', 'raise 29', 'check', 'fold', 'call', 'raise 23', 'check', 'fold', 'raise 92', 'raise 16', 'raise 25', 'check', 'raise 33', 'fold', 'call', 'call', 'fold', 'call', 'fold', 'call', 'fold', 'check', 'raise 22', 'fold', 'raise 84', 'fold', 'call', 'raise 83', 'check', 'check', 'check', 'bet 32', 'bet 3', 'check', 'raise 29', 'call', 'check', 'call', 'check', 'call', 'fold', 'fold', 'check', 'check', 'call', 'call', 'call', 'fold', 'fold', 'bet 8', 'fold', 'fold', 'fold', 'raise 16', 'check', 'bet 8', 'bet 17', 'fold', 'call', 'fold', 'raise 80', 'raise 77', 'check', 'raise 35', 'bet 20', 'check', 'fold', 'raise 86', 'check', 'bet 10', 'raise 28', 'check', 'call', 'call', 'check', 'fold', 'call', 'call', 'bet 5', 'fold', 'bet 4', 'fold', 'fold', 'bet 4', 'call', 'check', 'call', 'fold', 'raise 87', 'bet 13', 'check', 'raise 80', 'check', 'raise 92', 'check', 'fold', 'check', 'fold', 'fold', 'fold', 'bet 23', 'check', 'fold', 'raise 70', 'raise 57', 'call', 'check', 'fold', 'raise 77', 'call', 'call', 'fold', 'call', 'fold', 'check', 'call', 'call', 'check', 'call', 'check', 'call', 'call', 'fold', 'call', 'fold', 'raise 14', 'raise 25', 'call', 'check', 'call', 'fold', 'raise 16', 'call', 'check', 'check', 'bet 5', 'bet 23', 'fold', 'raise 74', 'check', 'raise 93', 'check', 'call', 'call', 'fold', 'fold', 'fold', 'fold', 'raise 25', 'check', 'fold', 'check', 'fold', 'check', 'call', 'call', 'bet 4', 'call', 'call', 'raise 93', 'call', 'check', 'call', 'check', 'call', 'fold', 'raise 16', 'call', 'check', 'fold', 'check', 'bet 29', 'call', 'fold', 'check', 'bet 5', 'fold', 'fold', 'fold', 'call', 'call', 'check', 'check', 'raise 93', 'call', 'check', 'fold', 'bet 10', 'bet 24', 'check', 'raise 86', 'fold', 'fold', 'raise 86', 'fold', 'fold', 'fold', 'fold', 'call', 'call', 'check', 'fold', 'check', 'check', 'fold', 'call', 'call', 'raise 84', 'fold', 'call', 'check', 'check', 'check', 'bet 8', 'call', 'check', 'fold', 'fold', 'fold', 'call', 'fold', 'raise 13', 'check', 'fold', 'raise 83', 'call', 'bet 22', 'check', 'raise 81', 'call', 'fold', 'raise 74', 'raise 89', 'fold', 'call', 'fold', 'check', 'fold', 'raise 13', 'check', 'check', 'fold', 'raise 90', 'call', 'raise 75', 'check', 'raise 93', 'fold', 'fold', 'fold', 'fold', 'call', 'fold', 'check', 'check', 'fold', 'fold', 'fold', 'call', 'fold', 'raise 73', 'fold', 'raise 35', 'raise 84', 'fold', 'fold', 'bet 45', 'bet 23', 'call', 'raise 70', 'check', 'call', 'call', 'fold', 'raise 89', 'raise 18', 'raise 87', 'fold', 'call', 'fold', 'call', 'check', 'raise 32', 'call', 'call', 'call', 'call', 'check', 'bet 22', 'check', 'fold', 'call', 'check', 'call', 'bet 39', 'fold', 'fold', 'fold', 'call', 'fold', 'bet 10', 'fold', 'call', 'check', 'call', 'raise 16', 'call', 'fold', 'bet 4', 'call', 'call', 'check', 'call', 'raise 22', 'bet 29', 'bet 17', 'bet 29', 'check', 'call', 'raise 81', 'check', 'fold', 'fold', 'raise 31', 'check', 'fold', 'fold', 'check', 'check', 'check', 'bet 19', 'check', 'fold', 'raise 10', 'fold', 'fold', 'fold', 'fold', 'call', 'fold', 'check', 'call', 'call', 'check', 'raise 25', 'fold', 'fold', 'call', 'fold', 'bet 8', 'check', 'check', 'call', 'check', 'fold', 'call', 'fold', 'call', 'bet 20', 'raise 27', 'fold', 'check', 'check', 'call', 'check', 'raise 22', 'fold', 'raise 83', 'check', 'call', 'check', 'fold', 'raise 25', 'check', 'fold', 'call', 'check', 'fold', 'fold', 'fold', 'fold', 'fold', 'raise 94', 'bet 8', 'check', 'call', 'raise 87', 'call', 'fold', 'check', 'raise 93', 'check', 'fold', 'call', 'fold', 'call', 'call', 'raise 56', 'call', 'raise 58', 'raise 17', 'check', 'check', 'fold', 'raise 25', 'call', 'bet 5', 'bet 18', 'raise 27', 'raise 59', 'fold', 'check', 'check', 'check', 'raise 92', 'check', 'call', 'call', 'raise 81', 'raise 44', 'check', 'fold', 'call', 'check', 'call', 'fold', 'fold', 'call', 'fold', 'raise 22', 'fold', 'fold', 'raise 54', 'check', 'call', 'fold', 'check', 'check', 'raise 10', 'fold', 'check', 'fold', 'fold', 'fold', 'fold', 'check', 'check', 'raise 77', 'raise 44', 'fold', 'bet 12', 'check', 'call', 'call', 'fold', 'bet 23', 'call', 'call', 'check', 'fold', 'fold', 'check', 'raise 81', 'fold', 'call', 'call', 'check', 'check', 'call', 'raise 11', 'fold', 'bet 17', 'call', 'fold', 'call', 'check', 'check', 'fold', 'fold', 'call', 'fold', 'check', 'check', 'call', 'call', 'check', 'check', 'fold', 'fold', 'check', 'fold', 'raise 86', 'check', 'fold', 'check', 'raise 77', 'check', 'check', 'bet 5', 'call', 'fold', 'call', 'fold', 'call', 'bet 8', 'call', 'raise 89', 'check', 'call', 'bet 3', 'fold', 'call', 'bet 17', 'check', 'raise 44', 'call', 'fold', 'fold', 'bet 3', 'bet 22', 'check', 'check', 'raise 37', 'fold', 'fold', 'call', 'bet 2', 'call', 'call', 'raise 89', 'bet 23', 'check', 'check', 'call', 'fold', 'bet 5', 'fold', 'bet 10', 'call', 'call', 'raise 35', 'call', 'call', 'bet 23', 'call', 'fold', 'check', 'fold', 'call', 'check', 'call', 'call', 'call', 'call', 'raise 77', 'call', 'call', 'check', 'check', 'raise 25', 'call', 'call', 'check', 'fold', 'check', 'fold', 'raise 41', 'call', 'check', 'fold', 'fold', 'fold', 'call', 'bet 29', 'call', 'check', 'raise 90', 'fold', 'fold', 'check', 'check', 'call', 'bet 18', 'call', 'fold', 'fold', 'bet 29', 'call', 'raise 25', 'fold', 'call', 'raise 58', 'check', 'bet 13', 'check', 'bet 10', 'raise 54', 'call', 'check', 'check', 'raise 89', 'call', 'fold', 'raise 84', 'fold', 'call', 'fold', 'call', 'raise 84', 'bet 3', 'fold', 'check', 'check', 'call', 'check', 'fold', 'call', 'check', 'call', 'fold', 'fold', 'raise 16', 'call', 'raise 80', 'raise 58', 'raise 92', 'call', 'fold', 'check', 'bet 4', 'check', 'fold', 'check', 'check', 'check', 'raise 86', 'raise 88', 'call', 'check', 'fold', 'check', 'fold', 'check', 'bet 10', 'check', 'fold', 'fold', 'raise 46', 'fold', 'check', 'fold', 'check', 'call', 'raise 37', 'raise 84', 'fold', 'fold', 'check', 'fold', 'check', 'fold', 'check', 'bet 8', 'bet 29', 'check', 'call', 'call', 'call', 'fold', 'call', 'fold', 'raise 90', 'check', 'bet 29', 'bet 17', 'check', 'raise 82', 'fold', 'raise 88', 'call', 'bet 17', 'bet 17', 'call', 'check', 'check', 'call', 'check', 'check', 'fold', 'fold', 'raise 88', 'fold', 'call', 'raise 88', 'raise 38', 'check', 'bet 23', 'fold', 'fold', 'check', 'call', 'fold', 'raise 82', 'call', 'fold', 'raise 16', 'fold', 'call', 'raise 85', 'bet 5', 'check', 'fold', 'raise 7', 'fold', 'fold', 'check', 'check', 'call', 'fold', 'check', 'call', 'raise 83', 'call', 'raise 89', 'call', 'raise 8', 'bet 4', 'fold', 'check', 'fold', 'raise 23', 'bet 39', 'fold', 'fold', 'raise 64', 'fold', 'call', 'call', 'call', 'check', 'bet 29', 'call', 'check', 'raise 86', 'call', 'fold', 'check', 'call', 'fold', 'bet 4', 'fold', 'raise 22', 'check', 'bet 11', 'check', 'check', 'check', 'fold', 'call', 'bet 3', 'fold', 'check', 'call', 'fold', 'call', 'check', 'fold', 'check', 'bet 27', 'bet 29', 'check', 'bet 31', 'call', 'bet 18', 'fold', 'fold', 'check', 'call', 'check', 'check', 'call', 'fold', 'check', 'fold', 'raise 55', 'check', 'fold', 'raise 90', 'bet 25', 'raise 89', 'fold', 'raise 82', 'raise 87', 'check', 'call', 'bet 29', 'fold', 'call', 'fold', 'call', 'raise 30', 'check', 'check', 'check', 'check', 'check', 'raise 88', 'call', 'check', 'raise 31', 'check', 'check', 'fold', 'raise 18', 'check', 'fold', 'bet 23', 'call', 'call', 'check', 'fold', 'raise 30', 'check', 'bet 20', 'raise 54', 'check', 'call', 'call', 'call', 'raise 81', 'raise 80', 'fold', 'fold', 'fold', 'bet 4', 'bet 18', 'check', 'fold', 'call', 'check', 'check', 'check', 'fold', 'call', 'check', 'fold', 'check', 'check', 'bet 19', 'fold', 'fold', 'fold', 'check', 'fold', 'call', 'call', 'check', 'check', 'raise 32', 'check', 'fold', 'fold', 'fold', 'raise 41', 'bet 31', 'fold', 'fold', 'bet 4', 'check', 'check', 'fold', 'bet 7', 'check', 'check', 'check', 'fold', 'raise 54', 'call', 'fold', 'check', 'fold', 'call', 'call', 'check', 'bet 3', 'check', 'call', 'call', 'bet 12', 'fold', 'check', 'fold', 'raise 35', 'fold', 'call', 'check', 'call', 'fold', 'bet 24', 'call', 'check', 'call', 'fold', 'call', 'fold', 'raise 86', 'fold', 'fold', 'bet 2', 'raise 93', 'call', 'bet 5', 'fold', 'call', 'call', 'call', 'check', 'bet 5', 'call', 'bet 23', 'fold', 'check', 'fold', 'bet 15', 'call', 'check', 'call', 'call', 'call', 'call', 'call', 'call', 'fold', 'fold', 'raise 16', 'fold', 'fold', 'call', 'fold', 'bet 17', 'raise 38', 'raise 35', 'bet 16', 'check', 'call', 'check', 'call', 'fold', 'fold', 'check', 'fold', 'bet 17', 'call', 'check', 'call', 'call', 'call', 'bet 34', 'raise 27', 'raise 77', 'check', 'bet 39', 'check', 'raise 88', 'fold', 'fold', 'bet 10', 'call', 'check', 'fold', 'raise 84', 'call', 'call', 'fold', 'fold', 'check', 'check', 'check', 'fold', 'call', 'fold', 'check', 'fold', 'fold', 'raise 80', 'raise 80', 'call', 'call', 'fold', 'fold', 'call', 'call', 'check', 'call', 'bet 40', 'call', 'fold', 'check', 'call', 'call', 'check', 'fold', 'check', 'check', 'call', 'fold', 'check', 'bet 17', 'call', 'fold', 'call', 'fold', 'call', 'fold', 'bet 11', 'call', 'call', 'check', 'check', 'call', 'bet 3', 'call', 'check', 'call', 'call', 'raise 77', 'raise 93', 'raise 41', 'bet 4', 'fold', 'raise 17', 'bet 4', 'check', 'raise 82', 'call', 'fold', 'fold', 'fold', 'check', 'fold', 'raise 89', 'call', 'bet 10', 'check', 'fold', 'bet 4', 'call', 'check', 'call', 'call', 'raise 81', 'fold', 'raise 32', 'call', 'call', 'check', 'raise 38', 'fold', 'check', 'check', 'fold', 'call', 'bet 5', 'check', 'fold', 'fold', 'fold', 'call', 'call', 'raise 48', 'fold', 'raise 25', 'call', 'raise 58', 'bet 10', 'call', 'fold', 'check', 'call', 'check', 'check', 'raise 93', 'raise 89', 'call', 'check', 'check', 'raise 84', 'fold', 'check', 'check', 'fold', 'fold', 'fold', 'check', 'fold', 'fold', 'call', 'call', 'check', 'bet 10', 'fold', 'call', 'raise 25', 'call', 'call', 'call', 'check', 'check', 'bet 13', 'raise 44', 'call', 'check', 'check', 'check', 'raise 89', 'bet 17', 'fold', 'bet 4', 'fold', 'call', 'fold', 'raise 41', 'fold', 'fold', 'raise 37', 'call', 'call', 'check', 'call', 'raise 86', 'raise 76', 'check', 'raise 86', 'call', 'fold', 'fold', 'check', 'fold', 'fold', 'raise 82', 'raise 93', 'call', 'check', 'check', 'check', 'fold', 'bet 12', 'fold', 'fold', 'check', 'fold', 'call', 'fold', 'fold', 'fold', 'fold', 'fold', 'check', 'bet 24', 'call', 'check', 'call', 'raise 18', 'call', 'raise 13', 'call', 'call', 'check', 'fold', 'bet 29', 'bet 13', 'raise 83', 'raise 38', 'raise 4', 'call', 'call', 'call', 'call', 'check', 'call', 'fold', 'check', 'call', 'call', 'check', 'call', 'call', 'bet 3', 'fold', 'fold', 'check', 'call', 'bet 30', 'check', 'raise 16', 'bet 23', 'call', 'check', 'check', 'call', 'bet 24', 'call', 'check', 'call', 'check', 'bet 29', 'fold', 'check', 'bet 17', 'raise 25', 'bet 29', 'call', 'check', 'raise 58', 'raise 85', 'fold', 'raise 88', 'raise 22', 'call', 'call', 'fold', 'check', 'call', 'check', 'bet 7', 'check', 'fold', 'fold', 'fold', 'raise 27', 'check', 'check', 'raise 87', 'raise 11', 'call', 'bet 23', 'check', 'fold', 'check', 'call', 'bet 11', 'fold', 'call', 'call', 'call', 'call', 'call', 'check', 'fold', 'fold', 'check', 'call', 'check', 'raise 29', 'raise 77', 'call', 'fold', 'raise 23', 'raise 85', 'check', 'bet 29', 'call', 'check', 'call', 'check', 'raise 92', 'call', 'bet 23', 'fold', 'bet 29', 'fold', 'raise 86', 'fold', 'call', 'fold', 'raise 58', 'raise 41', 'check', 'fold', 'call', 'check', 'bet 23', 'check', 'check', 'check', 'check', 'check', 'check', 'check', 'check', 'raise 84', 'bet 12', 'call', 'fold', 'raise 11', 'raise 10', 'bet 23', 'bet 7', 'fold', 'call', 'check', 'raise 13', 'check', 'raise 90', 'call', 'fold', 'bet 5', 'bet 20', 'check', 'call', 'fold', 'fold', 'call', 'raise 86', 'fold', 'bet 3', 'check', 'bet 31', 'raise 89', 'check', 'fold', 'check', 'call', 'fold', 'check', 'check', 'bet 18', 'check', 'fold', 'check', 'fold', 'raise 38', 'call', 'call', 'fold', 'bet 34', 'check', 'check', 'raise 77', 'bet 16', 'fold', 'call', 'check', 'call', 'check', 'fold', 'call', 'call', 'call', 'call', 'bet 29', 'fold', 'call', 'check', 'check', 'call', 'check', 'check', 'check', 'call', 'fold', 'fold', 'call', 'fold', 'check', 'check', 'check', 'check', 'raise 41', 'check', 'fold', 'raise 41', 'bet 28', 'raise 90', 'check', 'bet 13', 'fold', 'fold', 'call', 'check', 'call', 'check', 'bet 10', 'call', 'call', 'raise 92', 'fold', 'raise 13', 'bet 40', 'check', 'raise 83', 'bet 29', 'check', 'call', 'raise 82', 'check', 'fold', 'check', 'call', 'call', 'call', 'call', 'call', 'fold', 'fold', 'fold', 'raise 92', 'fold', 'fold', 'call', 'fold', 'call', 'check', 'fold', 'call', 'call', 'fold', 'call', 'fold', 'bet 18', 'check', 'check', 'call', 'raise 25', 'check', 'call', 'call', 'call', 'call', 'call', 'fold', 'bet 13', 'bet 23', 'check', 'check', 'bet 17', 'bet 39', 'fold', 'check', 'check', 'call', 'fold', 'call', 'fold', 'check', 'call', 'call', 'fold', 'raise 73', 'check', 'fold', 'fold', 'check', 'fold', 'call', 'fold', 'call', 'fold', 'check', 'raise 16', 'check', 'fold', 'call', 'call', 'fold', 'call', 'check', 'fold', 'bet 17', 'fold', 'bet 18', 'raise 86', 'bet 8', 'call', 'call', 'raise 86', 'check', 'call', 'call', 'fold', 'call', 'fold', 'call', 'check', 'raise 83', 'call', 'check', 'fold', 'raise 37', 'check', 'call', 'raise 84', 'check', 'call', 'check', 'fold', 'check', 'call', 'check', 'bet 8', 'raise 48', 'call', 'bet 10', 'call', 'raise 32', 'call', 'raise 35', 'check', 'call', 'bet 16', 'fold', 'bet 13', 'check', 'raise 81', 'call', 'call', 'fold', 'call', 'call', 'check', 'bet 11', 'check', 'check', 'bet 4', 'check', 'fold', 'check', 'fold', 'raise 84', 'call', 'fold', 'bet 21', 'raise 32', 'fold', 'check', 'check', 'call', 'fold', 'call', 'bet 39', 'bet 12', 'check', 'call', 'check', 'raise 84', 'fold', 'call', 'check', 'bet 29', 'raise 84', 'bet 24', 'call', 'bet 25', 'raise 87', 'check', 'check', 'call', 'raise 29', 'check', 'bet 17', 'call', 'call', 'call', 'fold', 'fold', 'check', 'fold', 'check', 'check', 'fold', 'bet 13', 'check', 'check', 'bet 13', 'fold', 'fold', 'call', 'check', 'raise 29', 'bet 23', 'fold', 'call', 'raise 95', 'check', 'check', 'bet 16', 'check', 'check', 'check', 'call', 'raise 13', 'raise 13', 'bet 5', 'raise 16', 'call', 'fold', 'bet 12', 'call', 'call', 'fold', 'raise 25', 'raise 31', 'fold', 'raise 22', 'call', 'raise 19', 'call', 'fold', 'raise 87', 'call', 'check', 'check', 'fold', 'fold', 'fold', 'call', 'check', 'fold', 'call', 'check', 'raise 86', 'fold', 'bet 20', 'bet 29', 'bet 16', 'raise 17', 'fold', 'check', 'check', 'check', 'call', 'call', 'fold', 'fold', 'fold', 'fold', 'fold', 'call', 'raise 10', 'call', 'fold', 'check', 'check', 'call', 'call', 'check', 'check', 'call', 'call', 'raise 46', 'raise 13', 'fold', 'check', 'check', 'raise 38', 'fold', 'bet 10', 'fold', 'call', 'bet 12', 'fold', 'call', 'fold', 'check', 'raise 77', 'check', 'fold', 'call', 'raise 93', 'check', 'raise 64', 'bet 24', 'check', 'raise 41', 'bet 29', 'bet 5', 'fold', 'call', 'fold', 'check', 'bet 24', 'bet 5', 'call', 'raise 29', 'call', 'call', 'call', 'fold', 'fold', 'call', 'fold', 'bet 18', 'check', 'fold', 'check', 'call', 'fold', 'fold', 'check', 'fold', 'bet 29', 'raise 27', 'check', 'bet 24', 'call', 'call', 'bet 10', 'check', 'call', 'call', 'call', 'check', 'fold', 'fold', 'bet 3', 'bet 29', 'fold', 'fold', 'call', 'raise 13', 'raise 41', 'call', 'call', 'fold', 'raise 89', 'fold', 'check', 'fold', 'call', 'fold', 'fold', 'raise 18', 'fold', 'raise 84', 'call', 'fold', 'fold', 'bet 25', 'bet 5', 'call', 'bet 20', 'call', 'call', 'check', 'bet 29', 'call', 'call', 'fold', 'fold', 'check', 'call', 'check', 'call', 'fold', 'check', 'fold', 'check', 'check', 'call', 'check', 'fold', 'raise 62', 'fold', 'check', 'raise 27', 'call', 'fold', 'fold', 'raise 29', 'fold', 'check', 'check', 'fold', 'raise 29', 'call', 'check', 'fold', 'bet 4', 'call', 'raise 14', 'check', 'check', 'raise 25', 'check', 'fold', 'call', 'bet 24', 'raise 29', 'fold', 'call', 'fold', 'raise 83', 'bet 12', 'fold', 'check', 'fold', 'fold', 'check', 'fold', 'call', 'raise 89', 'check', 'raise 86', 'raise 73', 'check', 'raise 29', 'call', 'call', 'call', 'call', 'bet 10', 'raise 41', 'fold', 'call', 'check', 'fold', 'fold', 'check', 'call', 'fold', 'fold', 'check', 'check', 'fold', 'raise 29', 'fold', 'fold', 'raise 81', 'call', 'call', 'call', 'bet 10', 'check', 'check', 'raise 86', 'bet 32', 'fold', 'call', 'check', 'fold', 'fold', 'call', 'fold', 'call', 'fold', 'raise 93', 'call', 'fold', 'raise 88', 'call', 'fold', 'check', 'call', 'call', 'check', 'check', 'check', 'fold', 'fold', 'raise 87', 'call', 'bet 11', 'call', 'check', 'fold', 'call', 'check', 'check', 'call', 'call', 'check', 'call', 'bet 24', 'call', 'fold', 'call', 'raise 88', 'fold', 'fold', 'fold', 'bet 13', 'fold', 'check', 'call', 'fold', 'call', 'call', 'fold', 'fold', 'check', 'raise 38', 'raise 41', 'bet 4', 'fold', 'fold', 'call', 'fold', 'raise 85', 'fold', 'check', 'check', 'bet 17', 'call', 'fold', 'raise 86', 'call', 'fold', 'call', 'check', 'fold', 'call', 'check', 'raise 58', 'fold', 'check', 'check', 'call', 'call', 'fold', 'check', 'call', 'check', 'fold', 'raise 37', 'fold', 'check', 'call', 'check', 'fold', 'call', 'check', 'check', 'raise 41', 'call', 'fold', 'call', 'raise 61', 'call', 'raise 92', 'raise 27', 'call', 'fold', 'fold', 'raise 30', 'raise 92', 'call', 'check', 'raise 83', 'fold', 'bet 22', 'raise 92', 'fold', 'fold', 'check', 'check', 'bet 12', 'check', 'fold', 'check', 'call', 'check', 'bet 34', 'call', 'check', 'bet 10', 'check', 'check', 'fold', 'check', 'check', 'fold', 'fold', 'call', 'check', 'check', 'call', 'check', 'check', 'bet 8', 'raise 17', 'check', 'check', 'check', 'check', 'fold', 'check', 'raise 48', 'call', 'check', 'call', 'raise 58', 'call', 'check', 'raise 92', 'check', 'fold', 'fold', 'fold', 'bet 3', 'check', 'raise 10', 'check', 'call', 'check', 'call', 'fold', 'call', 'fold', 'fold', 'fold', 'check', 'raise 75', 'call', 'check', 'fold', 'raise 46', 'call', 'check', 'fold', 'raise 88', 'fold', 'raise 89', 'call', 'fold', 'call', 'check', 'fold', 'check', 'raise 85', 'check', 'check', 'fold', 'check', 'fold', 'call', 'call', 'check', 'fold', 'raise 86', 'bet 12', 'raise 77', 'call', 'check', 'call', 'raise 48', 'call', 'check', 'check', 'check', 'call', 'check', 'fold', 'check', 'call', 'fold', 'bet 22', 'check', 'raise 13', 'check', 'call', 'check', 'fold', 'fold', 'call', 'check', 'fold', 'call', 'fold', 'raise 35', 'check', 'call', 'fold', 'raise 82', 'call', 'fold', 'call', 'check', 'call', 'fold', 'raise 56', 'raise 58', 'check', 'check', 'check', 'check', 'check', 'call', 'check', 'fold', 'check', 'check', 'raise 88', 'check', 'fold', 'bet 11', 'check', 'fold', 'raise 81', 'raise 38', 'raise 86', 'call', 'call', 'raise 90', 'check', 'call', 'fold', 'fold', 'fold', 'call', 'fold', 'check', 'call', 'check', 'fold', 'call', 'call', 'call', 'raise 91', 'call', 'bet 17', 'fold', 'call', 'fold', 'call', 'fold', 'fold', 'fold', 'raise 19', 'call', 'fold', 'check', 'fold', 'fold', 'check', 'call', 'check', 'check', 'fold', 'raise 86', 'fold', 'fold', 'call', 'fold', 'call', 'check', 'fold', 'call', 'bet 29', 'check', 'check', 'bet 18', 'raise 70', 'call', 'fold', 'check', 'fold', 'call', 'check', 'raise 84', 'call', 'check', 'check', 'call', 'call', 'check', 'check', 'fold', 'raise 25', 'call', 'call', 'check', 'raise 58', 'fold', 'bet 10', 'check', 'check', 'fold', 'check', 'check', 'call', 'fold', 'fold', 'fold', 'fold', 'check', 'check', 'bet 17', 'fold', 'check', 'call', 'fold', 'call', 'bet 17', 'raise 86', 'fold', 'fold', 'raise 88', 'fold', 'fold', 'check', 'fold', 'raise 74', 'raise 94', 'fold', 'check', 'call', 'call', 'call', 'fold', 'raise 35', 'fold', 'raise 81', 'bet 10', 'call', 'raise 89', 'check', 'check', 'raise 81', 'check', 'call', 'call', 'raise 16', 'call', 'fold', 'raise 93', 'raise 85', 'call', 'bet 13', 'check', 'bet 4', 'call', 'call', 'call', 'raise 48', 'check', 'bet 29', 'check', 'raise 77', 'raise 38', 'bet 29', 'call', 'raise 35', 'check', 'bet 29', 'check', 'check', 'raise 80', 'raise 90', 'fold', 'bet 20', 'raise 18', 'call', 'call', 'call', 'call', 'check', 'fold', 'check', 'check', 'check', 'fold', 'raise 32', 'check', 'check', 'check', 'raise 18', 'check', 'call', 'raise 85', 'check', 'fold', 'check', 'bet 23', 'check', 'bet 5', 'fold', 'raise 89', 'check', 'bet 11', 'bet 2', 'call', 'fold', 'call', 'check', 'call', 'call', 'fold', 'fold', 'raise 25', 'bet 5', 'fold', 'check', 'call', 'call', 'fold', 'check', 'fold', 'check', 'check', 'check', 'check', 'fold', 'fold', 'fold', 'raise 73', 'fold', 'call', 'call', 'raise 22', 'raise 86', 'call', 'call', 'fold', 'fold', 'fold', 'fold', 'check', 'bet 23', 'bet 11', 'fold', 'check', 'raise 81', 'fold', 'call', 'raise 81', 'call', 'fold', 'check', 'raise 82', 'fold', 'bet 18', 'fold', 'raise 80', 'call', 'call', 'raise 85', 'fold', 'raise 84', 'check', 'bet 29', 'call', 'raise 35', 'raise 32', 'bet 17', 'check', 'check', 'call', 'check', 'raise 16', 'raise 73', 'call', 'check', 'fold', 'call', 'call', 'call', 'call', 'raise 82', 'fold', 'raise 41', 'check', 'check', 'call', 'call', 'call', 'call', 'bet 20', 'raise 58', 'bet 12', 'check', 'check', 'check', 'bet 7', 'raise 88', 'call', 'raise 89', 'fold', 'bet 15', 'fold', 'fold', 'fold', 'raise 35', 'fold', 'call', 'bet 23', 'fold', 'fold', 'check', 'raise 84', 'raise 95', 'raise 30', 'fold', 'check', 'call', 'fold', 'bet 27', 'fold', 'call', 'fold', 'fold', 'call', 'bet 29', 'raise 86', 'fold', 'check', 'fold', 'call', 'call', 'call', 'bet 18', 'bet 16', 'raise 32', 'fold', 'fold', 'bet 31', 'call', 'call', 'check', 'bet 28', 'check', 'check', 'call', 'bet 8', 'check', 'call', 'fold', 'call', 'check', 'bet 16', 'check', 'call', 'raise 13', 'call', 'call', 'fold', 'check', 'check', 'call', 'check', 'check', 'fold', 'bet 13', 'bet 10', 'raise 43', 'fold', 'check', 'fold', 'fold', 'fold', 'call', 'check', 'check', 'raise 90', 'fold', 'fold', 'raise 16', 'call', 'call', 'call', 'check', 'call', 'fold', 'call', 'call', 'check', 'call', 'fold', 'raise 38', 'raise 17', 'bet 10', 'check', 'raise 61', 'fold', 'call', 'bet 23', 'check', 'call', 'fold', 'raise 32', 'check', 'call', 'call', 'fold', 'bet 23', 'call', 'fold', 'fold', 'raise 16', 'check', 'fold', 'fold', 'check', 'check', 'fold', 'call', 'raise 89', 'call', 'fold', 'bet 5', 'raise 87', 'call', 'raise 81', 'call', 'bet 17', 'fold', 'raise 81', 'raise 22', 'call', 'fold', 'fold', 'raise 75', 'call', 'raise 85', 'fold', 'check', 'raise 86', 'bet 2', 'call', 'check', 'bet 34', 'call', 'raise 23', 'check', 'fold', 'check', 'raise 86', 'bet 23', 'call', 'check', 'raise 83', 'call', 'fold', 'check', 'fold', 'call', 'check', 'fold', 'check', 'fold', 'fold', 'call', 'check', 'check', 'call', 'fold', 'raise 84', 'call', 'raise 61', 'call', 'call', 'fold', 'call', 'call', 'check', 'call', 'call', 'fold', 'fold', 'check', 'fold', 'check', 'call', 'raise 18', 'check', 'raise 73', 'fold', 'check', 'call', 'check', 'check', 'call', 'check', 'check', 'bet 29', 'check', 'fold', 'call', 'bet 25', 'check', 'check', 'call', 'check', 'call', 'fold', 'check', 'check', 'check', 'bet 29', 'check', 'call', 'call', 'fold', 'fold', 'check', 'call', 'raise 16', 'bet 18', 'call', 'fold', 'fold', 'raise 31', 'check', 'check', 'fold', 'call', 'raise 87', 'raise 90', 'call', 'fold', 'check', 'call', 'check', 'check', 'fold', 'check', 'raise 32', 'raise 82', 'call', 'raise 22', 'fold', 'fold', 'check', 'raise 32', 'check', 'bet 23', 'check', 'call', 'bet 29', 'call', 'check', 'fold', 'check', 'call', 'fold', 'check', 'call', 'bet 18', 'check', 'raise 54', 'bet 18', 'check', 'raise 29', 'check', 'fold', 'raise 31', 'call', 'check', 'bet 4', 'raise 27', 'fold', 'raise 19', 'raise 86', 'fold', 'check', 'call', 'check', 'fold', 'bet 23', 'call', 'bet 5', 'check', 'raise 46', 'call', 'raise 94', 'call', 'fold', 'raise 88', 'call', 'check', 'raise 82', 'fold', 'call', 'call', 'fold', 'check', 'bet 17', 'raise 32', 'raise 23', 'call', 'check', 'call', 'bet 23', 'fold', 'raise 74', 'raise 14', 'raise 13', 'call', 'check', 'check', 'call', 'check', 'call', 'raise 90', 'check', 'check', 'fold', 'check', 'call', 'check', 'fold', 'call', 'check', 'raise 67', 'call', 'call', 'call', 'fold', 'check', 'fold', 'fold', 'fold', 'call', 'raise 30', 'call', 'fold', 'fold', 'raise 41', 'check', 'raise 83', 'call', 'check', 'raise 80', 'check', 'raise 89', 'call', 'call', 'raise 44', 'raise 83', 'call', 'check', 'raise 80', 'call', 'raise 85', 'check', 'check', 'call', 'call', 'call', 'check', 'fold', 'bet 4', 'fold', 'fold', 'bet 17', 'bet 23', 'check', 'call', 'fold', 'bet 29', 'fold', 'bet 10', 'raise 34', 'call', 'call', 'bet 29', 'call', 'bet 25', 'bet 23', 'fold', 'call', 'bet 10', 'bet 29', 'call', 'bet 29', 'bet 2', 'check', 'check', 'check', 'check', 'fold', 'fold', 'fold', 'check', 'check', 'call', 'fold', 'check', 'fold', 'call', 'call', 'check', 'check', 'raise 89', 'call', 'check', 'raise 84', 'check', 'bet 39', 'fold', 'call', 'raise 73', 'check', 'bet 8', 'call', 'bet 4', 'call', 'call', 'bet 10', 'call', 'call', 'check', 'bet 10', 'fold', 'call', 'call', 'bet 2', 'call', 'call', 'call', 'bet 29', 'call', 'call', 'call', 'check', 'check', 'fold', 'check', 'check', 'raise 77', 'fold', 'bet 29', 'check', 'raise 23', 'fold', 'check', 'call', 'check', 'check', 'fold', 'raise 82', 'raise 29', 'fold', 'call', 'bet 10', 'check', 'fold', 'raise 38', 'check', 'call', 'raise 81', 'fold', 'raise 57', 'check', 'fold', 'check', 'raise 7', 'call', 'fold', 'bet 29', 'raise 70', 'check', 'call', 'call', 'check', 'call', 'fold', 'check', 'call', 'call', 'call', 'fold', 'call', 'fold', 'call', 'call', 'check', 'call', 'fold', 'fold', 'call', 'call', 'call', 'raise 92', 'call', 'fold', 'fold', 'call', 'fold', 'check', 'fold', 'fold', 'fold', 'fold', 'fold', 'fold', 'fold', 'check', 'check', 'fold', 'raise 27', 'check', 'check', 'raise 91', 'fold', 'call', 'call', 'fold', 'check', 'bet 6', 'call', 'fold', 'check', 'fold', 'call', 'check', 'fold', 'check', 'check', 'fold', 'raise 17', 'bet 23', 'raise 13', 'fold', 'check', 'check', 'fold', 'fold', 'check', 'raise 77', 'fold', 'fold', 'fold', 'check', 'bet 17', 'call', 'fold', 'check', 'call', 'fold', 'check', 'fold', 'raise 88', 'call', 'fold', 'call', 'raise 64', 'raise 90', 'raise 84', 'call', 'raise 16', 'bet 17', 'call', 'bet 13', 'call', 'raise 16', 'fold', 'fold', 'check', 'bet 18', 'fold', 'fold', 'check', 'check', 'call', 'bet 10', 'call', 'fold', 'fold', 'bet 29', 'check', 'fold', 'check', 'fold', 'check', 'raise 80', 'call', 'check', 'fold', 'call', 'fold', 'fold', 'fold', 'bet 28', 'bet 3', 'call', 'fold', 'raise 84', 'raise 86', 'fold', 'fold', 'raise 16', 'check', 'call', 'check', 'check', 'check', 'call', 'raise 70', 'call', 'raise 94', 'bet 35', 'raise 31', 'call', 'call', 'check', 'check', 'fold', 'call', 'fold', 'check', 'call', 'check', 'call', 'check', 'call', 'fold', 'fold', 'check', 'fold', 'call', 'fold', 'check', 'check', 'call', 'fold', 'check', 'check', 'raise 25', 'call', 'fold', 'call', 'call', 'raise 89', 'check', 'fold', 'raise 58', 'bet 10', 'bet 8', 'raise 58', 'fold', 'check', 'call', 'fold', 'call', 'call', 'fold', 'bet 29', 'fold', 'call', 'raise 89', 'call', 'fold', 'call', 'raise 80', 'check', 'bet 24', 'call', 'raise 77', 'fold', 'check', 'check', 'check', 'check', 'bet 2', 'raise 38', 'check', 'check', 'fold', 'fold', 'check', 'check', 'raise 92', 'call', 'fold', 'fold', 'fold', 'fold', 'check', 'fold', 'check', 'fold', 'raise 86', 'check', 'call', 'check', 'call', 'fold', 'bet 29', 'fold', 'fold', 'check', 'raise 37', 'fold', 'raise 10', 'call', 'raise 64', 'call', 'call', 'fold', 'call', 'call', 'check', 'bet 11', 'fold', 'call', 'call', 'bet 4', 'call', 'check', 'fold', 'raise 78', 'bet 11', 'fold', 'raise 87', 'check', 'bet 28', 'raise 10', 'raise 88', 'bet 20', 'bet 23', 'call', 'raise 87', 'bet 29', 'call', 'check', 'raise 29', 'call', 'check', 'call', 'fold', 'call', 'raise 81', 'bet 4', 'raise 27', 'fold', 'call', 'check', 'check', 'check', 'bet 10', 'raise 81', 'raise 44', 'check', 'fold', 'call', 'fold', 'bet 29', 'check', 'bet 17', 'check', 'raise 27', 'raise 92', 'call', 'check', 'fold', 'call', 'call', 'call', 'check', 'bet 27', 'call', 'call', 'fold', 'fold', 'call', 'fold', 'bet 32', 'check', 'raise 84', 'bet 3', 'check', 'check', 'call', 'fold', 'call', 'raise 74', 'call', 'call', 'raise 18', 'check', 'check', 'raise 81', 'fold', 'bet 12', 'fold', 'fold', 'check', 'fold', 'bet 24', 'fold', 'bet 16', 'check', 'check', 'call', 'check', 'check', 'raise 89', 'check', 'check', 'raise 13', 'call', 'check', 'check', 'fold', 'call', 'fold', 'check', 'call', 'check', 'fold', 'call', 'call', 'bet 10', 'check', 'check', 'fold', 'check', 'raise 86', 'check', 'check', 'raise 89', 'call', 'raise 11', 'check', 'check', 'fold', 'call', 'check', 'check', 'check', 'fold', 'fold', 'check', 'bet 23', 'raise 74', 'raise 35', 'fold', 'fold', 'check', 'check', 'fold', 'call', 'raise 92', 'fold', 'call', 'bet 3', 'check', 'check', 'bet 3', 'raise 89', 'fold', 'bet 16', 'bet 7', 'check', 'call', 'call', 'raise 16', 'fold', 'check', 'check', 'check', 'check', 'fold', 'call', 'raise 41', 'fold', 'call', 'fold', 'fold', 'check', 'check', 'check', 'fold', 'call', 'fold', 'check', 'check', 'fold', 'raise 88', 'check', 'raise 83', 'fold', 'check', 'bet 27', 'call', 'call', 'raise 95', 'call', 'call', 'bet 29', 'raise 88', 'call', 'check', 'check', 'bet 3', 'call', 'check', 'fold', 'fold', 'call', 'call', 'fold', 'fold', 'call', 'check', 'fold', 'call', 'check', 'call', 'call', 'raise 25', 'raise 29', 'call', 'raise 58', 'raise 37', 'raise 37', 'raise 93', 'call', 'raise 58', 'call', 'fold', 'check', 'raise 41', 'fold', 'check', 'call', 'bet 17', 'fold', 'check', 'raise 74', 'fold', 'check', 'call', 'call', 'raise 88', 'fold', 'check', 'fold', 'fold', 'bet 13', 'bet 34', 'call', 'call', 'fold', 'call', 'fold', 'call', 'bet 5', 'fold', 'call', 'call', 'call', 'call', 'fold', 'raise 88', 'fold', 'check', 'call', 'fold', 'check', 'check', 'fold', 'call', 'check', 'raise 25', 'call', 'call', 'call', 'raise 88', 'call', 'check', 'call', 'fold', 'bet 4', 'fold', 'raise 90', 'raise 90', 'check', 'call', 'bet 29', 'call', 'fold', 'call', 'check', 'raise 88', 'call', 'fold', 'bet 24', 'fold', 'check', 'call', 'fold', 'raise 41', 'check', 'bet 23', 'bet 29', 'bet 18', 'bet 18', 'check', 'bet 18', 'check', 'fold', 'check', 'check', 'fold', 'fold', 'fold', 'raise 26', 'raise 83', 'call', 'fold', 'bet 2', 'bet 51', 'check', 'check', 'raise 46', 'call', 'raise 77', 'fold', 'check', 'call', 'raise 84', 'check', 'raise 89', 'fold', 'call', 'call', 'fold', 'check', 'raise 76', 'call', 'check', 'raise 16', 'check', 'fold', 'fold', 'call', 'raise 13', 'fold', 'raise 36', 'raise 7', 'raise 77', 'check', 'bet 23', 'call', 'fold', 'call', 'call', 'raise 16', 'fold', 'fold', 'fold', 'call', 'call', 'call', 'fold', 'fold', 'fold', 'call', 'bet 32', 'call', 'check', 'raise 88', 'call', 'fold', 'raise 80', 'call', 'raise 72', 'raise 89', 'bet 4', 'call', 'call', 'fold', 'fold', 'check', 'check', 'call', 'call', 'raise 61', 'check', 'check', 'check', 'check', 'check', 'check', 'raise 16', 'call', 'fold', 'raise 83', 'fold', 'check', 'fold', 'call', 'fold', 'check', 'call', 'raise 81', 'fold', 'fold', 'fold', 'bet 22', 'check', 'check', 'fold', 'call', 'check', 'check', 'call', 'raise 29', 'check', 'check', 'raise 80', 'check', 'check', 'bet 34', 'call', 'raise 32', 'raise 17', 'call', 'check', 'fold', 'call', 'bet 29', 'raise 84', 'fold', 'raise 90', 'check', 'fold', 'call', 'check', 'fold', 'fold', 'raise 84', 'bet 23', 'call', 'check', 'raise 83', 'fold', 'check', 'bet 8', 'check', 'raise 81', 'check', 'check', 'fold', 'call', 'call', 'call', 'fold', 'check', 'bet 23', 'bet 34', 'call', 'fold', 'check', 'check', 'raise 83', 'check', 'check', 'fold', 'call', 'raise 83', 'bet 27', 'call', 'raise 84', 'fold', 'fold', 'check', 'fold', 'raise 32', 'call', 'check', 'fold', 'fold', 'fold', 'check', 'check', 'call', 'call', 'check', 'check', 'call', 'bet 2', 'check', 'fold', 'fold', 'raise 41', 'raise 38', 'raise 61', 'bet 8', 'check', 'raise 13', 'fold', 'fold', 'fold', 'raise 77', 'raise 38', 'fold', 'fold', 'call', 'raise 11', 'fold', 'check', 'bet 28', 'check', 'call', 'fold', 'call', 'raise 28', 'raise 22', 'bet 8', 'fold', 'call', 'fold', 'check', 'fold', 'check', 'check', 'call', 'fold', 'fold', 'raise 88', 'check', 'call', 'bet 8', 'fold', 'bet 18', 'call', 'fold', 'raise 33', 'raise 93', 'bet 10', 'raise 48', 'call', 'bet 18', 'fold', 'fold', 'call', 'fold', 'check', 'bet 4', 'fold', 'fold', 'raise 95', 'fold', 'fold', 'check', 'check', 'call', 'check', 'bet 11', 'check', 'check', 'call', 'call', 'call', 'check', 'fold', 'call', 'fold', 'bet 8', 'fold', 'fold', 'call', 'call', 'check', 'check', 'call', 'raise 41', 'call', 'fold', 'raise 22', 'check', 'fold', 'check', 'fold', 'check', 'fold', 'bet 29', 'bet 8', 'fold', 'fold', 'check', 'raise 28', 'raise 33', 'raise 41', 'raise 91', 'call', 'call', 'fold', 'call', 'fold', 'bet 16', 'check', 'fold', 'bet 7', 'call', 'bet 34', 'raise 10', 'fold', 'check', 'bet 40', 'check', 'call', 'bet 22', 'call', 'bet 29', 'check', 'fold', 'call', 'raise 10', 'bet 8', 'check', 'call', 'bet 29', 'raise 31', 'bet 13', 'fold', 'raise 92', 'call', 'call', 'call', 'call', 'check', 'call', 'call', 'call', 'fold', 'check', 'fold', 'call', 'check', 'call', 'fold', 'check', 'call', 'check', 'check', 'call', 'call', 'fold', 'raise 85', 'call', 'call', 'call', 'fold', 'bet 29', 'fold', 'call', 'raise 13', 'check', 'raise 23', 'fold', 'call', 'raise 88', 'call', 'fold', 'check', 'call', 'raise 95', 'raise 7', 'call', 'fold', 'check', 'raise 38', 'call', 'raise 93', 'fold', 'check', 'bet 5', 'raise 83', 'raise 91', 'fold', 'check', 'call', 'call', 'raise 21', 'call', 'check', 'check', 'raise 31', 'call', 'call', 'bet 3', 'check', 'raise 89', 'bet 11', 'call', 'fold', 'check', 'bet 10', 'fold', 'bet 29', 'bet 29', 'call', 'call', 'fold', 'check', 'fold', 'fold', 'check', 'check', 'check', 'call', 'call', 'check', 'fold', 'call', 'check', 'call', 'call', 'call', 'raise 46', 'raise 23', 'fold', 'call', 'raise 91', 'fold', 'raise 64', 'fold', 'call', 'call', 'call', 'bet 13', 'call', 'bet 22', 'call', 'call', 'call', 'call', 'fold', 'call', 'fold', 'raise 35', 'raise 73', 'fold', 'raise 41', 'fold', 'fold', 'bet 3', 'check', 'call', 'raise 32', 'check', 'check', 'bet 4', 'fold', 'fold', 'check', 'raise 88', 'check', 'raise 84', 'call', 'call', 'check', 'check', 'raise 13', 'fold', 'bet 17', 'call', 'check', 'fold', 'check', 'call', 'bet 10', 'raise 74', 'check', 'call', 'check', 'fold', 'raise 88', 'check', 'raise 92', 'check', 'fold', 'fold', 'fold', 'check', 'fold', 'call', 'check', 'fold', 'fold', 'call', 'raise 35', 'call', 'bet 29', 'raise 21', 'call', 'call', 'call', 'check', 'check', 'bet 38', 'check', 'bet 39', 'fold', 'check', 'raise 38', 'check', 'bet 13', 'bet 8', 'call', 'fold', 'call', 'raise 32', 'raise 83', 'check', 'fold', 'check', 'fold', 'fold', 'check', 'fold', 'raise 95', 'check', 'fold', 'raise 77', 'fold', 'raise 46', 'fold', 'fold', 'check', 'call', 'raise 92', 'check', 'check', 'check', 'raise 93', 'raise 54', 'bet 22', 'raise 83', 'call', 'fold', 'check', 'call', 'fold', 'bet 17', 'fold', 'call', 'call', 'check', 'call', 'call', 'fold', 'fold', 'check', 'call', 'call', 'call', 'bet 13', 'fold', 'check', 'raise 32', 'call', 'fold', 'raise 32', 'call', 'raise 89', 'fold', 'bet 28', 'check', 'bet 23', 'raise 18', 'fold', 'fold', 'check', 'call', 'raise 95', 'call', 'call', 'fold', 'fold', 'call', 'fold', 'check', 'fold', 'fold', 'fold', 'check', 'raise 33', 'call', 'raise 38', 'fold', 'call', 'fold', 'check', 'check', 'call', 'bet 13', 'raise 25', 'check', 'call', 'check', 'fold', 'fold', 'raise 89', 'call', 'bet 22', 'raise 83', 'fold', 'fold', 'call', 'raise 11', 'fold', 'fold', 'check', 'fold', 'fold', 'call', 'check', 'fold', 'raise 38', 'bet 29', 'call', 'check', 'call', 'raise 77', 'call', 'raise 91', 'check', 'call', 'fold', 'check', 'fold', 'call', 'fold', 'check', 'raise 3.0', 'call', 'check', 'fold', 'raise 12.0', 'fold', 'fold', 'call', 'raise 14.0', 'fold', 'raise 32.0', 'fold', 'raise 14.5', 'raise 21.0', 'call', 'raise 3.0', 'call', 'fold', 'check', 'check', 'call', 'raise 21.0', 'fold', 'check', 'check', 'check', 'check', 'check', 'raise 11.0', 'call', 'check', 'fold', 'call', 'check', 'raise 11.0', 'check', 'call', 'check', 'fold', 'call', 'fold', 'raise 3.0', 'raise 2.0', 'raise 3.0', 'call', 'fold', 'check', 'check', 'check', 'check', 'fold', 'fold', 'call', 'fold', 'fold', 'fold', 'fold', 'check', 'check', 'raise 19.0', 'raise 3.0', 'check', 'raise 26.0', 'fold', 'call', 'check', 'call', 'raise 13.0', 'fold', 'check', 'raise 6.5', 'call', 'call', 'fold', 'call', 'fold', 'fold', 'check', 'fold', 'call', 'fold', 'call', 'check', 'call', 'fold', 'fold', 'check', 'check', 'raise 6.5', 'call', 'check', 'fold', 'raise 20.0', 'fold', 'raise 3.0', 'call', 'call', 'call', 'raise 13.0', 'call', 'fold', 'check', 'raise 14.0', 'raise 2.3', 'check', 'raise 19.0', 'fold', 'raise 9.5', 'check', 'call', 'call', 'raise 21.0', 'raise 3.0', 'call', 'call', 'fold', 'call', 'check', 'fold', 'check', 'raise 20.0', 'check', 'call', 'call', 'call', 'fold', 'raise 19.0', 'raise 10.0', 'call', 'fold', 'fold', 'call', 'call', 'check', 'check', 'raise 2.0', 'fold', 'check', 'check', 'fold', 'raise 14.0', 'check', 'fold', 'raise 14.0', 'fold', 'raise 14.0', 'check', 'call', 'fold', 'fold', 'raise 20.0', 'call', 'fold', 'raise 21.0', 'call', 'fold', 'check', 'call', 'check', 'raise 35.0', 'raise 13.0', 'call', 'call', 'raise 2.3', 'check', 'raise 5.0', 'check', 'fold', 'check', 'call', 'call', 'raise 18.0', 'raise 3.0', 'raise 13.5', 'fold', 'check', 'fold', 'raise 9.5', 'fold', 'raise 24.1', 'raise 23.0', 'raise 11.0', 'call', 'fold', 'raise 2.5', 'fold', 'fold', 'fold', 'raise 3.0', 'check', 'fold', 'call', 'raise 7.5', 'raise 2.0', 'raise 17.5', 'call', 'raise 9.5', 'call', 'fold', 'call', 'raise 18.0', 'call', 'fold', 'call', 'fold', 'fold', 'check', 'raise 10.0', 'call', 'check', 'raise 2.5', 'check', 'fold', 'fold', 'check', 'raise 15.0', 'fold', 'check', 'call', 'fold', 'raise 29.2', 'fold', 'raise 22.0', 'check', 'check', 'check', 'check', 'call', 'fold', 'raise 13.5', 'fold', 'call', 'fold', 'fold', 'check', 'call', 'fold', 'raise 2.5', 'raise 12.5', 'fold', 'check', 'fold', 'raise 21.0', 'check', 'fold', 'check', 'check', 'check', 'check', 'check', 'call', 'fold', 'call', 'call', 'fold', 'check', 'check', 'raise 14.0', 'raise 14.0', 'check', 'raise 3.0', 'check', 'call', 'call', 'raise 3.0', 'call', 'fold', 'check', 'fold', 'raise 3.0', 'call', 'call', 'call', 'fold', 'call', 'call', 'check', 'check', 'raise 2.0', 'fold', 'call', 'raise 13.1', 'call', 'check', 'call', 'check', 'fold', 'fold', 'check', 'raise 11.0', 'call', 'fold', 'call', 'check', 'check', 'fold', 'check', 'call', 'call', 'check', 'fold', 'raise 12.0', 'fold', 'call', 'fold', 'fold', 'call', 'raise 10.0', 'call', 'check', 'check', 'call', 'raise 2.0', 'raise 26.0', 'check', 'fold', 'call', 'check', 'call', 'raise 3.0', 'raise 21.0', 'fold', 'call', 'check', 'fold', 'check', 'call', 'raise 11.0', 'fold', 'check', 'fold', 'call', 'raise 2.5', 'fold', 'call', 'call', 'raise 11.5', 'fold', 'check', 'call', 'raise 11.0', 'fold', 'check', 'fold', 'raise 26.0', 'fold', 'check', 'raise 11.0', 'raise 2.0', 'fold', 'check', 'check', 'call', 'fold', 'call', 'fold', 'fold', 'raise 12.0', 'check', 'check', 'raise 28.0', 'call', 'raise 11.0', 'fold', 'raise 14.0', 'fold', 'call', 'fold', 'fold', 'raise 3.0', 'check', 'fold', 'raise 14.0', 'fold', 'call', 'call', 'fold', 'raise 14.0', 'fold', 'raise 10.0', 'check', 'raise 3.0', 'call', 'raise 3.0', 'raise 2.5', 'fold', 'call', 'fold', 'call', 'fold', 'fold', 'check', 'check', 'call', 'raise 15.0', 'check', 'check', 'check', 'call', 'fold', 'check', 'fold', 'check', 'raise 2.5', 'fold', 'raise 7.5', 'raise 5.0', 'raise 35.0', 'check', 'fold', 'raise 3.0', 'check', 'check', 'raise 6.5', 'call', 'check', 'raise 13.1', 'check', 'raise 10.0', 'call', 'call', 'raise 25.0', 'call', 'raise 12.0', 'fold', 'raise 3.0', 'fold', 'fold', 'call', 'check', 'raise 15.0', 'raise 2.5', 'fold', 'check', 'check', 'call', 'fold', 'raise 3.0', 'check', 'fold', 'check', 'call', 'raise 13.0', 'fold', 'raise 3.0', 'fold', 'fold', 'call', 'check', 'fold', 'fold', 'check', 'check', 'raise 19.0', 'call', 'raise 11.0', 'call', 'fold', 'fold', 'fold', 'fold', 'fold', 'check', 'check', 'raise 9.5', 'fold', 'raise 19.0', 'call', 'fold', 'fold', 'fold', 'check', 'call', 'check', 'fold', 'check', 'raise 11.0', 'raise 14.0', 'call', 'fold', 'raise 15.0', 'raise 9.5', 'fold', 'fold', 'call', 'check', 'call', 'fold', 'raise 14.5', 'check', 'raise 22.9', 'call', 'fold', 'raise 2.3', 'call', 'raise 9.5', 'check', 'call', 'call', 'call', 'check', 'check', 'check', 'check', 'raise 12.5', 'check', 'fold', 'call', 'raise 25.0', 'fold', 'check', 'check', 'call', 'call', 'call', 'raise 3.0', 'raise 11.0', 'fold', 'check', 'raise 11.0', 'check', 'call', 'check', 'call', 'check', 'check', 'call', 'raise 31.0', 'call', 'call', 'raise 3.0', 'check', 'fold', 'fold', 'call', 'check', 'check', 'check', 'check', 'call', 'raise 11.5', 'raise 11.5', 'call', 'fold', 'raise 14.0', 'call', 'raise 14.5', 'call', 'check', 'call', 'fold', 'check', 'call', 'raise 15.0', 'fold', 'check', 'fold', 'check', 'fold', 'fold', 'fold', 'check', 'raise 2.0', 'raise 2.0', 'raise 11.5', 'raise 26.0', 'check', 'check', 'raise 2.3', 'raise 12.3', 'raise 2.3', 'raise 7.5', 'raise 2.0', 'raise 11.0', 'check', 'call', 'fold', 'fold', 'fold', 'call', 'check', 'fold', 'check', 'raise 12.0', 'fold', 'raise 12.5', 'fold', 'raise 3.0', 'check', 'check', 'check', 'fold', 'check', 'check', 'fold', 'raise 20.0', 'raise 2.0', 'fold', 'raise 22.0', 'call', 'call', 'fold', 'raise 28.0', 'call', 'raise 2.0', 'fold', 'fold', 'check', 'check', 'raise 2.3', 'call', 'fold', 'check', 'raise 14.0', 'call', 'call', 'raise 20.0', 'fold', 'check', 'call', 'fold', 'raise 23.0', 'call', 'call', 'call', 'fold', 'check', 'check', 'fold', 'call', 'call', 'fold', 'fold', 'raise 23.0', 'check', 'call', 'raise 10.0', 'fold', 'fold', 'call', 'check', 'fold', 'raise 2.5', 'check', 'raise 19.0', 'raise 11.0', 'raise 5.0', 'call', 'raise 13.0', 'call', 'call', 'fold', 'fold', 'fold', 'call', 'check', 'check', 'call', 'check', 'raise 14.0', 'raise 15.0', 'fold', 'check', 'fold', 'call', 'check', 'check', 'call', 'raise 2.3', 'check', 'call', 'raise 22.0', 'call', 'call', 'check', 'call', 'call', 'call', 'check', 'call', 'raise 16.0', 'raise 29.6', 'check', 'raise 12.5', 'call', 'fold', 'fold', 'raise 2.0', 'check', 'call', 'call', 'fold', 'raise 3.0', 'call', 'raise 14.0', 'call', 'fold', 'call', 'check', 'fold', 'raise 15.0', 'fold', 'fold', 'call', 'fold', 'check', 'fold', 'check', 'call', 'call', 'fold', 'call', 'raise 2.0', 'check', 'check', 'call', 'check', 'call', 'raise 20.0', 'fold', 'fold', 'raise 23.0', 'raise 13.0', 'call', 'call', 'fold', 'fold', 'call', 'fold', 'fold', 'call', 'raise 21.0', 'check', 'raise 6.5', 'call', 'check', 'check', 'check', 'raise 11.0', 'call', 'check', 'raise 2.5', 'fold', 'check', 'fold', 'call', 'call', 'raise 23.0', 'fold', 'check', 'check', 'call', 'call', 'check', 'check', 'call', 'fold', 'fold', 'fold', 'call', 'check', 'raise 11.0', 'call', 'check', 'fold', 'raise 2.3', 'raise 2.5', 'raise 18.0', 'call', 'call', 'fold', 'call', 'fold', 'raise 27.0', 'call', 'check', 'fold', 'fold', 'check', 'call', 'check', 'raise 3.0', 'call', 'fold', 'call', 'fold', 'call', 'check', 'fold', 'call', 'raise 20.0', 'check', 'check', 'check', 'check', 'call', 'raise 14.0', 'raise 10.0', 'call', 'call', 'check', 'check', 'raise 11.0', 'call', 'fold', 'raise 2.3', 'check', 'check', 'fold', 'raise 6.5', 'check', 'raise 2.5', 'check', 'fold', 'call', 'raise 14.0', 'call', 'check', 'call', 'check', 'fold', 'call', 'raise 19.0', 'fold', 'check', 'check', 'raise 3.0', 'raise 28.0', 'raise 2.0', 'raise 6.5', 'raise 12.5', 'raise 2.5', 'raise 34.4', 'call', 'check', 'call', 'call', 'call', 'raise 21.0', 'fold', 'raise 15.0', 'check', 'raise 2.3', 'call', 'fold', 'call', 'raise 15.0', 'check', 'check', 'fold', 'fold', 'raise 27.0', 'fold', 'call', 'raise 23.0', 'raise 14.0', 'raise 3.0', 'call', 'raise 15.0', 'fold', 'call', 'check', 'raise 11.5', 'call', 'call', 'raise 9.5', 'fold', 'check', 'fold', 'raise 3.0', 'raise 19.0', 'check', 'fold', 'call', 'raise 15.0', 'fold', 'call', 'raise 2.3', 'call', 'check', 'call', 'check', 'call', 'fold', 'check', 'check', 'fold', 'call', 'raise 7.5', 'raise 12.5', 'fold', 'check', 'call', 'raise 18.0', 'call', 'call', 'fold', 'check', 'raise 29.2', 'check', 'call', 'check', 'check', 'fold', 'check', 'raise 2.5', 'raise 3.0', 'call', 'raise 10.0', 'raise 14.0', 'call', 'fold', 'fold', 'fold', 'call', 'fold', 'check', 'call', 'fold', 'raise 24.3', 'call', 'call', 'fold', 'raise 13.5', 'call', 'call', 'check', 'raise 27.0', 'call', 'check', 'raise 5.0', 'raise 18.0', 'fold', 'call', 'fold', 'check', 'raise 10.0', 'fold', 'check', 'call', 'call', 'check', 'fold', 'raise 2.5', 'raise 11.0', 'raise 17.5', 'check', 'raise 2.5', 'raise 5.0', 'call', 'raise 2.5', 'call', 'check', 'raise 11.0', 'fold', 'fold', 'check', 'raise 2.0', 'check', 'call', 'call', 'call', 'call', 'raise 27.0', 'raise 2.3', 'fold', 'fold', 'check', 'call', 'fold', 'check', 'call', 'fold', 'check', 'check', 'raise 14.0', 'raise 14.0', 'call', 'check', 'check', 'check', 'fold', 'call', 'fold', 'check', 'fold', 'call', 'fold', 'raise 13.0', 'fold', 'check', 'call', 'check', 'check', 'check', 'check', 'check']\n",
            "['bet 8', 'check', 'bet 26', 'bet 11', 'check', 'raise 11', 'call', 'check', 'raise 13', 'fold', 'call', 'check', 'check', 'check', 'check', 'call', 'fold', 'fold', 'check', 'fold', 'check', 'check', 'fold', 'fold', 'call', 'fold', 'check', 'check', 'check', 'fold', 'fold', 'fold', 'raise 16', 'check', 'fold', 'fold', 'raise 43', 'fold', 'raise 17', 'check', 'fold', 'fold', 'call', 'call', 'check', 'check', 'check', 'fold', 'call', 'check', 'bet 24', 'check', 'raise 88', 'fold', 'call', 'fold', 'bet 23', 'bet 4', 'fold', 'fold', 'raise 34', 'raise 10', 'call', 'fold', 'call', 'call', 'fold', 'fold', 'call', 'fold', 'fold', 'call', 'fold', 'call', 'fold', 'fold', 'fold', 'fold', 'check', 'fold', 'raise 13', 'call', 'fold', 'check', 'call', 'fold', 'check', 'bet 10', 'call', 'bet 17', 'fold', 'check', 'check', 'bet 13', 'call', 'fold', 'fold', 'fold', 'check', 'check', 'fold', 'raise 74', 'call', 'call', 'call', 'check', 'fold', 'fold', 'call', 'call', 'check', 'fold', 'check', 'call', 'call', 'check', 'check', 'fold', 'call', 'check', 'bet 32', 'call', 'check', 'call', 'fold', 'bet 2', 'fold', 'bet 15', 'check', 'call', 'call', 'call', 'fold', 'check', 'check', 'call', 'check', 'fold', 'raise 88', 'raise 93', 'check', 'fold', 'fold', 'check', 'call', 'raise 90', 'fold', 'raise 18', 'check', 'raise 18', 'raise 54', 'raise 80', 'fold', 'fold', 'call', 'check', 'call', 'raise 48', 'raise 91', 'check', 'call', 'call', 'fold', 'check', 'call', 'raise 29', 'check', 'bet 32', 'fold', 'check', 'call', 'raise 12', 'fold', 'check', 'call', 'check', 'raise 51', 'fold', 'bet 11', 'call', 'call', 'check', 'check', 'call', 'check', 'check', 'check', 'check', 'fold', 'fold', 'check', 'check', 'call', 'fold', 'fold', 'fold', 'check', 'check', 'call', 'call', 'check', 'check', 'check', 'call', 'check', 'fold', 'call', 'call', 'fold', 'fold', 'fold', 'call', 'fold', 'fold', 'fold', 'fold', 'check', 'check', 'call', 'fold', 'call', 'check', 'call', 'check', 'check', 'call', 'call', 'fold', 'check', 'bet 35', 'fold', 'fold', 'check', 'fold', 'fold', 'check', 'call', 'fold', 'call', 'raise 10', 'call', 'fold', 'fold', 'fold', 'raise 81', 'fold', 'call', 'raise 44', 'bet 32', 'fold', 'raise 28', 'check', 'call', 'call', 'check', 'fold', 'call', 'check', 'check', 'bet 18', 'bet 11', 'fold', 'raise 155', 'call', 'fold', 'bet 35', 'check', 'call', 'call', 'raise 81', 'call', 'call', 'check', 'call', 'fold', 'check', 'check', 'call', 'raise 25', 'check', 'fold', 'check', 'call', 'check', 'call', 'raise 62', 'bet 23', 'fold', 'fold', 'call', 'check', 'check', 'raise 80', 'raise 88', 'call', 'raise 40', 'fold', 'check', 'fold', 'call', 'call', 'check', 'fold', 'raise 37', 'fold', 'fold', 'call', 'fold', 'fold', 'fold', 'check', 'fold', 'fold', 'check', 'bet 13', 'call', 'check', 'raise 32', 'check', 'fold', 'check', 'raise 51', 'call', 'fold', 'call', 'check', 'call', 'bet 25', 'fold', 'fold', 'fold', 'call', 'call', 'call', 'fold', 'call', 'check', 'call', 'check', 'call', 'fold', 'fold', 'fold', 'check', 'call', 'check', 'check', 'check', 'check', 'call', 'fold', 'raise 31', 'fold', 'bet 11', 'call', 'call', 'check', 'raise 82', 'check', 'raise 17', 'call', 'check', 'fold', 'check', 'check', 'call', 'check', 'raise 89', 'check', 'fold', 'call', 'check', 'fold', 'call', 'fold', 'fold', 'call', 'call', 'fold', 'bet 4', 'raise 91', 'call', 'fold', 'fold', 'fold', 'call', 'raise 39', 'call', 'check', 'fold', 'check', 'check', 'check', 'fold', 'call', 'raise 39', 'fold', 'check', 'bet 13', 'fold', 'check', 'fold', 'call', 'fold', 'check', 'raise 80', 'bet 29', 'call', 'raise 91', 'check', 'call', 'call', 'fold', 'fold', 'call', 'raise 83', 'check', 'fold', 'fold', 'call', 'call', 'fold', 'raise 83', 'call', 'check', 'call', 'call', 'check', 'fold', 'check', 'fold', 'fold', 'fold', 'call', 'call', 'call', 'fold', 'call', 'fold', 'check', 'raise 76', 'raise 56', 'check', 'raise 31', 'raise 88', 'check', 'fold', 'check', 'fold', 'fold', 'call', 'fold', 'call', 'fold', 'fold', 'check', 'fold', 'fold', 'call', 'check', 'fold', 'fold', 'call', 'call', 'check', 'check', 'raise 91', 'call', 'check', 'fold', 'fold', 'fold', 'bet 19', 'call', 'call', 'call', 'fold', 'call', 'call', 'call', 'fold', 'check', 'call', 'call', 'check', 'check', 'bet 8', 'call', 'call', 'check', 'call', 'check', 'fold', 'check', 'call', 'raise 16', 'check', 'call', 'raise 16', 'check', 'check', 'check', 'call', 'fold', 'call', 'call', 'check', 'call', 'bet 27', 'bet 26', 'check', 'fold', 'check', 'check', 'call', 'bet 38', 'fold', 'call', 'raise 68', 'check', 'raise 78', 'check', 'fold', 'raise 80', 'check', 'fold', 'call', 'raise 16', 'fold', 'raise 10', 'check', 'check', 'bet 11', 'call', 'fold', 'call', 'call', 'fold', 'check', 'fold', 'check', 'call', 'check', 'fold', 'fold', 'check', 'fold', 'check', 'check', 'call', 'fold', 'check', 'fold', 'check', 'fold', 'check', 'fold', 'check', 'check', 'check', 'check', 'call', 'raise 14', 'check', 'fold', 'fold', 'fold', 'fold', 'raise 81', 'raise 79', 'call', 'call', 'fold', 'check', 'check', 'call', 'fold', 'raise 79', 'call', 'fold', 'fold', 'call', 'fold', 'fold', 'call', 'check', 'call', 'check', 'bet 23', 'fold', 'raise 16', 'call', 'call', 'check', 'call', 'fold', 'check', 'raise 89', 'check', 'fold', 'call', 'check', 'call', 'check', 'call', 'raise 25', 'check', 'check', 'call', 'fold', 'check', 'call', 'check', 'call', 'fold', 'call', 'fold', 'raise 79', 'raise 92', 'call', 'call', 'raise 31', 'fold', 'call', 'fold', 'call', 'check', 'check', 'check', 'check', 'check', 'check', 'raise 73', 'call', 'fold', 'check', 'check', 'check', 'call', 'bet 10', 'call', 'fold', 'bet 14', 'fold', 'check', 'call', 'fold', 'fold', 'fold', 'raise 24', 'fold', 'call', 'bet 17', 'fold', 'fold', 'check', 'fold', 'call', 'fold', 'check', 'bet 44', 'fold', 'bet 19', 'check', 'check', 'check', 'check', 'check', 'check', 'check', 'check', 'check', 'check', 'call', 'check', 'bet 2', 'check', 'call', 'fold', 'call', 'check', 'fold', 'raise 69', 'call', 'fold', 'call', 'fold', 'raise 65', 'fold', 'call', 'check', 'fold', 'call', 'fold', 'call', 'check', 'check', 'check', 'raise 30', 'check', 'call', 'check', 'fold', 'fold', 'raise 67', 'fold', 'fold', 'check', 'call', 'call', 'call', 'fold', 'check', 'check', 'call', 'fold', 'check', 'call', 'fold', 'fold', 'fold', 'call', 'bet 30', 'fold', 'raise 32', 'check', 'check', 'fold', 'fold', 'call', 'raise 31', 'call', 'fold', 'fold', 'fold', 'check', 'fold', 'check', 'check', 'call', 'check', 'check', 'check', 'call', 'check', 'fold', 'bet 21', 'call', 'raise 12', 'fold', 'call', 'raise 28', 'call', 'call', 'check', 'call', 'raise 18', 'fold', 'check', 'check', 'fold', 'call', 'check', 'bet 19', 'call', 'check', 'check', 'fold', 'raise 21', 'check', 'bet 8', 'call', 'fold', 'call', 'raise 10', 'check', 'fold', 'raise 12', 'raise 55', 'fold', 'call', 'check', 'check', 'raise 19', 'call', 'call', 'check', 'call', 'call', 'bet 5', 'check', 'check', 'call', 'call', 'call', 'fold', 'call', 'bet 7', 'check', 'call', 'raise 39', 'call', 'check', 'call', 'fold', 'check', 'fold', 'fold', 'fold', 'raise 13', 'call', 'fold', 'fold', 'check', 'check', 'check', 'check', 'fold', 'call', 'fold', 'check', 'fold', 'raise 11', 'fold', 'fold', 'check', 'check', 'check', 'call', 'fold', 'call', 'fold', 'check', 'check', 'call', 'bet 13', 'check', 'call', 'call', 'fold', 'fold', 'fold', 'check', 'bet 11', 'check', 'check', 'fold', 'check', 'fold', 'fold', 'call', 'call', 'call', 'check', 'bet 8', 'fold', 'raise 164', 'fold', 'call', 'raise 84', 'bet 3', 'fold', 'check', 'check', 'call', 'call', 'check', 'call', 'raise 69', 'fold', 'call', 'check', 'bet 4', 'check', 'raise 81', 'raise 44', 'check', 'check', 'check', 'raise 38', 'call', 'fold', 'call', 'fold', 'call', 'call', 'check', 'call', 'raise 78', 'raise 24', 'fold', 'check', 'fold', 'check', 'fold', 'fold', 'check', 'fold', 'fold', 'fold', 'call', 'check', 'call', 'fold', 'call', 'call', 'fold', 'fold', 'call', 'call', 'raise 73', 'check', 'check', 'call', 'raise 18', 'call', 'check', 'fold', 'fold', 'fold', 'check', 'call', 'call', 'call', 'check', 'bet 21', 'call', 'check', 'check', 'check', 'call', 'call', 'fold', 'call', 'bet 4', 'raise 46', 'call', 'fold', 'fold', 'check', 'fold', 'fold', 'call', 'check', 'check', 'fold', 'bet 26', 'fold', 'call', 'call', 'check', 'fold', 'check', 'fold', 'raise 81', 'fold', 'fold', 'fold', 'fold', 'fold', 'fold', 'call', 'check', 'fold', 'call', 'check', 'check', 'fold', 'fold', 'call', 'call', 'check', 'fold', 'call', 'fold', 'call', 'fold', 'fold', 'check', 'call', 'call', 'bet 27', 'check', 'fold', 'call', 'fold', 'call', 'fold', 'check', 'raise 12', 'check', 'check', 'check', 'check', 'check', 'fold', 'fold', 'call', 'fold', 'check', 'call', 'check', 'call', 'call', 'fold', 'call', 'fold', 'call', 'fold', 'fold', 'call', 'fold', 'fold', 'call', 'call', 'check', 'check', 'raise 33', 'check', 'check', 'check', 'fold', 'bet 12', 'call', 'check', 'raise 16', 'bet 18', 'fold', 'fold', 'check', 'fold', 'call', 'check', 'check', 'call', 'fold', 'fold', 'fold', 'bet 11', 'fold', 'fold', 'bet 20', 'fold', 'call', 'check', 'check', 'call', 'call', 'check', 'check', 'check', 'check', 'fold', 'call', 'call', 'check', 'fold', 'fold', 'call', 'check', 'fold', 'check', 'check', 'check', 'fold', 'bet 25', 'call', 'fold', 'call', 'check', 'fold', 'fold', 'fold', 'fold', 'call', 'fold', 'check', 'call', 'bet 4', 'check', 'check', 'fold', 'call', 'call', 'check', 'call', 'check', 'fold', 'fold', 'check', 'check', 'call', 'check', 'call', 'fold', 'fold', 'check', 'check', 'call', 'fold', 'fold', 'fold', 'call', 'fold', 'call', 'fold', 'check', 'call', 'check', 'check', 'check', 'raise 85', 'fold', 'fold', 'fold', 'fold', 'bet 27', 'call', 'check', 'check', 'fold', 'bet 2', 'call', 'call', 'check', 'call', 'fold', 'fold', 'check', 'check', 'fold', 'call', 'fold', 'check', 'check', 'check', 'check', 'fold', 'check', 'fold', 'check', 'check', 'call', 'check', 'fold', 'raise 54', 'raise 18', 'check', 'fold', 'call', 'call', 'check', 'check', 'call', 'fold', 'raise 77', 'fold', 'call', 'fold', 'check', 'fold', 'bet 4', 'fold', 'fold', 'check', 'call', 'call', 'call', 'bet 11', 'raise 85', 'fold', 'check', 'check', 'check', 'check', 'check', 'check', 'fold', 'fold', 'call', 'check', 'fold', 'call', 'fold', 'fold', 'fold', 'call', 'fold', 'check', 'check', 'fold', 'fold', 'fold', 'call', 'fold', 'fold', 'fold', 'call', 'fold', 'fold', 'check', 'check', 'fold', 'check', 'fold', 'fold', 'call', 'raise 29', 'check', 'check', 'fold', 'fold', 'check', 'check', 'bet 25', 'call', 'fold', 'call', 'check', 'check', 'fold', 'fold', 'call', 'fold', 'fold', 'fold', 'bet 12', 'check', 'fold', 'check', 'fold', 'raise 74', 'bet 7', 'call', 'fold', 'check', 'bet 19', 'fold', 'fold', 'check', 'call', 'raise 63', 'fold', 'call', 'call', 'call', 'check', 'raise 11', 'raise 29', 'call', 'fold', 'call', 'fold', 'check', 'fold', 'call', 'raise 88', 'check', 'check', 'call', 'call', 'bet 28', 'fold', 'call', 'fold', 'fold', 'call', 'call', 'call', 'raise 85', 'check', 'fold', 'call', 'call', 'check', 'check', 'raise 8', 'fold', 'call', 'check', 'check', 'check', 'fold', 'fold', 'raise 27', 'call', 'call', 'fold', 'check', 'raise 76', 'fold', 'check', 'raise 81', 'call', 'raise 51', 'call', 'fold', 'fold', 'call', 'check', 'fold', 'fold', 'call', 'fold', 'call', 'call', 'fold', 'call', 'fold', 'check', 'fold', 'call', 'check', 'fold', 'call', 'bet 4', 'check', 'fold', 'check', 'check', 'raise 83', 'fold', 'raise 39', 'call', 'call', 'fold', 'check', 'call', 'check', 'bet 5', 'call', 'call', 'fold', 'call', 'call', 'call', 'raise 27', 'check', 'fold', 'raise 82', 'fold', 'check', 'call', 'call', 'fold', 'fold', 'check', 'fold', 'bet 11', 'check', 'fold', 'call', 'bet 18', 'fold', 'bet 13', 'fold', 'check', 'check', 'check', 'fold', 'check', 'call', 'call', 'check', 'check', 'fold', 'fold', 'check', 'bet 11', 'check', 'call', 'fold', 'call', 'fold', 'check', 'call', 'fold', 'fold', 'fold', 'call', 'check', 'check', 'check', 'fold', 'fold', 'raise 18', 'fold', 'call', 'check', 'call', 'fold', 'fold', 'bet 27', 'call', 'fold', 'fold', 'fold', 'check', 'fold', 'fold', 'call', 'fold', 'call', 'call', 'raise 30', 'fold', 'call', 'check', 'check', 'fold', 'check', 'call', 'check', 'fold', 'fold', 'fold', 'fold', 'bet 2', 'raise 36', 'fold', 'call', 'check', 'check', 'call', 'call', 'raise 19', 'check', 'check', 'fold', 'fold', 'check', 'check', 'call', 'call', 'raise 81', 'fold', 'fold', 'call', 'fold', 'fold', 'raise 110', 'check', 'bet 39', 'fold', 'raise 30', 'check', 'fold', 'call', 'fold', 'check', 'check', 'call', 'call', 'call', 'check', 'call', 'check', 'check', 'fold', 'fold', 'raise 19', 'fold', 'fold', 'fold', 'call', 'call', 'call', 'fold', 'call', 'check', 'fold', 'check', 'call', 'check', 'check', 'bet 28', 'fold', 'fold', 'call', 'check', 'fold', 'fold', 'fold', 'call', 'check', 'call', 'bet 2', 'check', 'fold', 'check', 'fold', 'check', 'call', 'fold', 'call', 'check', 'check', 'call', 'fold', 'fold', 'check', 'call', 'fold', 'check', 'check', 'fold', 'bet 32', 'fold', 'check', 'call', 'call', 'raise 74', 'check', 'fold', 'call', 'check', 'check', 'call', 'call', 'call', 'call', 'check', 'fold', 'fold', 'bet 5', 'check', 'fold', 'check', 'fold', 'check', 'fold', 'call', 'bet 23', 'check', 'check', 'fold', 'fold', 'fold', 'fold', 'check', 'check', 'check', 'check', 'fold', 'bet 10', 'fold', 'call', 'fold', 'fold', 'call', 'fold', 'fold', 'check', 'fold', 'check', 'call', 'fold', 'fold', 'fold', 'bet 3', 'fold', 'fold', 'fold', 'bet 14', 'fold', 'check', 'fold', 'fold', 'call', 'raise 78', 'raise 27', 'raise 82', 'check', 'fold', 'call', 'check', 'check', 'fold', 'fold', 'fold', 'check', 'fold', 'call', 'call', 'raise 85', 'call', 'check', 'fold', 'fold', 'check', 'call', 'bet 4', 'call', 'check', 'call', 'call', 'check', 'fold', 'call', 'call', 'call', 'fold', 'fold', 'fold', 'raise 27', 'check', 'fold', 'call', 'call', 'fold', 'fold', 'fold', 'fold', 'raise 85', 'check', 'bet 7', 'bet 15', 'fold', 'raise 17', 'check', 'fold', 'check', 'fold', 'fold', 'fold', 'check', 'fold', 'call', 'check', 'check', 'call', 'call', 'fold', 'call', 'fold', 'bet 31', 'call', 'check', 'raise 38', 'fold', 'fold', 'fold', 'call', 'fold', 'fold', 'call', 'call', 'fold', 'check', 'fold', 'fold', 'call', 'check', 'check', 'fold', 'call', 'call', 'call', 'check', 'call', 'call', 'raise 20', 'fold', 'call', 'fold', 'check', 'fold', 'check', 'check', 'fold', 'check', 'call', 'check', 'fold', 'check', 'call', 'bet 11', 'call', 'check', 'call', 'fold', 'call', 'call', 'check', 'call', 'raise 75', 'fold', 'call', 'fold', 'check', 'call', 'call', 'call', 'fold', 'fold', 'check', 'call', 'call', 'call', 'check', 'fold', 'check', 'check', 'call', 'raise 67', 'check', 'call', 'fold', 'check', 'fold', 'call', 'check', 'fold', 'check', 'fold', 'fold', 'fold', 'check', 'call', 'call', 'fold', 'check', 'fold', 'fold', 'call', 'raise 27', 'call', 'raise 28', 'call', 'call', 'call', 'check', 'raise 24', 'check', 'check', 'raise 88', 'fold', 'fold', 'check', 'call', 'check', 'raise 12', 'fold', 'fold', 'bet 21', 'bet 11', 'check', 'bet 10', 'call', 'fold', 'fold', 'fold', 'fold', 'fold', 'call', 'check', 'bet 11', 'call', 'check', 'fold', 'fold', 'check', 'raise 79', 'raise 79', 'bet 18', 'fold', 'check', 'raise 12', 'check', 'call', 'fold', 'check', 'check', 'check', 'bet 28', 'fold', 'check', 'call', 'check', 'fold', 'check', 'check', 'fold', 'check', 'check', 'fold', 'fold', 'raise 8', 'check', 'call', 'raise 16', 'call', 'check', 'check', 'bet 5', 'fold', 'fold', 'fold', 'fold', 'fold', 'fold', 'raise 30', 'check', 'bet 13', 'fold', 'fold', 'check', 'check', 'fold', 'fold', 'call', 'fold', 'call', 'bet 2', 'bet 2', 'fold', 'fold', 'check', 'bet 7', 'call', 'call', 'call', 'check', 'call', 'fold', 'bet 13', 'call', 'call', 'fold', 'call', 'call', 'check', 'call', 'call', 'check', 'check', 'check', 'fold', 'check', 'call', 'fold', 'call', 'fold', 'raise 33', 'fold', 'bet 5', 'check', 'check', 'raise 80', 'call', 'raise 26', 'bet 31', 'call', 'call', 'check', 'fold', 'bet 13', 'raise 57', 'fold', 'call', 'bet 28', 'check', 'call', 'raise 73', 'fold', 'call', 'bet 15', 'call', 'check', 'call', 'fold', 'fold', 'fold', 'call', 'bet 8', 'call', 'check', 'fold', 'fold', 'raise 31', 'call', 'call', 'raise 83', 'bet 28', 'check', 'fold', 'check', 'check', 'fold', 'fold', 'check', 'fold', 'check', 'check', 'call', 'check', 'bet 8', 'fold', 'call', 'fold', 'check', 'fold', 'call', 'fold', 'call', 'call', 'check', 'call', 'bet 13', 'fold', 'check', 'bet 5', 'call', 'fold', 'fold', 'call', 'raise 18', 'fold', 'raise 88', 'fold', 'check', 'check', 'fold', 'check', 'check', 'fold', 'check', 'fold', 'call', 'call', 'bet 3', 'call', 'fold', 'check', 'call', 'fold', 'fold', 'check', 'call', 'check', 'fold', 'call', 'check', 'call', 'raise 34', 'fold', 'check', 'check', 'check', 'check', 'fold', 'fold', 'fold', 'raise 91', 'fold', 'check', 'check', 'call', 'call', 'fold', 'fold', 'check', 'check', 'fold', 'check', 'call', 'bet 3', 'check', 'call', 'fold', 'fold', 'check', 'fold', 'call', 'bet 24', 'check', 'check', 'fold', 'fold', 'fold', 'call', 'call', 'bet 10', 'check', 'check', 'check', 'fold', 'bet 11', 'fold', 'check', 'check', 'call', 'fold', 'check', 'fold', 'fold', 'fold', 'call', 'call', 'check', 'check', 'fold', 'check', 'check', 'call', 'call', 'call', 'check', 'fold', 'fold', 'raise 92', 'fold', 'bet 11', 'check', 'fold', 'check', 'fold', 'call', 'fold', 'call', 'call', 'check', 'fold', 'call', 'bet 19', 'check', 'call', 'raise 29', 'call', 'check', 'fold', 'bet 19', 'bet 7', 'fold', 'check', 'check', 'check', 'fold', 'call', 'call', 'fold', 'call', 'call', 'check', 'check', 'call', 'check', 'check', 'call', 'check', 'check', 'fold', 'fold', 'call', 'check', 'check', 'check', 'fold', 'check', 'call', 'fold', 'fold', 'call', 'check', 'check', 'call', 'fold', 'call', 'fold', 'fold', 'bet 2', 'call', 'call', 'check', 'check', 'fold', 'bet 17', 'raise 18', 'fold', 'call', 'bet 16', 'check', 'check', 'call', 'fold', 'check', 'check', 'fold', 'raise 18', 'check', 'fold', 'call', 'fold', 'fold', 'call', 'raise 12', 'bet 12', 'check', 'check', 'fold', 'check', 'check', 'fold', 'raise 41', 'call', 'call', 'call', 'check', 'call', 'call', 'fold', 'check', 'fold', 'check', 'fold', 'raise 80', 'call', 'raise 38', 'call', 'check', 'call', 'fold', 'check', 'check', 'check', 'call', 'check', 'check', 'check', 'fold', 'check', 'check', 'fold', 'call', 'fold', 'call', 'call', 'call', 'raise 83', 'raise 73', 'check', 'fold', 'check', 'fold', 'check', 'raise 85', 'call', 'call', 'call', 'call', 'fold', 'fold', 'check', 'call', 'check', 'check', 'check', 'check', 'check', 'check', 'check', 'call', 'check', 'fold', 'raise 38', 'call', 'call', 'fold', 'check', 'fold', 'call', 'bet 13', 'check', 'fold', 'raise 58', 'fold', 'fold', 'call', 'fold', 'fold', 'fold', 'call', 'call', 'fold', 'raise 36', 'call', 'call', 'check', 'check', 'check', 'fold', 'fold', 'check', 'call', 'check', 'call', 'fold', 'check', 'fold', 'check', 'fold', 'call', 'check', 'call', 'check', 'fold', 'call', 'fold', 'fold', 'check', 'call', 'fold', 'fold', 'fold', 'check', 'call', 'fold', 'check', 'call', 'call', 'fold', 'check', 'check', 'check', 'fold', 'check', 'check', 'check', 'raise 10', 'call', 'call', 'call', 'call', 'raise 43', 'fold', 'check', 'fold', 'check', 'call', 'call', 'call', 'raise 43', 'bet 10', 'check', 'call', 'call', 'call', 'check', 'check', 'check', 'call', 'call', 'call', 'fold', 'check', 'call', 'check', 'check', 'fold', 'check', 'bet 5', 'raise 44', 'fold', 'check', 'fold', 'call', 'call', 'fold', 'bet 17', 'check', 'check', 'fold', 'fold', 'check', 'check', 'check', 'fold', 'check', 'check', 'fold', 'check', 'call', 'check', 'raise 8', 'check', 'check', 'check', 'fold', 'fold', 'call', 'call', 'fold', 'call', 'call', 'call', 'check', 'fold', 'fold', 'fold', 'check', 'call', 'check', 'fold', 'check', 'fold', 'raise 60', 'fold', 'check', 'call', 'fold', 'fold', 'fold', 'call', 'check', 'check', 'check', 'fold', 'fold', 'raise 17', 'call', 'call', 'check', 'call', 'raise 31', 'call', 'call', 'call', 'call', 'fold', 'check', 'bet 23', 'check', 'check', 'bet 13', 'check', 'call', 'call', 'check', 'fold', 'check', 'check', 'raise 39', 'bet 7', 'check', 'call', 'check', 'fold', 'raise 13', 'check', 'bet 13', 'check', 'check', 'bet 22', 'check', 'bet 11', 'check', 'raise 90', 'call', 'fold', 'fold', 'bet 12', 'bet 11', 'call', 'fold', 'raise 54', 'check', 'call', 'fold', 'call', 'check', 'fold', 'check', 'bet 10', 'raise 16', 'check', 'check', 'fold', 'check', 'call', 'fold', 'fold', 'check', 'call', 'call', 'fold', 'fold', 'check', 'check', 'raise 39', 'fold', 'check', 'call', 'call', 'check', 'call', 'check', 'fold', 'call', 'fold', 'call', 'fold', 'check', 'fold', 'check', 'fold', 'fold', 'call', 'fold', 'call', 'fold', 'check', 'call', 'check', 'call', 'bet 19', 'fold', 'check', 'check', 'check', 'call', 'call', 'check', 'call', 'check', 'fold', 'call', 'fold', 'check', 'call', 'check', 'call', 'call', 'call', 'fold', 'raise 55', 'call', 'check', 'raise 37', 'check', 'fold', 'raise 87', 'raise 34', 'fold', 'fold', 'call', 'call', 'check', 'check', 'fold', 'check', 'raise 88', 'fold', 'check', 'fold', 'fold', 'fold', 'raise 82', 'fold', 'check', 'bet 13', 'call', 'fold', 'check', 'fold', 'check', 'check', 'check', 'fold', 'check', 'check', 'fold', 'check', 'call', 'fold', 'fold', 'check', 'raise 23', 'check', 'raise 38', 'fold', 'check', 'fold', 'fold', 'raise 28', 'check', 'bet 32', 'check', 'fold', 'check', 'check', 'check', 'bet 37', 'call', 'check', 'fold', 'check', 'check', 'raise 69', 'call', 'call', 'check', 'bet 22', 'raise 13', 'call', 'raise 16', 'fold', 'raise 30', 'raise 15', 'check', 'fold', 'bet 26', 'fold', 'fold', 'fold', 'fold', 'call', 'check', 'check', 'check', 'call', 'check', 'check', 'call', 'call', 'fold', 'fold', 'check', 'fold', 'fold', 'check', 'bet 18', 'bet 4', 'raise 26', 'fold', 'fold', 'bet 5', 'raise 26', 'call', 'check', 'check', 'fold', 'fold', 'check', 'call', 'fold', 'check', 'call', 'raise 19', 'check', 'bet 7', 'fold', 'bet 49', 'check', 'call', 'check', 'fold', 'bet 11', 'call', 'fold', 'check', 'check', 'check', 'call', 'raise 71', 'check', 'check', 'call', 'bet 10', 'call', 'fold', 'fold', 'check', 'fold', 'fold', 'call', 'raise 16', 'check', 'call', 'call', 'check', 'fold', 'fold', 'fold', 'call', 'call', 'check', 'fold', 'raise 30', 'call', 'fold', 'check', 'check', 'check', 'bet 19', 'check', 'call', 'check', 'call', 'fold', 'raise 65', 'call', 'fold', 'call', 'check', 'check', 'call', 'raise 11', 'call', 'check', 'fold', 'fold', 'call', 'check', 'check', 'fold', 'check', 'check', 'check', 'check', 'call', 'fold', 'call', 'fold', 'call', 'check', 'bet 39', 'check', 'call', 'fold', 'fold', 'fold', 'fold', 'call', 'fold', 'bet 26', 'fold', 'call', 'raise 21', 'call', 'call', 'check', 'call', 'fold', 'call', 'check', 'check', 'fold', 'raise 51', 'call', 'check', 'bet 25', 'fold', 'call', 'call', 'fold', 'call', 'fold', 'fold', 'call', 'bet 8', 'bet 4', 'check', 'call', 'fold', 'check', 'bet 10', 'check', 'fold', 'call', 'bet 21', 'call', 'fold', 'call', 'fold', 'fold', 'call', 'fold', 'fold', 'call', 'fold', 'check', 'fold', 'fold', 'check', 'fold', 'check', 'fold', 'fold', 'check', 'check', 'call', 'call', 'call', 'check', 'call', 'raise 13', 'check', 'fold', 'fold', 'raise 16', 'raise 7', 'raise 63', 'check', 'raise 72', 'call', 'check', 'fold', 'raise 16', 'fold', 'fold', 'check', 'fold', 'fold', 'check', 'raise 43', 'check', 'call', 'fold', 'check', 'bet 26', 'call', 'bet 5', 'fold', 'fold', 'fold', 'raise 29', 'check', 'call', 'call', 'call', 'check', 'call', 'check', 'check', 'fold', 'check', 'bet 11', 'raise 82', 'call', 'call', 'fold', 'check', 'call', 'call', 'check', 'fold', 'call', 'check', 'call', 'fold', 'call', 'fold', 'fold', 'check', 'check', 'fold', 'raise 18', 'check', 'check', 'raise 17', 'fold', 'fold', 'call', 'check', 'check', 'raise 118', 'fold', 'fold', 'check', 'check', 'check', 'call', 'fold', 'check', 'check', 'check', 'call', 'check', 'raise 19', 'raise 89', 'call', 'fold', 'call', 'call', 'fold', 'check', 'fold', 'check', 'fold', 'check', 'check', 'raise 9', 'fold', 'call', 'call', 'check', 'call', 'fold', 'check', 'bet 27', 'fold', 'check', 'call', 'fold', 'call', 'call', 'check', 'bet 41', 'check', 'bet 31', 'bet 11', 'fold', 'call', 'fold', 'fold', 'raise 17', 'fold', 'check', 'raise 87', 'call', 'check', 'fold', 'raise 13', 'check', 'check', 'check', 'call', 'raise 81', 'fold', 'fold', 'fold', 'check', 'check', 'raise 21', 'check', 'fold', 'check', 'fold', 'fold', 'check', 'check', 'bet 11', 'fold', 'call', 'fold', 'fold', 'fold', 'raise 34', 'bet 28', 'fold', 'fold', 'check', 'check', 'bet 44', 'raise 37', 'raise 79', 'call', 'check', 'check', 'raise 28', 'check', 'fold', 'check', 'fold', 'call', 'fold', 'call', 'raise 57', 'fold', 'fold', 'raise 17', 'call', 'fold', 'raise 87', 'fold', 'fold', 'check', 'fold', 'bet 11', 'bet 13', 'check', 'check', 'call', 'call', 'call', 'fold', 'call', 'fold', 'call', 'call', 'bet 43', 'bet 4', 'bet 11', 'check', 'call', 'fold', 'bet 12', 'fold', 'call', 'fold', 'fold', 'fold', 'call', 'bet 19', 'fold', 'check', 'raise 36', 'check', 'call', 'check', 'check', 'call', 'check', 'raise 76', 'fold', 'check', 'call', 'fold', 'raise 81', 'check', 'bet 28', 'call', 'call', 'fold', 'fold', 'check', 'check', 'bet 9', 'check', 'check', 'call', 'raise 44', 'fold', 'call', 'check', 'check', 'fold', 'check', 'call', 'call', 'fold', 'fold', 'raise 72', 'fold', 'check', 'fold', 'fold', 'fold', 'check', 'check', 'fold', 'call', 'raise 76', 'bet 13', 'check', 'call', 'check', 'raise 16', 'raise 78', 'raise 16', 'fold', 'call', 'fold', 'bet 6', 'fold', 'fold', 'fold', 'fold', 'call', 'fold', 'fold', 'call', 'check', 'call', 'fold', 'call', 'fold', 'call', 'call', 'call', 'raise 13', 'bet 29', 'fold', 'check', 'check', 'check', 'check', 'fold', 'call', 'fold', 'fold', 'check', 'check', 'call', 'check', 'fold', 'bet 11', 'fold', 'fold', 'fold', 'call', 'call', 'fold', 'fold', 'call', 'fold', 'check', 'fold', 'check', 'check', 'fold', 'check', 'raise 80', 'fold', 'fold', 'call', 'call', 'fold', 'call', 'call', 'fold', 'call', 'fold', 'fold', 'check', 'check', 'call', 'bet 5', 'raise 68', 'fold', 'check', 'fold', 'check', 'check', 'call', 'check', 'raise 12', 'bet 33', 'call', 'check', 'call', 'fold', 'check', 'check', 'check', 'fold', 'bet 4', 'fold', 'check', 'bet 13', 'call', 'fold', 'fold', 'bet 28', 'check', 'call', 'check', 'call', 'fold', 'fold', 'call', 'fold', 'call', 'call', 'fold', 'call', 'check', 'fold', 'raise 13', 'fold', 'check', 'fold', 'call', 'call', 'check', 'call', 'check', 'check', 'fold', 'raise 84', 'fold', 'fold', 'fold', 'call', 'check', 'bet 25', 'call', 'raise 13', 'check', 'fold', 'check', 'fold', 'fold', 'raise 91', 'raise 18', 'call', 'call', 'check', 'check', 'check', 'check', 'fold', 'fold', 'check', 'call', 'check', 'check', 'check', 'call', 'fold', 'fold', 'check', 'raise 37', 'call', 'raise 34', 'fold', 'fold', 'check', 'fold', 'check', 'fold', 'fold', 'check', 'call', 'check', 'call', 'check', 'bet 8', 'check', 'call', 'call', 'fold', 'raise 63', 'check', 'raise 28', 'check', 'check', 'check', 'call', 'raise 21', 'fold', 'fold', 'fold', 'check', 'fold', 'fold', 'call', 'fold', 'check', 'check', 'call', 'fold', 'call', 'raise 78', 'fold', 'raise 27', 'call', 'bet 11', 'check', 'call', 'check', 'call', 'fold', 'call', 'fold', 'check', 'check', 'call', 'call', 'check', 'call', 'fold', 'fold', 'check', 'call', 'check', 'call', 'bet 11', 'fold', 'fold', 'bet 18', 'fold', 'bet 8', 'fold', 'fold', 'raise 34', 'fold', 'check', 'check', 'check', 'call', 'check', 'check', 'call', 'call', 'call', 'call', 'fold', 'call', 'check', 'fold', 'call', 'call', 'fold', 'check', 'check', 'fold', 'check', 'check', 'fold', 'check', 'fold', 'fold', 'call', 'check', 'call', 'check', 'call', 'check', 'raise 62', 'fold', 'call', 'call', 'fold', 'check', 'check', 'call', 'check', 'call', 'check', 'raise 78', 'call', 'check', 'check', 'fold', 'check', 'raise 13', 'call', 'raise 12', 'fold', 'bet 19', 'bet 5', 'check', 'call', 'check', 'fold', 'check', 'call', 'fold', 'fold', 'fold', 'fold', 'fold', 'check', 'fold', 'raise 24', 'fold', 'raise 73', 'fold', 'check', 'check', 'raise 31', 'fold', 'bet 14', 'call', 'call', 'fold', 'fold', 'call', 'raise 32', 'bet 5', 'check', 'bet 11', 'check', 'check', 'fold', 'check', 'check', 'call', 'fold', 'fold', 'check', 'fold', 'check', 'call', 'call', 'check', 'fold', 'fold', 'check', 'check', 'call', 'call', 'check', 'fold', 'call', 'fold', 'check', 'call', 'fold', 'check', 'call', 'call', 'call', 'check', 'bet 25', 'check', 'call', 'call', 'check', 'fold', 'fold', 'check', 'call', 'fold', 'call', 'fold', 'fold', 'bet 11', 'fold', 'fold', 'check', 'check', 'fold', 'fold', 'call', 'raise 81', 'fold', 'call', 'check', 'call', 'fold', 'check', 'call', 'check', 'fold', 'check', 'check', 'bet 18', 'fold', 'call', 'call', 'fold', 'fold', 'call', 'fold', 'raise 13', 'fold', 'fold', 'check', 'fold', 'check', 'call', 'check', 'call', 'call', 'bet 10', 'fold', 'fold', 'fold', 'fold', 'fold', 'bet 12', 'fold', 'call', 'fold', 'call', 'raise 35', 'fold', 'fold', 'bet 5', 'fold', 'check', 'fold', 'call', 'fold', 'fold', 'check', 'call', 'bet 21', 'check', 'check', 'check', 'fold', 'check', 'call', 'bet 22', 'check', 'call', 'bet 15', 'check', 'check', 'check', 'call', 'fold', 'fold', 'check', 'check', 'call', 'raise 28', 'check', 'check', 'check', 'fold', 'call', 'fold', 'call', 'call', 'check', 'check', 'call', 'fold', 'fold', 'call', 'fold', 'bet 23', 'fold', 'fold', 'call', 'raise 12', 'call', 'raise 37', 'check', 'call', 'fold', 'call', 'fold', 'check', 'call', 'check', 'check', 'bet 5', 'fold', 'bet 28', 'fold', 'fold', 'call', 'call', 'call', 'fold', 'fold', 'fold', 'fold', 'call', 'check', 'bet 5', 'raise 38', 'check', 'raise 50', 'call', 'check', 'fold', 'call', 'fold', 'call', 'fold', 'check', 'fold', 'check', 'check', 'call', 'fold', 'check', 'check', 'fold', 'check', 'check', 'fold', 'fold', 'check', 'check', 'check', 'fold', 'call', 'check', 'call', 'bet 17', 'check', 'check', 'fold', 'raise 91', 'check', 'call', 'fold', 'fold', 'call', 'check', 'bet 18', 'fold', 'check', 'fold', 'call', 'check', 'check', 'call', 'check', 'call', 'raise 88', 'call', 'fold', 'fold', 'fold', 'check', 'raise 81', 'check', 'fold', 'check', 'check', 'call', 'check', 'call', 'call', 'fold', 'check', 'fold', 'raise 29', 'check', 'call', 'call', 'fold', 'call', 'call', 'check', 'check', 'bet 4', 'fold', 'fold', 'check', 'call', 'fold', 'check', 'call', 'call', 'bet 15', 'check', 'call', 'fold', 'fold', 'check', 'raise 68', 'fold', 'check', 'fold', 'raise 73', 'check', 'check', 'call', 'check', 'raise 11', 'check', 'call', 'call', 'check', 'bet 28', 'fold', 'bet 36', 'check', 'call', 'call', 'check', 'bet 46', 'check', 'check', 'check', 'fold', 'call', 'fold', 'check', 'fold', 'bet 21', 'call', 'check', 'raise 16', 'fold', 'fold', 'check', 'check', 'check', 'check', 'check', 'check', 'raise 36', 'check', 'check', 'check', 'fold', 'check', 'check', 'call', 'call', 'fold', 'fold', 'check', 'check', 'check', 'fold', 'check', 'bet 5', 'call', 'call', 'call', 'check', 'call', 'check', 'fold', 'call', 'bet 11', 'fold', 'raise 89', 'call', 'check', 'fold', 'fold', 'call', 'call', 'call', 'check', 'fold', 'fold', 'call', 'raise 81', 'fold', 'check', 'fold', 'fold', 'bet 83', 'check', 'fold', 'call', 'bet 8', 'call', 'check', 'check', 'check', 'fold', 'check', 'call', 'check', 'check', 'call', 'check', 'check', 'fold', 'fold', 'fold', 'call', 'check', 'check', 'raise 80', 'raise 81', 'call', 'fold', 'check', 'raise 38', 'check', 'call', 'bet 31', 'fold', 'call', 'check', 'raise 12', 'call', 'check', 'check', 'check', 'check', 'call', 'fold', 'raise 3', 'fold', 'call', 'call', 'fold', 'fold', 'check', 'fold', 'call', 'bet 5', 'fold', 'raise 17', 'check', 'check', 'check', 'raise 13', 'fold', 'fold', 'check', 'call', 'check', 'check', 'fold', 'raise 10', 'raise 7', 'bet 24', 'bet 4', 'call', 'fold', 'fold', 'fold', 'check', 'call', 'raise 34', 'check', 'check', 'fold', 'raise 81', 'check', 'bet 8', 'check', 'check', 'call', 'check', 'check', 'fold', 'call', 'check', 'check', 'call', 'call', 'check', 'fold', 'check', 'fold', 'check', 'check', 'check', 'fold', 'fold', 'call', 'fold', 'fold', 'check', 'call', 'check', 'check', 'fold', 'call', 'raise 80', 'fold', 'call', 'call', 'raise 73', 'raise 45', 'call', 'bet 3', 'bet 19', 'call', 'raise 27', 'fold', 'fold', 'raise 10', 'check', 'fold', 'fold', 'check', 'call', 'fold', 'raise 31', 'call', 'check', 'call', 'check', 'check', 'fold', 'fold', 'fold', 'fold', 'fold', 'fold', 'call', 'fold', 'check', 'check', 'raise 81', 'call', 'fold', 'fold', 'call', 'call', 'bet 29', 'check', 'fold', 'fold', 'call', 'raise 82', 'call', 'raise 67', 'call', 'check', 'fold', 'fold', 'check', 'fold', 'fold', 'raise 91', 'fold', 'fold', 'fold', 'call', 'fold', 'check', 'bet 4', 'raise 55', 'raise 23', 'check', 'fold', 'fold', 'fold', 'fold', 'call', 'call', 'check', 'fold', 'bet 8', 'check', 'call', 'check', 'fold', 'call', 'check', 'check', 'fold', 'fold', 'check', 'bet 42', 'check', 'raise 32', 'call', 'call', 'fold', 'call', 'call', 'fold', 'call', 'call', 'call', 'check', 'raise 85', 'fold', 'fold', 'fold', 'call', 'bet 28', 'call', 'raise 14', 'fold', 'fold', 'bet 42', 'call', 'raise 85', 'check', 'call', 'call', 'raise 84', 'bet 24', 'fold', 'fold', 'check', 'check', 'check', 'check', 'call', 'call', 'fold', 'call', 'fold', 'call', 'check', 'fold', 'fold', 'call', 'call', 'raise 87', 'check', 'check', 'raise 18', 'check', 'call', 'fold', 'fold', 'check', 'call', 'check', 'raise 85', 'call', 'call', 'bet 3', 'check', 'check', 'fold', 'fold', 'check', 'call', 'fold', 'fold', 'check', 'call', 'call', 'call', 'check', 'fold', 'fold', 'fold', 'check', 'call', 'raise 35', 'raise 120', 'fold', 'check', 'call', 'call', 'call', 'call', 'fold', 'check', 'fold', 'check', 'raise 13', 'call', 'check', 'raise 45', 'check', 'fold', 'fold', 'fold', 'call', 'fold', 'call', 'check', 'fold', 'raise 124', 'fold', 'raise 4', 'call', 'raise 91', 'call', 'fold', 'call', 'call', 'fold', 'fold', 'fold', 'fold', 'fold', 'call', 'fold', 'call', 'fold', 'fold', 'fold', 'check', 'call', 'fold', 'check', 'call', 'fold', 'raise 80', 'call', 'check', 'check', 'check', 'check', 'fold', 'call', 'call', 'check', 'check', 'fold', 'call', 'call', 'fold', 'check', 'fold', 'call', 'call', 'fold', 'check', 'call', 'check', 'check', 'call', 'check', 'call', 'check', 'fold', 'fold', 'call', 'call', 'check', 'fold', 'raise 12', 'raise 48', 'call', 'fold', 'call', 'check', 'fold', 'fold', 'call', 'check', 'fold', 'call', 'call', 'bet 21', 'check', 'call', 'call', 'check', 'check', 'fold', 'call', 'call', 'check', 'call', 'raise 85', 'fold', 'call', 'call', 'fold', 'fold', 'call', 'fold', 'fold', 'fold', 'fold', 'call', 'fold', 'call', 'call', 'raise 74', 'check', 'fold', 'fold', 'check', 'fold', 'bet 5', 'check', 'fold', 'raise 17', 'check', 'call', 'check', 'fold', 'bet 8', 'fold', 'check', 'call', 'call', 'call', 'check', 'call', 'fold', 'fold', 'fold', 'check', 'check', 'check', 'check', 'check', 'check', 'check', 'call', 'raise 34', 'call', 'fold', 'check', 'call', 'check', 'fold', 'fold', 'fold', 'fold', 'fold', 'check', 'fold', 'fold', 'call', 'call', 'fold', 'fold', 'fold', 'fold', 'fold', 'bet 7', 'raise 48', 'fold', 'check', 'call', 'fold', 'fold', 'fold', 'check', 'call', 'fold', 'check', 'check', 'fold', 'call', 'call', 'fold', 'check', 'fold', 'fold', 'call', 'fold', 'call', 'raise 64', 'raise 51', 'check', 'raise 81', 'fold', 'check', 'check', 'call', 'check', 'check', 'call', 'raise 28', 'fold', 'fold', 'fold', 'check', 'call', 'fold', 'fold', 'fold', 'call', 'fold', 'bet 33', 'fold', 'raise 11', 'check', 'raise 12', 'call', 'raise 16', 'fold', 'call', 'fold', 'check', 'fold', 'call', 'check', 'fold', 'bet 7', 'fold', 'call', 'raise 10', 'check', 'call', 'bet 34', 'fold', 'call', 'fold', 'fold', 'check', 'call', 'raise 80', 'call', 'fold', 'raise 30', 'fold', 'raise 81', 'call', 'call', 'check', 'bet 29', 'fold', 'fold', 'check', 'call', 'call', 'fold', 'raise 87', 'check', 'check', 'check', 'check', 'check', 'fold', 'raise 89', 'fold', 'call', 'check', 'call', 'fold', 'fold', 'call', 'bet 23', 'fold', 'raise 16', 'fold', 'check', 'check', 'raise 22', 'raise 82', 'check', 'fold', 'check', 'call', 'raise 80', 'call', 'fold', 'check', 'fold', 'check', 'call', 'fold', 'check', 'fold', 'bet 12.0', 'check', 'raise 56', 'check', 'call', 'call', 'check', 'raise 54', 'call', 'fold', 'call', 'call', 'fold', 'fold', 'fold', 'call', 'check', 'call', 'check', 'call', 'check', 'fold', 'call', 'fold', 'call', 'fold', 'fold', 'check', 'call', 'fold', 'raise 54', 'fold', 'call', 'check', 'call', 'check', 'check', 'raise 78', 'check', 'call', 'fold', 'fold', 'check', 'bet 38', 'call', 'call', 'call', 'fold', 'fold', 'fold', 'fold', 'check', 'fold', 'check', 'bet 5', 'fold', 'check', 'fold', 'fold', 'bet 34', 'bet 14', 'fold', 'fold', 'fold', 'fold', 'fold', 'call', 'fold', 'bet 27', 'call', 'bet 32', 'check', 'call', 'fold', 'check', 'call', 'fold', 'call', 'check', 'check', 'call', 'check', 'check', 'check', 'check', 'fold', 'check', 'call', 'bet 17', 'fold', 'raise 60', 'raise 81', 'check', 'fold', 'fold', 'call', 'bet 3', 'call', 'call', 'fold', 'check', 'fold', 'check', 'check', 'check', 'bet 11', 'check', 'check', 'check', 'fold', 'fold', 'raise 91', 'check', 'raise 32', 'check', 'raise 17', 'check', 'fold', 'check', 'check', 'check', 'check', 'check', 'call', 'check', 'call', 'call', 'fold', 'check', 'fold', 'fold', 'fold', 'check', 'fold', 'check', 'check', 'check', 'fold', 'fold', 'fold', 'fold', 'fold', 'fold', 'check', 'check', 'bet 3', 'check', 'check', 'fold', 'call', 'check', 'call', 'fold', 'call', 'check', 'call', 'check', 'check', 'fold', 'call', 'fold', 'check', 'fold', 'call', 'call', 'check', 'check', 'call', 'check', 'check', 'call', 'call', 'fold', 'check', 'check', 'raise 87', 'fold', 'raise 88', 'raise 55', 'call', 'call', 'fold', 'check', 'check', 'check', 'fold', 'call', 'raise 22', 'fold', 'check', 'check', 'check', 'check', 'fold', 'check', 'bet 28', 'fold', 'check', 'bet 18', 'check', 'fold', 'check', 'fold', 'bet 27', 'check', 'call', 'call', 'fold', 'call', 'bet 14', 'check', 'fold', 'fold', 'bet 8', 'raise 10', 'check', 'check', 'check', 'check', 'bet 41', 'raise 82', 'check', 'fold', 'fold', 'call', 'fold', 'check', 'check', 'check', 'check', 'check', 'call', 'fold', 'call', 'bet 4', 'check', 'call', 'call', 'fold', 'check', 'check', 'raise 79', 'call', 'check', 'call', 'fold', 'check', 'call', 'fold', 'fold', 'check', 'check', 'raise 34', 'check', 'check', 'bet 75', 'check', 'fold', 'check', 'call', 'fold', 'fold', 'call', 'bet 3', 'fold', 'call', 'fold', 'raise 16', 'bet 8', 'fold', 'check', 'raise 34', 'fold', 'check', 'fold', 'check', 'check', 'check', 'fold', 'check', 'fold', 'fold', 'check', 'fold', 'raise 87', 'raise 85', 'call', 'fold', 'call', 'fold', 'bet 10', 'call', 'fold', 'fold', 'fold', 'check', 'raise 18', 'fold', 'fold', 'call', 'call', 'check', 'raise 88', 'call', 'check', 'check', 'call', 'fold', 'fold', 'check', 'call', 'fold', 'fold', 'fold', 'call', 'fold', 'check', 'check', 'check', 'raise 18', 'check', 'fold', 'raise 85', 'call', 'fold', 'call', 'raise 92', 'bet 23', 'call', 'raise 28', 'check', 'call', 'check', 'raise 39', 'check', 'call', 'fold', 'call', 'check', 'raise 89', 'call', 'fold', 'fold', 'fold', 'bet 11', 'raise 84', 'fold', 'check', 'bet 14', 'check', 'fold', 'check', 'raise 90', 'fold', 'raise 79', 'call', 'fold', 'check', 'fold', 'check', 'fold', 'fold', 'check', 'fold', 'check', 'check', 'fold', 'fold', 'bet 38', 'call', 'bet 11', 'fold', 'check', 'check', 'call', 'call', 'call', 'bet 26', 'check', 'fold', 'raise 27', 'fold', 'raise 155', 'check', 'call', 'fold', 'call', 'fold', 'call', 'check', 'fold', 'check', 'bet 13', 'fold', 'check', 'call', 'bet 4', 'fold', 'check', 'check', 'call', 'fold', 'check', 'fold', 'call', 'fold', 'check', 'call', 'fold', 'bet 74', 'call', 'fold', 'fold', 'raise 16', 'raise 18', 'raise 19', 'fold', 'call', 'check', 'call', 'fold', 'call', 'check', 'call', 'fold', 'call', 'bet 31', 'fold', 'fold', 'bet 27', 'fold', 'fold', 'fold', 'call', 'check', 'fold', 'check', 'call', 'fold', 'call', 'check', 'check', 'fold', 'call', 'call', 'call', 'call', 'call', 'check', 'check', 'fold', 'fold', 'fold', 'fold', 'raise 30', 'call', 'fold', 'check', 'raise 61', 'bet 21', 'raise 23', 'call', 'fold', 'raise 29', 'raise 12', 'check', 'call', 'check', 'fold', 'call', 'call', 'call', 'fold', 'fold', 'check', 'check', 'fold', 'bet 29', 'call', 'call', 'raise 7.0', 'check', 'check', 'check', 'check', 'fold', 'fold', 'check', 'fold', 'fold', 'call', 'fold', 'fold', 'check', 'check', 'check', 'fold', 'fold', 'fold', 'fold', 'call', 'bet 11', 'raise 21', 'call', 'check', 'bet 40', 'check', 'fold', 'call', 'check', 'check', 'call', 'fold', 'fold', 'check', 'fold', 'check', 'fold', 'fold', 'fold', 'fold', 'call', 'check', 'fold', 'check', 'check', 'call', 'check', 'fold', 'fold', 'check', 'check', 'call', 'check', 'raise 81', 'call', 'call', 'check', 'check', 'call', 'fold', 'call', 'fold', 'check', 'bet 10', 'call', 'fold', 'check', 'fold', 'raise 67', 'fold', 'fold', 'fold', 'call', 'call', 'bet 5', 'check', 'check', 'call', 'call', 'check', 'call', 'fold', 'call', 'check', 'check', 'fold', 'fold', 'fold', 'fold', 'check', 'check', 'call', 'fold', 'call', 'bet 28', 'check', 'check', 'call', 'fold', 'call', 'call', 'bet 3', 'fold', 'check', 'fold', 'check', 'fold', 'fold', 'check', 'fold', 'check', 'fold', 'check', 'check', 'check', 'call', 'call', 'bet 11', 'fold', 'check', 'call', 'raise 44', 'call', 'fold', 'call', 'call', 'fold', 'fold', 'fold', 'raise 76', 'bet 10', 'fold', 'check', 'check', 'fold', 'check', 'bet 23', 'bet 43', 'check', 'check', 'fold', 'fold', 'check', 'call', 'raise 76', 'raise 49', 'raise 32', 'check', 'fold', 'call', 'call', 'call', 'check', 'call', 'call', 'raise 81', 'check', 'check', 'fold', 'fold', 'call', 'check', 'call', 'fold', 'call', 'call', 'check', 'check', 'fold', 'call', 'fold', 'fold', 'fold', 'check', 'call', 'bet 8', 'raise 16', 'fold', 'fold', 'fold', 'raise 80', 'check', 'call', 'check', 'check', 'fold', 'fold', 'check', 'fold', 'fold', 'call', 'fold', 'check', 'call', 'fold', 'check', 'call', 'check', 'fold', 'raise 124', 'raise 44', 'check', 'check', 'raise 82', 'check', 'check', 'check', 'call', 'bet 5', 'fold', 'bet 8', 'check', 'bet 10', 'raise 28', 'fold', 'bet 5', 'check', 'call', 'check', 'fold', 'call', 'check', 'check', 'fold', 'raise 81', 'raise 91', 'raise 81', 'fold', 'call', 'fold', 'check', 'check', 'fold', 'fold', 'fold', 'check', 'call', 'check', 'call', 'check', 'raise 54', 'fold', 'check', 'check', 'raise 11', 'fold', 'check', 'fold', 'call', 'check', 'check', 'bet 12.0', 'call', 'check', 'check', 'check', 'check', 'fold', 'fold', 'raise 12', 'fold', 'call', 'fold', 'call', 'raise 17', 'check', 'fold', 'raise 69', 'fold', 'bet 28', 'call', 'fold', 'call', 'check', 'check', 'raise 19', 'check', 'check', 'call', 'call', 'call', 'call', 'check', 'call', 'call', 'call', 'raise 16', 'raise 26', 'raise 88', 'raise 36', 'fold', 'call', 'call', 'call', 'call', 'check', 'call', 'call', 'fold', 'fold', 'fold', 'fold', 'check', 'call', 'fold', 'fold', 'call', 'fold', 'check', 'fold', 'check', 'call', 'call', 'raise 29', 'call', 'check', 'fold', 'raise 18', 'bet 13', 'fold', 'check', 'raise 41', 'raise 8', 'fold', 'raise 88', 'fold', 'fold', 'call', 'call', 'raise 83', 'bet 10', 'call', 'fold', 'check', 'call', 'check', 'check', 'call', 'call', 'bet 28', 'check', 'call', 'check', 'fold', 'check', 'check', 'fold', 'fold', 'fold', 'call', 'fold', 'fold', 'call', 'call', 'call', 'fold', 'check', 'fold', 'bet 24', 'check', 'fold', 'raise 72', 'call', 'check', 'check', 'check', 'call', 'call', 'fold', 'fold', 'raise 97', 'raise 19', 'check', 'check', 'call', 'fold', 'call', 'fold', 'fold', 'call', 'fold', 'call', 'call', 'raise 79', 'call', 'call', 'call', 'fold', 'fold', 'check', 'call', 'call', 'call', 'fold', 'call', 'fold', 'fold', 'fold', 'call', 'fold', 'call', 'raise 22', 'check', 'check', 'call', 'fold', 'fold', 'fold', 'fold', 'call', 'fold', 'bet 8', 'call', 'call', 'check', 'call', 'check', 'check', 'bet 11', 'check', 'check', 'check', 'fold', 'fold', 'fold', 'fold', 'fold', 'call', 'check', 'check', 'fold', 'fold', 'check', 'raise 30', 'call', 'fold', 'call', 'check', 'call', 'check', 'check', 'call', 'call', 'check', 'fold', 'raise 33', 'fold', 'check', 'raise 75', 'call', 'call', 'raise 12', 'raise 76', 'check', 'check', 'call', 'fold', 'bet 38', 'bet 28', 'call', 'check', 'fold', 'call', 'call', 'check', 'check', 'fold', 'check', 'fold', 'call', 'fold', 'check', 'fold', 'fold', 'fold', 'check', 'raise 16', 'check', 'check', 'raise 27', 'call', 'fold', 'fold', 'raise 91', 'check', 'check', 'call', 'check', 'bet 30', 'check', 'fold', 'call', 'check', 'raise 82', 'fold', 'fold', 'check', 'raise 13', 'call', 'fold', 'call', 'bet 28', 'check', 'call', 'raise 82', 'check', 'raise 70', 'check', 'check', 'fold', 'check', 'call', 'bet 33', 'raise 17', 'fold', 'call', 'check', 'check', 'fold', 'raise 77', 'check', 'check', 'call', 'bet 10', 'call', 'fold', 'fold', 'fold', 'fold', 'fold', 'fold', 'fold', 'raise 30', 'call', 'call', 'call', 'check', 'check', 'bet 5', 'check', 'fold', 'call', 'call', 'call', 'call', 'fold', 'check', 'call', 'check', 'check', 'check', 'call', 'fold', 'fold', 'call', 'fold', 'raise 143', 'fold', 'call', 'call', 'call', 'fold', 'call', 'call', 'fold', 'check', 'check', 'fold', 'fold', 'check', 'bet 10', 'fold', 'check', 'call', 'check', 'raise 41', 'bet 10', 'fold', 'fold', 'fold', 'fold', 'call', 'fold', 'call', 'call', 'call', 'call', 'fold', 'fold', 'check', 'call', 'fold', 'check', 'check', 'check', 'raise 80', 'bet 3', 'check', 'fold', 'fold', 'call', 'raise 35', 'call', 'call', 'check', 'bet 3', 'fold', 'fold', 'call', 'fold', 'fold', 'call', 'call', 'fold', 'fold', 'check', 'fold', 'check', 'check', 'call', 'raise 11', 'fold', 'call', 'check', 'fold', 'fold', 'fold', 'raise 82', 'check', 'call', 'raise 13', 'raise 12', 'check', 'fold', 'check', 'fold', 'fold', 'check', 'fold', 'bet 28', 'check', 'raise 72', 'bet 27', 'check', 'fold', 'check', 'call', 'call', 'call', 'fold', 'check', 'fold', 'check', 'check', 'bet 10', 'check', 'bet 21', 'call', 'bet 6', 'check', 'check', 'check', 'fold', 'call', 'check', 'fold', 'fold', 'check', 'call', 'fold', 'fold', 'check', 'call', 'check', 'check', 'fold', 'fold', 'check', 'fold', 'fold', 'fold', 'fold', 'call', 'fold', 'call', 'fold', 'fold', 'fold', 'check', 'check', 'fold', 'call', 'bet 4', 'raise 81', 'raise 9', 'fold', 'check', 'fold', 'check', 'call', 'call', 'fold', 'fold', 'fold', 'fold', 'fold', 'call', 'fold', 'fold', 'fold', 'fold', 'fold', 'fold', 'call', 'check', 'fold', 'check', 'raise 97', 'fold', 'raise 68', 'fold', 'call', 'call', 'call', 'call', 'fold', 'check', 'fold', 'check', 'check', 'check', 'check', 'fold', 'call', 'call', 'check', 'call', 'fold', 'fold', 'fold', 'check', 'call', 'fold', 'call', 'call', 'raise 97', 'call', 'call', 'fold', 'fold', 'check', 'check', 'check', 'fold', 'fold', 'bet 8', 'call', 'check', 'check', 'fold', 'call', 'check', 'fold', 'bet 10', 'check', 'call', 'check', 'fold', 'call', 'call', 'fold', 'call', 'raise 90', 'check', 'call', 'check', 'fold', 'call', 'fold', 'call', 'call', 'fold', 'fold', 'bet 12', 'check', 'fold', 'fold', 'fold', 'check', 'check', 'call', 'check', 'call', 'fold', 'raise 74', 'check', 'fold', 'check', 'fold', 'check', 'check', 'call', 'check', 'bet 14', 'fold', 'raise 37', 'fold', 'fold', 'call', 'check', 'call', 'check', 'fold', 'fold', 'call', 'bet 10', 'bet 21', 'check', 'raise 28', 'fold', 'call', 'check', 'call', 'check', 'check', 'fold', 'check', 'check', 'check', 'check', 'check', 'fold', 'bet 18', 'bet 35', 'check', 'fold', 'call', 'fold', 'check', 'check', 'raise 49', 'check', 'raise 12', 'fold', 'raise 81', 'fold', 'fold', 'raise 16', 'bet 20', 'fold', 'raise 20', 'fold', 'fold', 'fold', 'call', 'check', 'fold', 'call', 'check', 'call', 'check', 'check', 'call', 'check', 'call', 'fold', 'bet 21', 'check', 'check', 'call', 'check', 'fold', 'check', 'check', 'check', 'check', 'call', 'raise 29', 'call', 'call', 'call', 'fold', 'call', 'call', 'raise 73', 'raise 79', 'fold', 'call', 'raise 29', 'call', 'call', 'fold', 'check', 'call', 'fold', 'fold', 'fold', 'check', 'fold', 'call', 'check', 'bet 5', 'fold', 'fold', 'fold', 'raise 72', 'bet 24', 'call', 'fold', 'fold', 'bet 10', 'check', 'call', 'fold', 'fold', 'check', 'check', 'check', 'fold', 'call', 'bet 26', 'check', 'check', 'call', 'fold', 'check', 'fold', 'fold', 'call', 'bet 28', 'fold', 'call', 'check', 'fold', 'check', 'call', 'fold', 'check', 'call', 'check', 'fold', 'check', 'check', 'fold', 'check', 'fold', 'call', 'fold', 'call', 'fold', 'fold', 'raise 88', 'check', 'call', 'check', 'fold', 'check', 'fold', 'raise 85', 'check', 'check', 'check', 'check', 'call', 'call', 'check', 'fold', 'fold', 'check', 'fold', 'fold', 'fold', 'call', 'check', 'call', 'call', 'call', 'fold', 'fold', 'check', 'bet 2', 'fold', 'call', 'raise 30', 'check', 'call', 'fold', 'fold', 'check', 'call', 'call', 'check', 'fold', 'call', 'fold', 'check', 'raise 15', 'fold', 'bet 5', 'fold', 'call', 'fold', 'call', 'fold', 'call', 'check', 'check', 'fold', 'check', 'fold', 'raise 10', 'bet 28', 'check', 'call', 'check', 'check', 'call', 'check', 'call', 'check', 'raise 55', 'raise 82', 'fold', 'fold', 'check', 'raise 18', 'call', 'call', 'check', 'fold', 'check', 'fold', 'check', 'call', 'check', 'bet 39', 'call', 'call', 'fold', 'check', 'fold', 'fold', 'call', 'call', 'fold', 'check', 'fold', 'check', 'fold', 'check', 'call', 'raise 91', 'fold', 'fold', 'call', 'fold', 'call', 'check', 'check', 'call', 'raise 19', 'bet 5', 'fold', 'raise 29', 'fold', 'fold', 'check', 'check', 'check', 'fold', 'call', 'check', 'call', 'call', 'check', 'fold', 'call', 'call', 'call', 'fold', 'call', 'call', 'fold', 'call', 'fold', 'fold', 'fold', 'fold', 'raise 13', 'fold', 'raise 11', 'call', 'call', 'check', 'raise 16', 'fold', 'fold', 'fold', 'fold', 'fold', 'bet 10', 'call', 'call', 'check', 'fold', 'call', 'fold', 'raise 12', 'check', 'check', 'fold', 'check', 'fold', 'call', 'fold', 'call', 'call', 'bet 8', 'raise 80', 'call', 'fold', 'raise 84', 'fold', 'check', 'fold', 'check', 'check', 'fold', 'call', 'call', 'call', 'bet 14', 'fold', 'fold', 'fold', 'check', 'fold', 'fold', 'check', 'fold', 'raise 10', 'call', 'fold', 'check', 'fold', 'fold', 'check', 'call', 'bet 11', 'call', 'fold', 'raise 81', 'fold', 'bet 29', 'call', 'check', 'call', 'fold', 'fold', 'check', 'check', 'call', 'fold', 'fold', 'fold', 'check', 'fold', 'fold', 'call', 'call', 'call', 'fold', 'check', 'check', 'fold', 'check', 'check', 'check', 'fold', 'fold', 'call', 'fold', 'fold', 'call', 'fold', 'check', 'check', 'fold', 'call', 'raise 84', 'call', 'call', 'fold', 'check', 'call', 'fold', 'fold', 'bet 4', 'check', 'check', 'fold', 'raise 74', 'check', 'raise 81', 'call', 'raise 80', 'call', 'call', 'check', 'check', 'call', 'call', 'check', 'fold', 'raise 26', 'fold', 'check', 'call', 'call', 'fold', 'fold', 'fold', 'fold', 'call', 'check', 'check', 'call', 'check', 'check', 'bet 16', 'raise 16', 'fold', 'call', 'check', 'check', 'fold', 'raise 82', 'fold', 'check', 'raise 13', 'call', 'fold', 'check', 'call', 'check', 'check', 'check', 'call', 'fold', 'call', 'call', 'fold', 'fold', 'fold', 'fold', 'fold', 'check', 'call', 'call', 'check', 'check', 'fold', 'check', 'check', 'check', 'bet 18', 'fold', 'fold', 'fold', 'call', 'call', 'call', 'check', 'raise 55', 'check', 'fold', 'check', 'raise 27', 'call', 'check', 'fold', 'raise 17', 'fold', 'fold', 'check', 'fold', 'call', 'fold', 'call', 'fold', 'fold', 'bet 13', 'call', 'check', 'call', 'check', 'fold', 'check', 'call', 'call', 'fold', 'check', 'fold', 'fold', 'raise 27', 'call', 'check', 'fold', 'call', 'raise 20', 'call', 'fold', 'fold', 'call', 'call', 'raise 32', 'bet 28', 'raise 28', 'raise 106', 'fold', 'raise 79', 'call', 'fold', 'check', 'check', 'check', 'check', 'check', 'check', 'call', 'raise 31', 'bet 27', 'call', 'check', 'call', 'raise 81', 'call', 'check', 'check', 'fold', 'call', 'raise 35', 'fold', 'call', 'check', 'fold', 'call', 'raise 45', 'raise 16', 'bet 13', 'check', 'check', 'call', 'call', 'fold', 'call', 'fold', 'check', 'raise 38', 'check', 'check', 'call', 'fold', 'check', 'check', 'raise 32', 'check', 'call', 'call', 'check', 'fold', 'fold', 'raise 17', 'check', 'fold', 'check', 'fold', 'fold', 'bet 11', 'call', 'check', 'fold', 'call', 'fold', 'bet 13', 'check', 'call', 'check', 'call', 'check', 'call', 'check', 'fold', 'fold', 'fold', 'check', 'check', 'call', 'raise 82', 'fold', 'raise 32', 'bet 16', 'fold', 'raise 93', 'call', 'raise 11', 'fold', 'call', 'call', 'check', 'fold', 'fold', 'check', 'raise 35', 'bet 25', 'call', 'fold', 'fold', 'fold', 'call', 'call', 'fold', 'fold', 'check', 'fold', 'call', 'raise 16', 'fold', 'check', 'bet 6', 'check', 'check', 'raise 42', 'fold', 'check', 'fold', 'bet 11', 'fold', 'raise 80', 'fold', 'call', 'fold', 'raise 78', 'call', 'check', 'fold', 'check', 'call', 'check', 'call', 'call', 'check', 'fold', 'call', 'call', 'call', 'check', 'fold', 'bet 17', 'fold', 'call', 'raise 16', 'fold', 'check', 'fold', 'check', 'bet 40', 'call', 'fold', 'check', 'check', 'call', 'fold', 'raise 38', 'call', 'fold', 'check', 'check', 'fold', 'raise 16', 'check', 'fold', 'bet 10', 'check', 'check', 'raise 78', 'call', 'call', 'raise 88', 'call', 'fold', 'fold', 'fold', 'call', 'call', 'check', 'call', 'check', 'check', 'fold', 'raise 31', 'call', 'call', 'call', 'fold', 'check', 'check', 'check', 'check', 'fold', 'check', 'fold', 'call', 'call', 'call', 'fold', 'raise 12', 'check', 'fold', 'call', 'call', 'check', 'check', 'raise 91', 'fold', 'call', 'fold', 'raise 85', 'fold', 'fold', 'fold', 'check', 'fold', 'raise 12', 'check', 'check', 'fold', 'call', 'call', 'fold', 'check', 'call', 'fold', 'call', 'call', 'fold', 'call', 'call', 'check', 'check', 'fold', 'call', 'fold', 'call', 'call', 'call', 'fold', 'fold', 'fold', 'call', 'raise 89', 'check', 'bet 23', 'call', 'call', 'bet 4', 'fold', 'call', 'call', 'raise 79', 'raise 13', 'call', 'fold', 'fold', 'call', 'fold', 'check', 'fold', 'fold', 'fold', 'fold', 'call', 'check', 'check', 'check', 'fold', 'fold', 'bet 28', 'call', 'bet 30', 'call', 'call', 'fold', 'call', 'fold', 'check', 'raise 60', 'call', 'check', 'call', 'call', 'fold', 'raise 77', 'bet 4', 'call', 'fold', 'check', 'call', 'call', 'bet 30', 'check', 'bet 32', 'check', 'fold', 'call', 'check', 'fold', 'call', 'fold', 'check', 'fold', 'call', 'bet 10', 'check', 'check', 'check', 'check', 'call', 'raise 8', 'fold', 'call', 'call', 'fold', 'call', 'fold', 'check', 'raise 17', 'fold', 'check', 'fold', 'fold', 'call', 'call', 'fold', 'check', 'check', 'bet 10', 'call', 'check', 'fold', 'fold', 'fold', 'fold', 'check', 'fold', 'fold', 'bet 20', 'check', 'raise 81', 'check', 'call', 'fold', 'fold', 'check', 'fold', 'check', 'fold', 'fold', 'check', 'fold', 'fold', 'bet 10', 'call', 'call', 'fold', 'call', 'fold', 'fold', 'check', 'check', 'call', 'fold', 'fold', 'fold', 'check', 'call', 'check', 'fold', 'fold', 'call', 'call', 'fold', 'call', 'raise 82', 'fold', 'raise 24', 'check', 'bet 21', 'fold', 'fold', 'call', 'bet 8', 'check', 'fold', 'fold', 'fold', 'check', 'check', 'check', 'call', 'check', 'fold', 'call', 'fold', 'call', 'bet 15', 'fold', 'fold', 'bet 8', 'call', 'call', 'call', 'call', 'fold', 'fold', 'call', 'fold', 'raise 78', 'check', 'fold', 'call', 'check', 'check', 'call', 'fold', 'check', 'fold', 'fold', 'call', 'raise 22', 'check', 'check', 'raise 85', 'call', 'fold', 'check', 'check', 'call', 'raise 32', 'raise 12', 'bet 28', 'call', 'raise 38', 'bet 11', 'fold', 'fold', 'check', 'fold', 'call', 'call', 'fold', 'check', 'check', 'fold', 'call', 'call', 'check', 'fold', 'raise 3', 'call', 'raise 10', 'bet 37', 'call', 'fold', 'call', 'call', 'check', 'check', 'fold', 'fold', 'check', 'check', 'call', 'fold', 'check', 'fold', 'fold', 'check', 'fold', 'check', 'raise 91', 'check', 'check', 'check', 'call', 'fold', 'raise 83', 'fold', 'raise 89', 'check', 'fold', 'call', 'bet 4', 'fold', 'check', 'call', 'fold', 'check', 'check', 'fold', 'call', 'fold', 'call', 'bet 3', 'check', 'check', 'check', 'fold', 'fold', 'fold', 'call', 'check', 'fold', 'call', 'fold', 'check', 'bet 17', 'check', 'call', 'call', 'bet 2', 'fold', 'check', 'call', 'call', 'fold', 'fold', 'fold', 'check', 'raise 30', 'raise 40', 'check', 'call', 'fold', 'bet 26', 'fold', 'call', 'call', 'fold', 'call', 'call', 'fold', 'bet 21', 'check', 'call', 'raise 13', 'call', 'bet 10', 'call', 'check', 'fold', 'call', 'call', 'check', 'fold', 'fold', 'fold', 'call', 'check', 'call', 'check', 'fold', 'fold', 'fold', 'check', 'check', 'call', 'check', 'fold', 'fold', 'call', 'check', 'fold', 'call', 'fold', 'fold', 'check', 'check', 'check', 'check', 'check', 'check', 'fold', 'check', 'check', 'fold', 'fold', 'fold', 'fold', 'fold', 'call', 'fold', 'call', 'raise 88', 'check', 'fold', 'check', 'check', 'fold', 'check', 'fold', 'call', 'check', 'call', 'fold', 'fold', 'call', 'raise 33', 'fold', 'check', 'fold', 'fold', 'raise 81', 'check', 'check', 'check', 'call', 'bet 8', 'bet 35', 'check', 'call', 'fold', 'call', 'check', 'fold', 'check', 'fold', 'check', 'check', 'check', 'fold', 'fold', 'call', 'fold', 'check', 'fold', 'bet 44', 'fold', 'fold', 'call', 'call', 'fold', 'check', 'raise 82', 'check', 'call', 'check', 'check', 'check', 'check', 'fold', 'call', 'call', 'fold', 'call', 'fold', 'call', 'check', 'bet 22', 'check', 'check', 'fold', 'fold', 'fold', 'call', 'check', 'bet 21', 'call', 'check', 'check', 'raise 49', 'check', 'check', 'fold', 'call', 'fold', 'raise 81', 'fold', 'call', 'call', 'check', 'check', 'raise 81', 'call', 'check', 'fold', 'fold', 'call', 'call', 'call', 'raise 16', 'raise 32', 'call', 'fold', 'check', 'check', 'call', 'call', 'fold', 'call', 'bet 23', 'check', 'fold', 'fold', 'check', 'call', 'raise 90', 'call', 'call', 'call', 'call', 'check', 'fold', 'check', 'call', 'call', 'check', 'raise 83', 'fold', 'check', 'fold', 'fold', 'raise 33', 'call', 'check', 'check', 'call', 'bet 5', 'fold', 'call', 'call', 'check', 'call', 'fold', 'check', 'fold', 'fold', 'check', 'check', 'check', 'check', 'check', 'call', 'fold', 'bet 5', 'raise 48', 'check', 'raise 82', 'raise 37', 'call', 'check', 'fold', 'check', 'check', 'bet 27', 'check', 'check', 'fold', 'bet 21', 'raise 80', 'raise 28', 'check', 'call', 'check', 'check', 'raise 7', 'call', 'raise 30.0', 'fold', 'call', 'check', 'fold', 'raise 52', 'check', 'fold', 'fold', 'raise 85', 'call', 'check', 'call', 'check', 'fold', 'raise 7', 'raise 8', 'call', 'raise 31', 'check', 'check', 'bet 5', 'raise 25', 'check', 'fold', 'fold', 'check', 'fold', 'check', 'check', 'call', 'raise 15', 'bet 10', 'fold', 'check', 'raise 11', 'raise 13', 'check', 'call', 'call', 'check', 'check', 'check', 'check', 'call', 'raise 28', 'call', 'raise 92', 'call', 'fold', 'call', 'call', 'check', 'check', 'check', 'fold', 'call', 'check', 'check', 'check', 'call', 'fold', 'check', 'fold', 'check', 'check', 'check', 'fold', 'raise 92', 'fold', 'check', 'fold', 'call', 'raise 24', 'bet 11', 'check', 'call', 'bet 13', 'call', 'fold', 'raise 66', 'call', 'check', 'fold', 'fold', 'check', 'check', 'check', 'fold', 'bet 6', 'check', 'check', 'check', 'call', 'check', 'call', 'call', 'check', 'fold', 'fold', 'fold', 'check', 'check', 'check', 'call', 'call', 'check', 'fold', 'check', 'call', 'fold', 'call', 'call', 'check', 'fold', 'raise 35', 'check', 'fold', 'check', 'raise 54', 'call', 'fold', 'fold', 'call', 'call', 'call', 'check', 'fold', 'fold', 'check', 'fold', 'call', 'fold', 'fold', 'check', 'bet 5', 'call', 'check', 'call', 'check', 'fold', 'bet 11', 'call', 'check', 'call', 'call', 'raise 77', 'fold', 'fold', 'fold', 'fold', 'fold', 'call', 'fold', 'call', 'call', 'call', 'check', 'call', 'fold', 'check', 'check', 'raise 38', 'check', 'call', 'fold', 'call', 'check', 'raise 82', 'check', 'fold', 'bet 5', 'fold', 'fold', 'fold', 'bet 27', 'fold', 'fold', 'check', 'check', 'check', 'fold', 'fold', 'fold', 'bet 11', 'fold', 'check', 'call', 'call', 'raise 42', 'call', 'call', 'fold', 'check', 'check', 'check', 'fold', 'fold', 'call', 'check', 'call', 'call', 'call', 'fold', 'call', 'fold', 'call', 'call', 'call', 'fold', 'check', 'call', 'check', 'fold', 'fold', 'bet 17', 'call', 'call', 'bet 17', 'fold', 'bet 11', 'check', 'fold', 'fold', 'check', 'bet 19', 'call', 'fold', 'call', 'fold', 'call', 'call', 'check', 'call', 'call', 'check', 'check', 'raise 55', 'check', 'raise 286', 'bet 18', 'raise 27', 'call', 'raise 87', 'fold', 'call', 'check', 'call', 'call', 'check', 'check', 'call', 'fold', 'fold', 'fold', 'call', 'check', 'fold', 'fold', 'fold', 'check', 'check', 'raise 32', 'bet 3', 'call', 'bet 18', 'call', 'call', 'fold', 'raise 14', 'raise 28', 'fold', 'call', 'check', 'call', 'fold', 'raise 39', 'check', 'call', 'fold', 'check', 'bet 13', 'call', 'fold', 'fold', 'call', 'fold', 'raise 63', 'fold', 'raise 31', 'raise 16', 'check', 'check', 'call', 'raise 81', 'check', 'fold', 'bet 12', 'check', 'fold', 'fold', 'call', 'check', 'check', 'fold', 'fold', 'check', 'check', 'fold', 'fold', 'fold', 'check', 'fold', 'call', 'call', 'fold', 'check', 'check', 'call', 'fold', 'fold', 'call', 'call', 'call', 'check', 'check', 'bet 11', 'fold', 'fold', 'check', 'check', 'bet 10', 'fold', 'bet 13', 'raise 74', 'check', 'call', 'call', 'fold', 'call', 'fold', 'call', 'call', 'fold', 'fold', 'check', 'raise 14', 'raise 84', 'call', 'check', 'fold', 'fold', 'fold', 'raise 53', 'check', 'fold', 'raise 29', 'fold', 'call', 'raise 20', 'bet 13', 'bet 27', 'check', 'fold', 'check', 'call', 'fold', 'check', 'fold', 'call', 'raise 91', 'fold', 'fold', 'fold', 'call', 'check', 'check', 'raise 17', 'check', 'call', 'raise 12', 'call', 'call', 'fold', 'call', 'check', 'fold', 'bet 29', 'check', 'fold', 'fold', 'call', 'fold', 'call', 'fold', 'fold', 'check', 'fold', 'raise 72', 'check', 'raise 28', 'call', 'check', 'fold', 'call', 'bet 4', 'fold', 'fold', 'check', 'fold', 'bet 25', 'check', 'raise 18', 'check', 'fold', 'check', 'check', 'call', 'check', 'call', 'check', 'fold', 'check', 'check', 'fold', 'bet 12', 'check', 'raise 45', 'check', 'raise 55', 'check', 'raise 59', 'fold', 'fold', 'fold', 'call', 'call', 'fold', 'fold', 'check', 'call', 'check', 'bet 5', 'check', 'fold', 'call', 'fold', 'raise 25', 'check', 'check', 'raise 84', 'raise 14', 'fold', 'bet 16', 'check', 'fold', 'check', 'fold', 'check', 'fold', 'fold', 'raise 12', 'call', 'fold', 'fold', 'check', 'fold', 'fold', 'bet 7', 'call', 'check', 'call', 'call', 'fold', 'fold', 'call', 'fold', 'check', 'check', 'call', 'check', 'call', 'check', 'fold', 'call', 'check', 'fold', 'check', 'raise 37', 'fold', 'call', 'call', 'fold', 'raise 66', 'raise 42', 'check', 'fold', 'fold', 'check', 'check', 'check', 'check', 'check', 'check', 'bet 4', 'check', 'check', 'check', 'fold', 'bet 14', 'fold', 'fold', 'call', 'call', 'check', 'bet 5', 'fold', 'fold', 'check', 'call', 'check', 'fold', 'call', 'fold', 'check', 'check', 'bet 5', 'fold', 'fold', 'call', 'fold', 'fold', 'call', 'check', 'check', 'check', 'raise 88', 'check', 'fold', 'check', 'call', 'fold', 'check', 'check', 'bet 28', 'check', 'fold', 'check', 'fold', 'call', 'fold', 'fold', 'call', 'check', 'check', 'check', 'raise 85', 'check', 'fold', 'fold', 'check', 'fold', 'check', 'call', 'call', 'call', 'fold', 'call', 'bet 37', 'call', 'call', 'bet 5', 'check', 'fold', 'check', 'bet 10', 'bet 19', 'fold', 'raise 28', 'fold', 'call', 'call', 'check', 'check', 'check', 'check', 'raise 81', 'check', 'call', 'call', 'check', 'fold', 'check', 'check', 'fold', 'raise 88', 'fold', 'raise 16', 'fold', 'check', 'check', 'fold', 'call', 'fold', 'fold', 'raise 12', 'check', 'check', 'call', 'check', 'check', 'raise 68', 'call', 'check', 'fold', 'check', 'raise 49', 'raise 16', 'fold', 'fold', 'raise 15', 'fold', 'call', 'fold', 'call', 'call', 'call', 'fold', 'call', 'raise 37', 'bet 23', 'call', 'call', 'fold', 'call', 'fold', 'fold', 'bet 10', 'check', 'check', 'call', 'call', 'check', 'raise 7', 'fold', 'fold', 'call', 'call', 'call', 'bet 11', 'check', 'check', 'bet 11', 'check', 'check', 'raise 88', 'check', 'check', 'raise 27', 'call', 'fold', 'raise 27', 'check', 'fold', 'raise 13', 'raise 85', 'call', 'check', 'fold', 'call', 'check', 'call', 'fold', 'fold', 'fold', 'call', 'check', 'raise 29.0', 'check', 'fold', 'call', 'raise 72', 'fold', 'call', 'check', 'fold', 'check', 'fold', 'check', 'call', 'check', 'call', 'call', 'fold', 'check', 'call', 'call', 'call', 'call', 'call', 'raise 32', 'check', 'raise 88', 'call', 'check', 'fold', 'fold', 'bet 17', 'fold', 'fold', 'bet 8', 'call', 'raise 27', 'fold', 'check', 'fold', 'bet 31', 'check', 'fold', 'call', 'check', 'fold', 'fold', 'fold', 'call', 'check', 'call', 'check', 'call', 'bet 17', 'check', 'raise 82', 'fold', 'raise 3', 'call', 'fold', 'fold', 'check', 'check', 'check', 'bet 18', 'check', 'check', 'fold', 'bet 30', 'call', 'fold', 'call', 'fold', 'check', 'call', 'raise 75', 'check', 'bet 10', 'call', 'call', 'raise 34', 'check', 'check', 'check', 'call', 'check', 'raise 82', 'raise 91', 'fold', 'check', 'bet 27', 'fold', 'bet 12', 'raise 16', 'check', 'call', 'check', 'raise 64', 'call', 'call', 'check', 'raise 12', 'fold', 'raise 80', 'call', 'call', 'fold', 'bet 8', 'call', 'check', 'check', 'call', 'check', 'check', 'check', 'check', 'fold', 'fold', 'call', 'check', 'call', 'check', 'call', 'call', 'fold', 'check', 'check', 'check', 'check', 'check', 'check', 'call', 'fold', 'raise 10', 'check', 'fold', 'raise 19', 'fold', 'check', 'call', 'fold', 'call', 'call', 'call', 'fold', 'fold', 'fold', 'call', 'call', 'fold', 'fold', 'fold', 'check', 'check', 'fold', 'fold', 'call', 'fold', 'check', 'fold', 'fold', 'check', 'call', 'fold', 'check', 'bet 32', 'check', 'check', 'fold', 'check', 'check', 'check', 'raise 16', 'call', 'fold', 'fold', 'call', 'fold', 'call', 'fold', 'fold', 'call', 'raise 85', 'check', 'check', 'call', 'fold', 'check', 'check', 'fold', 'call', 'fold', 'call', 'raise 72', 'check', 'check', 'call', 'fold', 'check', 'raise 89', 'fold', 'bet 10', 'fold', 'call', 'fold', 'check', 'call', 'check', 'fold', 'call', 'fold', 'check', 'check', 'check', 'check', 'fold', 'bet 30', 'check', 'fold', 'call', 'fold', 'check', 'check', 'check', 'raise 16', 'call', 'call', 'fold', 'call', 'fold', 'fold', 'call', 'fold', 'check', 'check', 'call', 'check', 'fold', 'raise 74', 'raise 84', 'bet 19', 'fold', 'check', 'call', 'check', 'bet 23', 'call', 'call', 'check', 'check', 'fold', 'fold', 'call', 'check', 'fold', 'fold', 'check', 'check', 'call', 'fold', 'fold', 'call', 'raise 29', 'fold', 'raise 28', 'fold', 'fold', 'fold', 'check', 'fold', 'call', 'fold', 'call', 'fold', 'fold', 'fold', 'call', 'call', 'raise 89', 'check', 'check', 'raise 38', 'bet 18', 'fold', 'fold', 'check', 'check', 'fold', 'fold', 'fold', 'fold', 'check', 'fold', 'bet 26', 'raise 81', 'fold', 'check', 'fold', 'bet 12', 'bet 15', 'fold', 'check', 'fold', 'raise 93', 'fold', 'check', 'raise 33', 'fold', 'fold', 'fold', 'raise 27', 'raise 74', 'check', 'check', 'raise 81', 'call', 'fold', 'check', 'call', 'bet 3', 'fold', 'call', 'check', 'check', 'call', 'check', 'fold', 'fold', 'check', 'fold', 'call', 'fold', 'call', 'fold', 'check', 'call', 'check', 'call', 'call', 'bet 16', 'call', 'call', 'call', 'check', 'raise 79', 'check', 'check', 'call', 'fold', 'fold', 'call', 'call', 'check', 'call', 'call', 'raise 28', 'check', 'fold', 'fold', 'check', 'fold', 'fold', 'call', 'bet 10', 'check', 'fold', 'call', 'fold', 'fold', 'fold', 'raise 3', 'call', 'fold', 'bet 10', 'bet 12', 'bet 79', 'call', 'check', 'fold', 'check', 'check', 'call', 'raise 85', 'fold', 'call', 'call', 'fold', 'fold', 'fold', 'call', 'call', 'fold', 'fold', 'check', 'fold', 'call', 'check', 'check', 'check', 'fold', 'fold', 'call', 'call', 'check', 'call', 'check', 'fold', 'call', 'check', 'check', 'call', 'raise 74', 'check', 'call', 'bet 26', 'fold', 'call', 'call', 'fold', 'fold', 'fold', 'fold', 'check', 'fold', 'check', 'fold', 'call', 'fold', 'call', 'fold', 'call', 'check', 'fold', 'call', 'bet 3', 'fold', 'raise 28', 'fold', 'fold', 'fold', 'call', 'bet 13', 'bet 3', 'check', 'fold', 'call', 'fold', 'call', 'fold', 'call', 'check', 'fold', 'call', 'bet 3', 'fold', 'fold', 'check', 'bet 23', 'fold', 'raise 73', 'call', 'check', 'raise 43', 'bet 25', 'call', 'fold', 'fold', 'check', 'call', 'check', 'fold', 'call', 'bet 23', 'check', 'call', 'call', 'fold', 'fold', 'check', 'call', 'fold', 'raise 25', 'fold', 'fold', 'raise 92', 'raise 38', 'fold', 'call', 'check', 'fold', 'fold', 'check', 'fold', 'fold', 'fold', 'check', 'check', 'bet 11', 'bet 12', 'call', 'bet 11', 'raise 27', 'check', 'check', 'call', 'bet 13', 'bet 10', 'check', 'bet 28', 'raise 16', 'check', 'check', 'fold', 'call', 'fold', 'bet 17', 'check', 'call', 'bet 11', 'check', 'check', 'raise 17', 'check', 'check', 'check', 'raise 30', 'call', 'check', 'check', 'fold', 'check', 'fold', 'check', 'fold', 'check', 'fold', 'check', 'raise 81', 'call', 'call', 'bet 5', 'bet 4', 'fold', 'check', 'call', 'check', 'fold', 'fold', 'call', 'fold', 'fold', 'fold', 'check', 'fold', 'call', 'check', 'fold', 'fold', 'call', 'bet 11', 'fold', 'fold', 'raise 33', 'call', 'call', 'call', 'call', 'check', 'fold', 'check', 'fold', 'bet 14', 'bet 52', 'fold', 'check', 'fold', 'raise 87', 'call', 'check', 'call', 'fold', 'check', 'call', 'raise 74', 'check', 'fold', 'raise 74', 'call', 'check', 'check', 'check', 'call', 'check', 'fold', 'check', 'raise 72', 'call', 'check', 'check', 'call', 'check', 'call', 'check', 'call', 'call', 'call', 'check', 'fold', 'fold', 'call', 'fold', 'check', 'call', 'call', 'fold', 'call', 'fold', 'call', 'bet 18', 'raise 31', 'fold', 'call', 'check', 'check', 'check', 'check', 'check', 'check', 'fold', 'check', 'call', 'check', 'check', 'fold', 'check', 'fold', 'check', 'check', 'call', 'fold', 'fold', 'fold', 'call', 'fold', 'fold', 'check', 'call', 'call', 'raise 39', 'fold', 'call', 'fold', 'check', 'call', 'check', 'fold', 'call', 'fold', 'fold', 'fold', 'raise 17', 'check', 'fold', 'call', 'fold', 'fold', 'call', 'call', 'fold', 'call', 'fold', 'call', 'check', 'fold', 'call', 'bet 63', 'call', 'check', 'check', 'fold', 'fold', 'fold', 'fold', 'fold', 'fold', 'fold', 'check', 'call', 'call', 'check', 'check', 'check', 'check', 'raise 84', 'raise 23', 'call', 'check', 'fold', 'raise 10', 'bet 32', 'raise 57', 'fold', 'raise 27', 'check', 'fold', 'fold', 'check', 'check', 'fold', 'fold', 'call', 'call', 'check', 'check', 'fold', 'check', 'bet 13.5', 'check', 'fold', 'check', 'check', 'call', 'call', 'fold', 'fold', 'call', 'bet 3', 'check', 'check', 'raise 78', 'check', 'fold', 'fold', 'fold', 'check', 'raise 92', 'call', 'fold', 'fold', 'fold', 'call', 'check', 'call', 'fold', 'fold', 'call', 'check', 'call', 'call', 'raise 81', 'fold', 'fold', 'fold', 'call', 'check', 'fold', 'call', 'check', 'check', 'fold', 'check', 'call', 'call', 'fold', 'call', 'call', 'raise 71', 'call', 'fold', 'check', 'bet 2', 'bet 4', 'call', 'raise 42', 'call', 'raise 80', 'check', 'bet 38', 'check', 'call', 'fold', 'bet 25', 'call', 'fold', 'check', 'check', 'bet 2', 'check', 'fold', 'raise 66', 'call', 'check', 'raise 22', 'raise 28', 'fold', 'fold', 'raise 30', 'bet 21', 'fold', 'check', 'check', 'check', 'fold', 'raise 27', 'check', 'check', 'check', 'call', 'bet 11', 'call', 'fold', 'check', 'call', 'check', 'check', 'check', 'check', 'fold', 'fold', 'check', 'check', 'check', 'call', 'call', 'fold', 'check', 'call', 'call', 'fold', 'fold', 'call', 'check', 'raise 63', 'bet 21', 'call', 'raise 54', 'call', 'check', 'call', 'check', 'check', 'check', 'check', 'fold', 'call', 'fold', 'fold', 'raise 37', 'fold', 'raise 19', 'call', 'raise 85', 'call', 'call', 'fold', 'fold', 'fold', 'fold', 'check', 'check', 'check', 'fold', 'check', 'call', 'fold', 'fold', 'fold', 'fold', 'fold', 'check', 'fold', 'fold', 'check', 'fold', 'call', 'fold', 'call', 'fold', 'call', 'fold', 'check', 'check', 'fold', 'raise 40', 'call', 'bet 22', 'bet 8', 'check', 'call', 'check', 'call', 'call', 'call', 'check', 'call', 'fold', 'fold', 'raise 38', 'call', 'fold', 'call', 'raise 40', 'bet 23', 'check', 'fold', 'call', 'call', 'call', 'check', 'call', 'check', 'check', 'check', 'check', 'bet 8', 'fold', 'fold', 'fold', 'call', 'bet 11', 'call', 'fold', 'fold', 'fold', 'call', 'fold', 'bet 28', 'fold', 'raise 89', 'check', 'fold', 'fold', 'fold', 'call', 'check', 'call', 'fold', 'check', 'fold', 'fold', 'raise 88', 'fold', 'fold', 'check', 'call', 'call', 'check', 'call', 'call', 'raise 72', 'call', 'check', 'check', 'call', 'call', 'raise 82', 'check', 'raise 31', 'call', 'check', 'raise 34', 'check', 'check', 'raise 61', 'check', 'check', 'fold', 'call', 'fold', 'check', 'bet 13', 'check', 'fold', 'call', 'call', 'call', 'fold', 'check', 'bet 19', 'fold', 'bet 5', 'check', 'fold', 'check', 'bet 11', 'call', 'fold', 'check', 'fold', 'fold', 'fold', 'fold', 'bet 27', 'bet 19', 'call', 'fold', 'call', 'call', 'call', 'fold', 'fold', 'check', 'fold', 'fold', 'fold', 'fold', 'check', 'call', 'call', 'call', 'call', 'check', 'bet 15', 'check', 'fold', 'call', 'check', 'check', 'fold', 'call', 'fold', 'check', 'fold', 'fold', 'fold', 'check', 'call', 'call', 'fold', 'call', 'check', 'fold', 'fold', 'check', 'check', 'fold', 'call', 'fold', 'call', 'call', 'bet 3', 'fold', 'fold', 'call', 'fold', 'check', 'fold', 'call', 'call', 'fold', 'call', 'raise 86', 'check', 'fold', 'raise 88', 'fold', 'bet 25', 'raise 39', 'check', 'fold', 'check', 'check', 'call', 'call', 'check', 'fold', 'check', 'call', 'bet 16', 'fold', 'check', 'call', 'fold', 'raise 27', 'check', 'fold', 'fold', 'check', 'call', 'check', 'raise 82', 'call', 'fold', 'check', 'bet 29', 'raise 20', 'raise 51', 'raise 88', 'fold', 'check', 'fold', 'call', 'fold', 'call', 'call', 'check', 'fold', 'fold', 'raise 17', 'fold', 'check', 'call', 'check', 'call', 'raise 25', 'bet 28', 'fold', 'call', 'check', 'fold', 'bet 37', 'check', 'check', 'check', 'check', 'check', 'check', 'fold', 'fold', 'check', 'check', 'check', 'fold', 'check', 'call', 'fold', 'bet 16', 'check', 'check', 'check', 'check', 'fold', 'call', 'fold', 'call', 'check', 'call', 'raise 17', 'check', 'call', 'fold', 'call', 'fold', 'check', 'check', 'fold', 'call', 'fold', 'fold', 'call', 'call', 'check', 'call', 'raise 12', 'check', 'fold', 'bet 33', 'fold', 'fold', 'raise 92', 'call', 'fold', 'fold', 'check', 'fold', 'bet 8', 'check', 'check', 'call', 'check', 'raise 42', 'check', 'call', 'bet 52', 'fold', 'call', 'check', 'raise 66', 'bet 17', 'check', 'check', 'check', 'bet 11', 'fold', 'check', 'fold', 'fold', 'call', 'check', 'bet 4', 'raise 31', 'call', 'call', 'fold', 'call', 'check', 'call', 'check', 'call', 'check', 'fold', 'bet 5', 'check', 'call', 'fold', 'fold', 'fold', 'fold', 'call', 'call', 'bet 24', 'call', 'fold', 'call', 'fold', 'call', 'check', 'bet 17', 'fold', 'raise 21', 'call', 'check', 'raise 17', 'check', 'fold', 'fold', 'call', 'raise 14', 'call', 'check', 'check', 'call', 'check', 'fold', 'call', 'check', 'check', 'raise 67', 'check', 'fold', 'check', 'fold', 'call', 'check', 'fold', 'call', 'fold', 'fold', 'fold', 'check', 'fold', 'raise 37', 'fold', 'call', 'call', 'raise 18', 'fold', 'call', 'raise 37', 'check', 'call', 'fold', 'check', 'fold', 'check', 'raise 79', 'fold', 'fold', 'call', 'fold', 'fold', 'check', 'call', 'call', 'fold', 'check', 'check', 'call', 'fold', 'raise 17', 'check', 'raise 27', 'check', 'raise 91', 'call', 'check', 'check', 'check', 'call', 'fold', 'check', 'fold', 'check', 'fold', 'call', 'fold', 'raise 40', 'raise 79', 'check', 'check', 'fold', 'fold', 'check', 'raise 48', 'fold', 'check', 'check', 'bet 48', 'check', 'bet 16', 'check', 'call', 'call', 'fold', 'check', 'check', 'call', 'fold', 'check', 'fold', 'fold', 'fold', 'check', 'check', 'fold', 'raise 17', 'check', 'call', 'check', 'check', 'call', 'call', 'check', 'check', 'check', 'fold', 'check', 'raise 32', 'call', 'bet 13', 'fold', 'call', 'check', 'check', 'fold', 'call', 'fold', 'check', 'call', 'fold', 'fold', 'check', 'fold', 'call', 'call', 'check', 'check', 'fold', 'check', 'check', 'fold', 'fold', 'check', 'check', 'call', 'call', 'check', 'call', 'bet 4', 'bet 17', 'fold', 'raise 83', 'call', 'fold', 'call', 'check', 'check', 'raise 74', 'raise 37', 'check', 'fold', 'fold', 'fold', 'raise 54', 'bet 12', 'fold', 'check', 'raise 9', 'call', 'call', 'bet 31', 'call', 'check', 'fold', 'fold', 'check', 'fold', 'call', 'bet 12', 'fold', 'fold', 'raise 16', 'call', 'call', 'fold', 'fold', 'raise 7', 'check', 'fold', 'fold', 'fold', 'fold', 'fold', 'fold', 'fold', 'fold', 'call', 'call', 'raise 40', 'raise 81', 'check', 'fold', 'call', 'fold', 'fold', 'call', 'fold', 'call', 'check', 'check', 'fold', 'raise 33', 'check', 'check', 'call', 'call', 'fold', 'raise 90', 'call', 'check', 'check', 'fold', 'fold', 'bet 10', 'fold', 'fold', 'check', 'fold', 'check', 'check', 'fold', 'fold', 'check', 'call', 'fold', 'check', 'check', 'fold', 'call', 'check', 'fold', 'fold', 'fold', 'fold', 'check', 'bet 19', 'fold', 'call', 'check', 'call', 'call', 'check', 'call', 'fold', 'fold', 'fold', 'call', 'check', 'fold', 'fold', 'raise 14', 'call', 'bet 15', 'call', 'check', 'call', 'call', 'fold', 'fold', 'check', 'check', 'call', 'call', 'bet 5', 'check', 'fold', 'check', 'fold', 'raise 79', 'call', 'check', 'check', 'fold', 'check', 'fold', 'check', 'fold', 'raise 30', 'check', 'fold', 'call', 'fold', 'fold', 'raise 91', 'check', 'bet 4', 'fold', 'fold', 'fold', 'fold', 'call', 'fold', 'call', 'check', 'fold', 'check', 'check', 'bet 17', 'fold', 'raise 56', 'fold', 'fold', 'check', 'call', 'fold', 'fold', 'check', 'check', 'fold', 'call', 'fold', 'bet 8', 'call', 'check', 'fold', 'check', 'fold', 'raise 72', 'call', 'check', 'fold', 'call', 'call', 'check', 'check', 'call', 'fold', 'check', 'check', 'raise 38', 'fold', 'call', 'fold', 'call', 'call', 'check', 'call', 'check', 'check', 'check', 'fold', 'fold', 'check', 'fold', 'call', 'fold', 'fold', 'raise 53', 'check', 'fold', 'fold', 'call', 'call', 'fold', 'call', 'fold', 'check', 'check', 'call', 'raise 82', 'fold', 'check', 'check', 'bet 34', 'check', 'check', 'call', 'bet 13', 'check', 'raise 51', 'fold', 'bet 17', 'check', 'fold', 'call', 'call', 'call', 'call', 'fold', 'check', 'raise 92', 'check', 'call', 'fold', 'check', 'raise 18', 'check', 'call', 'fold', 'bet 27', 'fold', 'call', 'check', 'call', 'call', 'raise 11', 'call', 'check', 'call', 'fold', 'fold', 'call', 'call', 'check', 'check', 'fold', 'fold', 'fold', 'check', 'call', 'check', 'fold', 'raise 78', 'bet 11', 'fold', 'call', 'check', 'check', 'raise 11', 'call', 'check', 'check', 'call', 'fold', 'check', 'fold', 'check', 'call', 'fold', 'bet 17', 'raise 123', 'fold', 'raise 80', 'fold', 'check', 'raise 27', 'fold', 'call', 'check', 'check', 'check', 'check', 'fold', 'raise 41', 'check', 'fold', 'call', 'call', 'check', 'check', 'check', 'check', 'raise 35', 'call', 'fold', 'check', 'fold', 'call', 'fold', 'fold', 'check', 'check', 'call', 'call', 'call', 'fold', 'call', 'call', 'check', 'check', 'fold', 'check', 'check', 'check', 'call', 'fold', 'raise 28', 'fold', 'fold', 'call', 'call', 'check', 'check', 'fold', 'call', 'check', 'call', 'fold', 'check', 'fold', 'check', 'call', 'check', 'check', 'raise 28', 'call', 'check', 'check', 'call', 'check', 'check', 'raise 12', 'call', 'check', 'bet 10', 'fold', 'call', 'call', 'check', 'fold', 'bet 4', 'fold', 'call', 'fold', 'check', 'check', 'check', 'fold', 'check', 'raise 53', 'check', 'check', 'raise 86', 'fold', 'raise 12', 'check', 'bet 21', 'call', 'fold', 'check', 'check', 'bet 5', 'fold', 'raise 38', 'check', 'check', 'fold', 'fold', 'fold', 'call', 'check', 'check', 'fold', 'call', 'call', 'call', 'fold', 'check', 'raise 66', 'check', 'check', 'fold', 'fold', 'check', 'check', 'check', 'call', 'fold', 'call', 'fold', 'check', 'check', 'check', 'check', 'fold', 'fold', 'fold', 'fold', 'fold', 'fold', 'fold', 'bet 3', 'check', 'bet 7', 'fold', 'raise 12', 'fold', 'check', 'check', 'call', 'fold', 'check', 'fold', 'raise 22', 'check', 'check', 'fold', 'fold', 'call', 'fold', 'call', 'check', 'fold', 'fold', 'check', 'check', 'check', 'call', 'check', 'fold', 'fold', 'fold', 'fold', 'fold', 'fold', 'call', 'check', 'call', 'call', 'check', 'call', 'call', 'raise 30', 'raise 21', 'call', 'check', 'fold', 'call', 'fold', 'raise 15', 'check', 'fold', 'fold', 'check', 'fold', 'fold', 'check', 'fold', 'check', 'fold', 'check', 'check', 'call', 'check', 'call', 'fold', 'fold', 'fold', 'check', 'fold', 'fold', 'bet 11', 'check', 'fold', 'call', 'call', 'call', 'call', 'call', 'check', 'fold', 'fold', 'call', 'call', 'call', 'fold', 'fold', 'raise 43', 'check', 'call', 'raise 73', 'bet 8', 'check', 'fold', 'fold', 'check', 'fold', 'call', 'call', 'fold', 'fold', 'call', 'check', 'call', 'raise 82', 'check', 'call', 'fold', 'call', 'check', 'call', 'check', 'call', 'fold', 'raise 74', 'check', 'fold', 'call', 'call', 'check', 'call', 'bet 8', 'fold', 'raise 79', 'call', 'check', 'check', 'check', 'check', 'bet 11', 'check', 'check', 'check', 'call', 'check', 'bet 29', 'fold', 'call', 'raise 36', 'call', 'fold', 'raise 47', 'fold', 'check', 'check', 'check', 'check', 'call', 'fold', 'raise 72', 'raise 55', 'bet 23', 'call', 'fold', 'check', 'fold', 'fold', 'raise 10', 'fold', 'call', 'check', 'call', 'call', 'check', 'call', 'check', 'call', 'fold', 'fold', 'raise 13', 'raise 39', 'fold', 'call', 'raise 87', 'check', 'bet 22', 'fold', 'fold', 'call', 'call', 'raise 18', 'fold', 'fold', 'call', 'call', 'fold', 'call', 'fold', 'call', 'fold', 'raise 63', 'check', 'fold', 'check', 'call', 'fold', 'fold', 'call', 'fold', 'call', 'fold', 'bet 4', 'call', 'call', 'fold', 'fold', 'check', 'check', 'fold', 'call', 'check', 'check', 'check', 'bet 55', 'check', 'check', 'check', 'call', 'raise 82', 'call', 'call', 'fold', 'check', 'fold', 'call', 'fold', 'bet 14', 'call', 'raise 77', 'fold', 'raise 121', 'call', 'check', 'check', 'bet 21', 'fold', 'fold', 'check', 'check', 'fold', 'call', 'check', 'check', 'fold', 'check', 'check', 'check', 'fold', 'call', 'raise 17', 'fold', 'check', 'fold', 'call', 'check', 'call', 'call', 'raise 73', 'bet 29', 'fold', 'call', 'bet 18', 'fold', 'fold', 'raise 44', 'check', 'call', 'check', 'fold', 'raise 46', 'bet 14', 'check', 'check', 'fold', 'check', 'check', 'fold', 'call', 'call', 'fold', 'fold', 'check', 'check', 'check', 'call', 'call', 'check', 'check', 'call', 'bet 13', 'bet 35', 'raise 77', 'call', 'call', 'check', 'call', 'call', 'call', 'fold', 'bet 32', 'call', 'fold', 'raise 33', 'check', 'raise 88', 'call', 'fold', 'check', 'check', 'call', 'fold', 'check', 'check', 'call', 'check', 'check', 'call', 'call', 'call', 'call', 'check', 'bet 10', 'check', 'call', 'fold', 'fold', 'call', 'call', 'fold', 'fold', 'call', 'call', 'raise 11', 'call', 'check', 'raise 34', 'check', 'call', 'fold', 'fold', 'fold', 'fold', 'check', 'fold', 'call', 'fold', 'check', 'fold', 'check', 'bet 11', 'fold', 'raise 11', 'raise 85', 'call', 'check', 'call', 'check', 'fold', 'check', 'raise 31', 'fold', 'fold', 'call', 'check', 'raise 43', 'fold', 'check', 'fold', 'raise 78', 'call', 'fold', 'check', 'check', 'call', 'fold', 'fold', 'fold', 'fold', 'check', 'check', 'call', 'check', 'bet 11', 'check', 'check', 'fold', 'call', 'raise 80', 'bet 10', 'call', 'call', 'fold', 'check', 'fold', 'fold', 'raise 76', 'call', 'check', 'check', 'call', 'call', 'call', 'call', 'call', 'check', 'call', 'check', 'fold', 'check', 'call', 'bet 32', 'check', 'call', 'fold', 'check', 'call', 'call', 'call', 'fold', 'fold', 'call', 'fold', 'fold', 'fold', 'check', 'check', 'call', 'check', 'raise 7', 'check', 'call', 'fold', 'check', 'check', 'check', 'fold', 'check', 'fold', 'check', 'check', 'call', 'fold', 'raise 10', 'check', 'check', 'fold', 'bet 30', 'fold', 'check', 'call', 'call', 'fold', 'call', 'fold', 'raise 17', 'check', 'fold', 'raise 19', 'call', 'fold', 'bet 17', 'fold', 'call', 'check', 'call', 'fold', 'bet 21', 'raise 24', 'check', 'check', 'call', 'fold', 'fold', 'call', 'fold', 'call', 'call', 'call', 'check', 'fold', 'call', 'call', 'bet 11', 'call', 'raise 76', 'fold', 'fold', 'call', 'fold', 'check', 'call', 'fold', 'call', 'call', 'fold', 'check', 'call', 'fold', 'call', 'fold', 'check', 'check', 'fold', 'fold', 'fold', 'bet 5', 'fold', 'fold', 'call', 'call', 'check', 'check', 'fold', 'fold', 'call', 'bet 3', 'check', 'fold', 'check', 'call', 'fold', 'check', 'check', 'fold', 'check', 'check', 'call', 'fold', 'call', 'check', 'fold', 'fold', 'check', 'bet 18', 'check', 'fold', 'fold', 'check', 'fold', 'call', 'bet 12', 'call', 'raise 13', 'call', 'raise 57', 'call', 'fold', 'fold', 'fold', 'call', 'check', 'call', 'fold', 'fold', 'fold', 'check', 'call', 'check', 'raise 18', 'call', 'call', 'fold', 'fold', 'fold', 'call', 'call', 'fold', 'call', 'fold', 'call', 'fold', 'check', 'check', 'call', 'raise 31', 'check', 'check', 'check', 'fold', 'call', 'check', 'raise 85', 'bet 28', 'raise 64', 'call', 'call', 'check', 'check', 'call', 'call', 'check', 'fold', 'check', 'fold', 'bet 15', 'fold', 'check', 'fold', 'raise 77', 'call', 'bet 11', 'call', 'fold', 'bet 8', 'fold', 'check', 'fold', 'call', 'call', 'check', 'call', 'fold', 'bet 11', 'raise 32', 'raise 29', 'fold', 'raise 44', 'fold', 'check', 'call', 'call', 'call', 'call', 'check', 'check', 'check', 'check', 'bet 44', 'fold', 'check', 'call', 'check', 'raise 16', 'check', 'fold', 'call', 'fold', 'raise 27', 'fold', 'check', 'fold', 'bet 18', 'fold', 'call', 'check', 'call', 'call', 'bet 21', 'call', 'call', 'call', 'fold', 'fold', 'call', 'bet 27', 'call', 'fold', 'bet 13', 'bet 28', 'check', 'fold', 'check', 'check', 'raise 75', 'call', 'fold', 'check', 'call', 'fold', 'check', 'fold', 'fold', 'call', 'bet 21', 'raise 8', 'call', 'call', 'call', 'check', 'call', 'raise 92', 'fold', 'check', 'fold', 'check', 'fold', 'fold', 'call', 'raise 27', 'fold', 'call', 'raise 54', 'check', 'check', 'check', 'call', 'fold', 'call', 'check', 'fold', 'fold', 'call', 'call', 'call', 'fold', 'fold', 'fold', 'check', 'call', 'fold', 'call', 'check', 'call', 'fold', 'call', 'fold', 'call', 'fold', 'check', 'check', 'fold', 'check', 'call', 'check', 'raise 127', 'check', 'fold', 'call', 'call', 'fold', 'check', 'call', 'call', 'fold', 'fold', 'call', 'fold', 'fold', 'check', 'call', 'fold', 'fold', 'check', 'call', 'fold', 'bet 40', 'raise 13', 'check', 'fold', 'raise 97', 'fold', 'fold', 'bet 4', 'fold', 'call', 'check', 'call', 'call', 'fold', 'fold', 'raise 2.0', 'fold', 'raise 2.0', 'call', 'call', 'fold', 'fold', 'fold', 'fold', 'call', 'call', 'call', 'call', 'fold', 'call', 'raise 2.0', 'fold', 'fold', 'raise 2.5', 'raise 2.5', 'call', 'fold', 'fold', 'raise 2.5', 'fold', 'fold', 'raise 2.0', 'raise 2.0', 'call', 'fold', 'call', 'call', 'fold', 'raise 2.5', 'call', 'fold', 'call', 'fold', 'call', 'call', 'fold', 'raise 2.5', 'raise 2.0', 'raise 2.0', 'call', 'call', 'call', 'call', 'call', 'raise 2.5', 'fold', 'raise 29', 'call', 'fold', 'call', 'fold', 'fold', 'raise 2.5', 'raise 2.5', 'call', 'call', 'raise 2.5', 'call', 'fold', 'call', 'fold', 'fold', 'raise 7.0', 'call', 'raise 2.5', 'raise 4.8', 'call', 'call', 'fold', 'call', 'fold', 'call', 'fold', 'fold', 'fold', 'call', 'call', 'fold', 'fold', 'call', 'fold', 'call', 'fold', 'raise 13.0', 'fold', 'raise 2.5', 'raise 11.0', 'call', 'call', 'raise 2.0', 'fold', 'fold', 'fold', 'call', 'call', 'fold', 'raise 2.5', 'raise 12.0', 'raise 2.0', 'raise 2.0', 'call', 'call', 'fold', 'raise 2.5', 'call', 'fold', 'fold', 'raise 2.5', 'raise 55', 'call', 'fold', 'call', 'fold', 'fold', 'raise 2.0', 'fold', 'fold', 'call', 'call', 'call', 'fold', 'call', 'fold', 'fold', 'fold', 'call', 'call', 'fold', 'raise 2.5', 'raise 2.5', 'raise 2.0', 'call', 'raise 2.5', 'raise 2.5', 'raise 26.', 'fold', 'raise 2.5', 'call', 'call', 'call', 'raise 11.0', 'raise 2.5', 'call', 'call', 'fold', 'raise 16.5', 'call', 'call', 'fold', 'call', 'call', 'call', 'call', 'raise 2.0', 'call', 'raise 13.5', 'fold', 'fold', 'raise 2.0', 'raise 2.0', 'fold', 'fold', 'fold', 'raise 2.5', 'call', 'call', 'fold', 'raise 2.5', 'call', 'fold', 'raise 2.5', 'fold', 'call', 'fold', 'call', 'fold', 'raise 10.0', 'call', 'call', 'raise 2.5', 'fold', 'fold', 'call', 'raise 2.0', 'raise 2.0', 'fold', 'fold', 'fold', 'raise 2.0', 'call', 'raise 55', 'raise 13', 'call', 'fold', 'fold', 'call', 'call', 'call', 'call', 'fold', 'call', 'fold', 'call', 'raise 41', 'raise 2.5', 'raise 2.5', 'raise 2.5', 'fold', 'call', 'call', 'call', 'call', 'raise 2.5', 'call', 'fold', 'call', 'fold', 'fold', 'raise 2.0', 'raise 2.0', 'fold', 'call', 'fold', 'fold', 'call', 'fold', 'fold', 'call', 'call', 'raise 2.5', 'fold', 'call', 'raise 2.0', 'raise 12.5', 'fold', 'fold', 'call', 'fold', 'raise 2.0', 'call', 'fold', 'raise 2.0', 'raise 2.5', 'call', 'raise 2.5', 'fold', 'call', 'call', 'raise 33', 'fold', 'raise 2.5', 'raise 2.5', 'raise 10.0', 'fold', 'raise 2.5', 'raise 2.0', 'raise 2.0', 'fold', 'call', 'raise 2.0', 'call', 'fold', 'fold', 'call', 'raise 2.0', 'fold', 'call', 'raise 36.0', 'fold', 'raise 13.0', 'call', 'call', 'fold', 'raise 2.0', 'raise 30', 'fold', 'call', 'fold', 'raise 2.5', 'call', 'fold', 'call', 'fold', 'fold', 'call', 'call', 'call', 'fold', 'raise 2.0', 'raise 2.0', 'call', 'raise 2.3', 'fold', 'fold', 'call', 'raise 44', 'call', 'fold', 'call', 'raise 45.0', 'raise 30.0', 'call', 'call', 'raise 44', 'raise 2.5', 'raise 2.0', 'call', 'raise 2.0', 'fold', 'call', 'call', 'call', 'fold', 'call', 'raise 2.0', 'fold', 'fold', 'call', 'raise 2.5', 'call', 'fold', 'raise 10.0', 'fold', 'call', 'raise 2.5', 'call', 'call', 'raise 2.0', 'call', 'call', 'call', 'call', 'fold', 'raise 2.5', 'call', 'raise 7.0', 'call', 'raise 2.5', 'call', 'fold', 'fold', 'raise 2.5', 'call', 'raise 2.0', 'call', 'raise 2.0', 'raise 2.0', 'call', 'fold', 'fold', 'call', 'fold', 'call', 'raise 2.5', 'raise 2.5', 'fold', 'call', 'call', 'fold', 'call', 'call', 'fold', 'fold', 'call', 'raise 2.0', 'raise 2.3', 'call', 'call', 'fold', 'call', 'fold', 'fold', 'fold', 'call', 'fold', 'raise 2.0', 'raise 2.3', 'raise 55', 'raise 2.5', 'raise 2.5', 'fold', 'fold', 'fold', 'fold', 'fold', 'fold', 'raise 2.5', 'fold', 'fold', 'call', 'fold', 'call', 'raise 2.0', 'call', 'call', 'raise 2.5', 'fold', 'call', 'raise 2.5', 'fold', 'fold', 'fold', 'call', 'call', 'fold', 'raise 2.0', 'raise 2.0', 'call', 'call', 'fold', 'fold', 'call', 'fold', 'fold', 'call', 'fold', 'raise 25.0', 'fold', 'call', 'fold', 'raise 2.0', 'fold', 'call', 'fold', 'raise 2.5', 'call', 'raise 2.0', 'fold', 'fold', 'fold', 'call', 'call', 'raise 2.0', 'call', 'raise 5.5', 'fold', 'call', 'call', 'call', 'raise 2.0', 'fold', 'raise 29.0', 'fold', 'raise 2.5', 'call', 'fold', 'fold', 'fold', 'call', 'call', 'call', 'call', 'call', 'fold', 'fold', 'fold', 'call', 'fold', 'fold', 'call', 'call', 'fold', 'call', 'fold', 'fold', 'fold', 'raise 2.5', 'fold', 'call', 'call', 'raise 2.0', 'call', 'fold', 'call', 'call', 'raise 10.0', 'call', 'call', 'raise 12.0', 'call', 'raise 2.5', 'call', 'call', 'raise 10.0', 'fold', 'fold', 'call', 'fold', 'raise 2.0', 'fold', 'raise 10.0', 'raise 2.5', 'fold', 'call', 'fold', 'fold', 'raise 2.0', 'fold', 'raise 2.5', 'call', 'fold', 'fold', 'call', 'call', 'fold', 'raise 2.3', 'fold', 'fold', 'call', 'fold', 'raise 2.0', 'call', 'call', 'raise 2.3', 'fold', 'raise 2.0', 'call', 'raise 2.0', 'fold', 'call', 'raise 2.5', 'fold', 'call', 'call', 'call', 'raise 2.0', 'call', 'fold', 'call', 'fold', 'raise 2.5', 'raise 2.0', 'raise 2.3', 'fold', 'fold', 'raise 10', 'fold', 'call', 'fold', 'raise 12.5', 'call', 'call', 'fold', 'fold', 'fold', 'raise 77', 'raise 2.3', 'fold', 'fold', 'fold', 'call', 'fold', 'raise 2.0', 'call', 'call', 'fold', 'raise 2.5', 'raise 2.0', 'raise 2.0', 'call', 'fold', 'fold', 'fold', 'raise 2.5', 'fold', 'raise 2.0', 'call', 'raise 2.0', 'call', 'raise 2.0', 'fold', 'fold', 'call', 'fold', 'call', 'raise 2.0', 'fold', 'fold', 'fold', 'call', 'raise 8.5', 'fold', 'raise 2.0', 'raise 2.0', 'raise 2.0', 'call', 'call', 'call', 'raise 2.0', 'call', 'fold', 'raise 2.0', 'call', 'fold', 'fold', 'fold', 'call', 'call', 'fold', 'raise 2.0', 'fold', 'call', 'raise 2.3', 'fold', 'raise 2.0', 'call', 'call', 'fold', 'raise 13.5', 'call', 'fold', 'fold', 'call', 'fold', 'fold', 'fold', 'fold', 'call', 'call', 'call', 'call', 'fold', 'fold', 'call', 'fold', 'call', 'call', 'call', 'call', 'fold', 'fold', 'raise 10.0', 'call', 'fold', 'call', 'fold', 'call', 'raise 2.0', 'raise 2.3', 'call', 'raise 10', 'raise 2.5', 'call', 'raise 13.0', 'fold', 'call', 'call', 'fold', 'fold', 'fold', 'fold', 'call', 'call', 'raise 2.5', 'call', 'raise 5.5', 'call', 'raise 2.5', 'call', 'fold', 'fold', 'raise 2.5', 'fold', 'raise 2.0', 'fold', 'call', 'fold', 'fold', 'raise 100', 'raise 2.5', 'call', 'call', 'fold', 'raise 2.0', 'fold', 'call', 'fold', 'fold', 'raise 13.8', 'call', 'fold', 'fold', 'raise 2.5', 'call', 'call', 'fold', 'fold', 'raise 2.5', 'call', 'raise 13.0', 'call', 'call', 'raise 26.8', 'call', 'raise 32.5', 'call', 'call', 'fold', 'fold', 'call', 'fold', 'call', 'raise 2.5', 'call', 'fold', 'fold', 'call', 'raise 2.0', 'raise 2.0', 'raise 2.5', 'call', 'fold', 'call', 'fold', 'fold', 'fold', 'call', 'raise 8.0', 'call', 'call', 'fold', 'call', 'raise 11.0', 'call', 'fold', 'call', 'call', 'fold', 'fold', 'call', 'fold', 'fold', 'raise 2.0', 'raise 13.5', 'fold', 'raise 2.0', 'raise 2.0', 'fold', 'raise 2.5', 'call', 'fold', 'call', 'call', 'call', 'raise 2.0', 'fold', 'call', 'fold', 'fold', 'raise 2.0', 'call', 'fold', 'fold', 'fold', 'call', 'fold', 'fold', 'call', 'call', 'fold', 'raise 2.0', 'raise 2.0', 'call', 'fold', 'call', 'fold', 'call', 'call', 'call', 'call', 'call', 'fold', 'fold', 'raise 2.5', 'call', 'fold', 'raise 2.0', 'call', 'call', 'call', 'call', 'call', 'raise 2.0', 'call', 'raise 39.0', 'fold', 'raise 2.0', 'call', 'raise 2.5', 'raise 2.0', 'fold', 'fold', 'fold', 'call', 'call', 'raise 2.5', 'raise 2.5', 'raise 13.0', 'raise 34.0', 'fold', 'raise 2.0', 'raise 2.5', 'fold', 'call', 'fold', 'raise 2.5', 'fold', 'call', 'call', 'call', 'fold', 'call', 'raise 2.0', 'call', 'raise 2.0', 'fold', 'call', 'call', 'call', 'raise 2.5', 'raise 2.5', 'raise 2.5', 'fold', 'raise 2.0', 'call', 'fold', 'raise 2.0', 'call', 'call', 'call', 'call', 'fold', 'call', 'fold', 'fold', 'call', 'raise 2.0', 'raise 2.0', 'call', 'fold', 'call', 'call', 'raise 2.5', 'raise 2.5', 'fold', 'raise 42.0', 'fold', 'call', 'fold', 'fold', 'call', 'raise 2.0', 'fold', 'call', 'fold', 'call', 'raise 2.5', 'raise 10.8', 'fold', 'fold', 'raise 13.0', 'call', 'raise 2.5', 'fold', 'raise 2.5', 'call', 'fold', 'fold', 'raise 5.5', 'call', 'call', 'call', 'raise 2.0', 'fold', 'raise 2.5', 'call', 'fold', 'fold', 'fold', 'raise 2.0', 'raise 2.5', 'fold', 'raise 32.8', 'fold', 'raise 13.1', 'call', 'raise 2.5', 'call', 'call', 'fold', 'fold', 'fold', 'call', 'fold', 'call', 'fold', 'raise 2.0', 'fold', 'call', 'raise 2.5', 'raise 2.0', 'fold', 'call', 'call', 'fold', 'fold', 'fold', 'call', 'fold', 'fold', 'fold', 'fold', 'call', 'raise 13.0', 'raise 28.5', 'fold', 'call', 'fold', 'call', 'fold', 'call', 'raise 2.0', 'fold', 'call', 'fold', 'raise 2.5', 'call', 'call', 'fold', 'call', 'fold', 'call', 'fold', 'fold', 'call', 'call', 'fold', 'call', 'raise 2.0', 'call', 'call', 'call', 'raise 2.5', 'fold', 'call', 'raise 2.5', 'call', 'fold', 'raise 10.0', 'call', 'fold', 'raise 2.5', 'raise 2.0', 'raise 2.5', 'fold', 'fold', 'call', 'fold', 'fold', 'raise 2.0', 'call', 'fold', 'raise 2.5', 'fold', 'raise 33', 'raise 2.3', 'call', 'fold', 'call', 'raise 2.5', 'fold', 'call', 'call', 'call', 'raise 2.5', 'fold', 'fold', 'call', 'fold', 'raise 2.5', 'call', 'call', 'fold', 'call', 'call', 'fold', 'fold', 'raise 2.5', 'raise 2.5', 'raise 2.5', 'raise 2.5', 'call']\n"
          ]
        }
      ]
    }
  ]
}